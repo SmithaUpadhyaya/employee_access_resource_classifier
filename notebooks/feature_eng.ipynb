{
 "cells": [
  {
   "cell_type": "code",
   "execution_count": 11,
   "metadata": {},
   "outputs": [],
   "source": [
    "import os\n",
    "import utils.read_utils as hlpread\n",
    "from config.config import CONFIGURATION_PATH\n",
    "from itertools import permutations, combinations"
   ]
  },
  {
   "cell_type": "code",
   "execution_count": 3,
   "metadata": {},
   "outputs": [
    {
     "data": {
      "text/plain": [
       "'f:\\\\github_workspace\\\\employee_access_resource_classifier\\\\data\\\\clean_train.csv'"
      ]
     },
     "execution_count": 3,
     "metadata": {},
     "output_type": "execute_result"
    }
   ],
   "source": [
    "current_dir = os.path.dirname(os.path.realpath('__file__'))\n",
    "PROJECT_ROOT = os.path.abspath(os.path.join(current_dir, os.pardir))\n",
    "PROJECT_ROOT\n",
    "\n",
    "train_data = os.path.join(PROJECT_ROOT, \n",
    "                          hlpread.read_yaml_key(os.path.join(PROJECT_ROOT, CONFIGURATION_PATH),\n",
    "                                                'data_source',\n",
    "                                                'data_folders'),\n",
    "                          hlpread.read_yaml_key(os.path.join(PROJECT_ROOT, CONFIGURATION_PATH),\n",
    "                                                'data_source',\n",
    "                                                'clean_train'),\n",
    "                        )\n",
    "\n",
    "train_data"
   ]
  },
  {
   "cell_type": "code",
   "execution_count": 19,
   "metadata": {},
   "outputs": [
    {
     "name": "stdout",
     "output_type": "stream",
     "text": [
      "(30391, 10)\n"
     ]
    },
    {
     "data": {
      "text/html": [
       "<div>\n",
       "<style scoped>\n",
       "    .dataframe tbody tr th:only-of-type {\n",
       "        vertical-align: middle;\n",
       "    }\n",
       "\n",
       "    .dataframe tbody tr th {\n",
       "        vertical-align: top;\n",
       "    }\n",
       "\n",
       "    .dataframe thead th {\n",
       "        text-align: right;\n",
       "    }\n",
       "</style>\n",
       "<table border=\"1\" class=\"dataframe\">\n",
       "  <thead>\n",
       "    <tr style=\"text-align: right;\">\n",
       "      <th></th>\n",
       "      <th>ACTION</th>\n",
       "      <th>RESOURCE</th>\n",
       "      <th>MGR_ID</th>\n",
       "      <th>ROLE_ROLLUP_1</th>\n",
       "      <th>ROLE_ROLLUP_2</th>\n",
       "      <th>ROLE_DEPTNAME</th>\n",
       "      <th>ROLE_TITLE</th>\n",
       "      <th>ROLE_FAMILY_DESC</th>\n",
       "      <th>ROLE_FAMILY</th>\n",
       "      <th>ROLE_CODE</th>\n",
       "    </tr>\n",
       "  </thead>\n",
       "  <tbody>\n",
       "    <tr>\n",
       "      <th>0</th>\n",
       "      <td>1</td>\n",
       "      <td>39353</td>\n",
       "      <td>85475</td>\n",
       "      <td>117961</td>\n",
       "      <td>118300</td>\n",
       "      <td>123472</td>\n",
       "      <td>117905</td>\n",
       "      <td>117906</td>\n",
       "      <td>290919</td>\n",
       "      <td>117908</td>\n",
       "    </tr>\n",
       "    <tr>\n",
       "      <th>1</th>\n",
       "      <td>1</td>\n",
       "      <td>17183</td>\n",
       "      <td>1540</td>\n",
       "      <td>117961</td>\n",
       "      <td>118343</td>\n",
       "      <td>123125</td>\n",
       "      <td>118536</td>\n",
       "      <td>118536</td>\n",
       "      <td>308574</td>\n",
       "      <td>118539</td>\n",
       "    </tr>\n",
       "    <tr>\n",
       "      <th>2</th>\n",
       "      <td>1</td>\n",
       "      <td>36724</td>\n",
       "      <td>14457</td>\n",
       "      <td>118219</td>\n",
       "      <td>118220</td>\n",
       "      <td>117884</td>\n",
       "      <td>117879</td>\n",
       "      <td>267952</td>\n",
       "      <td>19721</td>\n",
       "      <td>117880</td>\n",
       "    </tr>\n",
       "    <tr>\n",
       "      <th>3</th>\n",
       "      <td>1</td>\n",
       "      <td>36135</td>\n",
       "      <td>5396</td>\n",
       "      <td>117961</td>\n",
       "      <td>118343</td>\n",
       "      <td>119993</td>\n",
       "      <td>118321</td>\n",
       "      <td>240983</td>\n",
       "      <td>290919</td>\n",
       "      <td>118322</td>\n",
       "    </tr>\n",
       "    <tr>\n",
       "      <th>4</th>\n",
       "      <td>1</td>\n",
       "      <td>42680</td>\n",
       "      <td>5905</td>\n",
       "      <td>117929</td>\n",
       "      <td>117930</td>\n",
       "      <td>119569</td>\n",
       "      <td>119323</td>\n",
       "      <td>123932</td>\n",
       "      <td>19793</td>\n",
       "      <td>119325</td>\n",
       "    </tr>\n",
       "  </tbody>\n",
       "</table>\n",
       "</div>"
      ],
      "text/plain": [
       "   ACTION  RESOURCE  MGR_ID  ROLE_ROLLUP_1  ROLE_ROLLUP_2  ROLE_DEPTNAME  \\\n",
       "0       1     39353   85475         117961         118300         123472   \n",
       "1       1     17183    1540         117961         118343         123125   \n",
       "2       1     36724   14457         118219         118220         117884   \n",
       "3       1     36135    5396         117961         118343         119993   \n",
       "4       1     42680    5905         117929         117930         119569   \n",
       "\n",
       "   ROLE_TITLE  ROLE_FAMILY_DESC  ROLE_FAMILY  ROLE_CODE  \n",
       "0      117905            117906       290919     117908  \n",
       "1      118536            118536       308574     118539  \n",
       "2      117879            267952        19721     117880  \n",
       "3      118321            240983       290919     118322  \n",
       "4      119323            123932        19793     119325  "
      ]
     },
     "execution_count": 19,
     "metadata": {},
     "output_type": "execute_result"
    }
   ],
   "source": [
    "db_train = hlpread.read_from_parquet(train_data)\n",
    "\n",
    "print(db_train.shape)\n",
    "db_train.head()"
   ]
  },
  {
   "cell_type": "code",
   "execution_count": 20,
   "metadata": {},
   "outputs": [
    {
     "data": {
      "text/plain": [
       "['RESOURCE',\n",
       " 'ROLE_ROLLUP_1',\n",
       " 'ROLE_ROLLUP_2',\n",
       " 'ROLE_DEPTNAME',\n",
       " 'ROLE_FAMILY_DESC',\n",
       " 'ROLE_FAMILY',\n",
       " 'ROLE_CODE']"
      ]
     },
     "execution_count": 20,
     "metadata": {},
     "output_type": "execute_result"
    }
   ],
   "source": [
    "target_col = 'ACTION'\n",
    "col_use = [x for x in db_train.columns if not x in [target_col, 'ROLE_TITLE', 'MGR_ID']] \n",
    "#['ACTION', 'RESOURCE',  \"ROLE_ROLLUP_2\", 'ROLE_DEPTNAME','ROLE_FAMILY_DESC', 'ROLE_CODE']\n",
    "col_use"
   ]
  },
  {
   "cell_type": "code",
   "execution_count": 14,
   "metadata": {},
   "outputs": [
    {
     "data": {
      "text/plain": [
       "RESOURCE            7518\n",
       "ROLE_ROLLUP_1        128\n",
       "ROLE_ROLLUP_2        177\n",
       "ROLE_DEPTNAME        449\n",
       "ROLE_FAMILY_DESC    2358\n",
       "ROLE_FAMILY           67\n",
       "ROLE_CODE            343\n",
       "dtype: int64"
      ]
     },
     "execution_count": 14,
     "metadata": {},
     "output_type": "execute_result"
    }
   ],
   "source": [
    "db_train[col_use].nunique()"
   ]
  },
  {
   "cell_type": "code",
   "execution_count": 21,
   "metadata": {},
   "outputs": [
    {
     "name": "stdout",
     "output_type": "stream",
     "text": [
      "<class 'pandas.core.frame.DataFrame'>\n",
      "Int64Index: 30391 entries, 0 to 32768\n",
      "Data columns (total 10 columns):\n",
      " #   Column            Non-Null Count  Dtype \n",
      "---  ------            --------------  ----- \n",
      " 0   ACTION            30391 non-null  int64 \n",
      " 1   RESOURCE          30391 non-null  object\n",
      " 2   MGR_ID            30391 non-null  int64 \n",
      " 3   ROLE_ROLLUP_1     30391 non-null  object\n",
      " 4   ROLE_ROLLUP_2     30391 non-null  object\n",
      " 5   ROLE_DEPTNAME     30391 non-null  object\n",
      " 6   ROLE_TITLE        30391 non-null  int64 \n",
      " 7   ROLE_FAMILY_DESC  30391 non-null  object\n",
      " 8   ROLE_FAMILY       30391 non-null  object\n",
      " 9   ROLE_CODE         30391 non-null  object\n",
      "dtypes: int64(3), object(7)\n",
      "memory usage: 2.6+ MB\n"
     ]
    }
   ],
   "source": [
    "db_train[col_use] = db_train[col_use].applymap(str)\n",
    "db_train.info()"
   ]
  },
  {
   "cell_type": "code",
   "execution_count": 22,
   "metadata": {},
   "outputs": [
    {
     "name": "stdout",
     "output_type": "stream",
     "text": [
      "1: RESOURCE-ROLE_ROLLUP_1\n",
      "==================================================\n",
      "2: RESOURCE-ROLE_ROLLUP_2\n",
      "==================================================\n",
      "3: RESOURCE-ROLE_DEPTNAME\n",
      "==================================================\n",
      "4: RESOURCE-ROLE_FAMILY_DESC\n",
      "==================================================\n",
      "5: RESOURCE-ROLE_FAMILY\n",
      "==================================================\n",
      "6: RESOURCE-ROLE_CODE\n",
      "==================================================\n",
      "7: ROLE_ROLLUP_1-RESOURCE\n",
      "==================================================\n",
      "8: ROLE_ROLLUP_1-ROLE_ROLLUP_2\n",
      "==================================================\n",
      "9: ROLE_ROLLUP_1-ROLE_DEPTNAME\n",
      "==================================================\n",
      "10: ROLE_ROLLUP_1-ROLE_FAMILY_DESC\n",
      "==================================================\n",
      "11: ROLE_ROLLUP_1-ROLE_FAMILY\n",
      "==================================================\n",
      "12: ROLE_ROLLUP_1-ROLE_CODE\n",
      "==================================================\n",
      "13: ROLE_ROLLUP_2-RESOURCE\n",
      "==================================================\n",
      "14: ROLE_ROLLUP_2-ROLE_ROLLUP_1\n",
      "==================================================\n",
      "15: ROLE_ROLLUP_2-ROLE_DEPTNAME\n",
      "==================================================\n",
      "16: ROLE_ROLLUP_2-ROLE_FAMILY_DESC\n",
      "==================================================\n",
      "17: ROLE_ROLLUP_2-ROLE_FAMILY\n",
      "==================================================\n",
      "18: ROLE_ROLLUP_2-ROLE_CODE\n",
      "==================================================\n",
      "19: ROLE_DEPTNAME-RESOURCE\n",
      "==================================================\n",
      "20: ROLE_DEPTNAME-ROLE_ROLLUP_1\n",
      "==================================================\n",
      "21: ROLE_DEPTNAME-ROLE_ROLLUP_2\n",
      "==================================================\n",
      "22: ROLE_DEPTNAME-ROLE_FAMILY_DESC\n",
      "==================================================\n",
      "23: ROLE_DEPTNAME-ROLE_FAMILY\n",
      "==================================================\n",
      "24: ROLE_DEPTNAME-ROLE_CODE\n",
      "==================================================\n",
      "25: ROLE_FAMILY_DESC-RESOURCE\n",
      "==================================================\n",
      "26: ROLE_FAMILY_DESC-ROLE_ROLLUP_1\n",
      "==================================================\n",
      "27: ROLE_FAMILY_DESC-ROLE_ROLLUP_2\n",
      "==================================================\n",
      "28: ROLE_FAMILY_DESC-ROLE_DEPTNAME\n",
      "==================================================\n",
      "29: ROLE_FAMILY_DESC-ROLE_FAMILY\n",
      "==================================================\n",
      "30: ROLE_FAMILY_DESC-ROLE_CODE\n",
      "==================================================\n",
      "31: ROLE_FAMILY-RESOURCE\n",
      "==================================================\n",
      "32: ROLE_FAMILY-ROLE_ROLLUP_1\n",
      "==================================================\n",
      "33: ROLE_FAMILY-ROLE_ROLLUP_2\n",
      "==================================================\n",
      "34: ROLE_FAMILY-ROLE_DEPTNAME\n",
      "==================================================\n",
      "35: ROLE_FAMILY-ROLE_FAMILY_DESC\n",
      "==================================================\n",
      "36: ROLE_FAMILY-ROLE_CODE\n",
      "==================================================\n",
      "37: ROLE_CODE-RESOURCE\n",
      "==================================================\n",
      "38: ROLE_CODE-ROLE_ROLLUP_1\n",
      "==================================================\n",
      "39: ROLE_CODE-ROLE_ROLLUP_2\n",
      "==================================================\n",
      "40: ROLE_CODE-ROLE_DEPTNAME\n",
      "==================================================\n",
      "41: ROLE_CODE-ROLE_FAMILY_DESC\n",
      "==================================================\n",
      "42: ROLE_CODE-ROLE_FAMILY\n",
      "==================================================\n"
     ]
    }
   ],
   "source": [
    "i=1\n",
    "for c1,c2 in permutations(col_use, 2):\n",
    "    print(f'{i}: {c1}-{c2}')\n",
    "    i = i+1\n",
    "    print('='*50)"
   ]
  },
  {
   "cell_type": "code",
   "execution_count": 7,
   "metadata": {},
   "outputs": [
    {
     "data": {
      "text/html": [
       "<div>\n",
       "<style scoped>\n",
       "    .dataframe tbody tr th:only-of-type {\n",
       "        vertical-align: middle;\n",
       "    }\n",
       "\n",
       "    .dataframe tbody tr th {\n",
       "        vertical-align: top;\n",
       "    }\n",
       "\n",
       "    .dataframe thead th {\n",
       "        text-align: right;\n",
       "    }\n",
       "</style>\n",
       "<table border=\"1\" class=\"dataframe\">\n",
       "  <thead>\n",
       "    <tr style=\"text-align: right;\">\n",
       "      <th></th>\n",
       "      <th>ACTION</th>\n",
       "      <th>RESOURCE</th>\n",
       "      <th>MGR_ID</th>\n",
       "      <th>ROLE_ROLLUP_1</th>\n",
       "      <th>ROLE_ROLLUP_2</th>\n",
       "      <th>ROLE_DEPTNAME</th>\n",
       "      <th>ROLE_TITLE</th>\n",
       "      <th>ROLE_FAMILY_DESC</th>\n",
       "      <th>ROLE_FAMILY</th>\n",
       "      <th>ROLE_CODE</th>\n",
       "      <th>...</th>\n",
       "      <th>ROLE_ROLLUP_2_ROLE_DEPTNAME</th>\n",
       "      <th>ROLE_ROLLUP_2_ROLE_FAMILY_DESC</th>\n",
       "      <th>ROLE_ROLLUP_2_ROLE_FAMILY</th>\n",
       "      <th>ROLE_ROLLUP_2_ROLE_CODE</th>\n",
       "      <th>ROLE_DEPTNAME_ROLE_FAMILY_DESC</th>\n",
       "      <th>ROLE_DEPTNAME_ROLE_FAMILY</th>\n",
       "      <th>ROLE_DEPTNAME_ROLE_CODE</th>\n",
       "      <th>ROLE_FAMILY_DESC_ROLE_FAMILY</th>\n",
       "      <th>ROLE_FAMILY_DESC_ROLE_CODE</th>\n",
       "      <th>ROLE_FAMILY_ROLE_CODE</th>\n",
       "    </tr>\n",
       "  </thead>\n",
       "  <tbody>\n",
       "    <tr>\n",
       "      <th>0</th>\n",
       "      <td>1</td>\n",
       "      <td>39353</td>\n",
       "      <td>85475</td>\n",
       "      <td>117961</td>\n",
       "      <td>118300</td>\n",
       "      <td>123472</td>\n",
       "      <td>117905</td>\n",
       "      <td>117906</td>\n",
       "      <td>290919</td>\n",
       "      <td>117908</td>\n",
       "      <td>...</td>\n",
       "      <td>118300 123472</td>\n",
       "      <td>118300 117906</td>\n",
       "      <td>118300 290919</td>\n",
       "      <td>118300 117908</td>\n",
       "      <td>123472 117906</td>\n",
       "      <td>123472 290919</td>\n",
       "      <td>123472 117908</td>\n",
       "      <td>117906 290919</td>\n",
       "      <td>117906 117908</td>\n",
       "      <td>290919 117908</td>\n",
       "    </tr>\n",
       "    <tr>\n",
       "      <th>1</th>\n",
       "      <td>1</td>\n",
       "      <td>17183</td>\n",
       "      <td>1540</td>\n",
       "      <td>117961</td>\n",
       "      <td>118343</td>\n",
       "      <td>123125</td>\n",
       "      <td>118536</td>\n",
       "      <td>118536</td>\n",
       "      <td>308574</td>\n",
       "      <td>118539</td>\n",
       "      <td>...</td>\n",
       "      <td>118343 123125</td>\n",
       "      <td>118343 118536</td>\n",
       "      <td>118343 308574</td>\n",
       "      <td>118343 118539</td>\n",
       "      <td>123125 118536</td>\n",
       "      <td>123125 308574</td>\n",
       "      <td>123125 118539</td>\n",
       "      <td>118536 308574</td>\n",
       "      <td>118536 118539</td>\n",
       "      <td>308574 118539</td>\n",
       "    </tr>\n",
       "    <tr>\n",
       "      <th>2</th>\n",
       "      <td>1</td>\n",
       "      <td>36724</td>\n",
       "      <td>14457</td>\n",
       "      <td>118219</td>\n",
       "      <td>118220</td>\n",
       "      <td>117884</td>\n",
       "      <td>117879</td>\n",
       "      <td>267952</td>\n",
       "      <td>19721</td>\n",
       "      <td>117880</td>\n",
       "      <td>...</td>\n",
       "      <td>118220 117884</td>\n",
       "      <td>118220 267952</td>\n",
       "      <td>118220 19721</td>\n",
       "      <td>118220 117880</td>\n",
       "      <td>117884 267952</td>\n",
       "      <td>117884 19721</td>\n",
       "      <td>117884 117880</td>\n",
       "      <td>267952 19721</td>\n",
       "      <td>267952 117880</td>\n",
       "      <td>19721 117880</td>\n",
       "    </tr>\n",
       "    <tr>\n",
       "      <th>3</th>\n",
       "      <td>1</td>\n",
       "      <td>36135</td>\n",
       "      <td>5396</td>\n",
       "      <td>117961</td>\n",
       "      <td>118343</td>\n",
       "      <td>119993</td>\n",
       "      <td>118321</td>\n",
       "      <td>240983</td>\n",
       "      <td>290919</td>\n",
       "      <td>118322</td>\n",
       "      <td>...</td>\n",
       "      <td>118343 119993</td>\n",
       "      <td>118343 240983</td>\n",
       "      <td>118343 290919</td>\n",
       "      <td>118343 118322</td>\n",
       "      <td>119993 240983</td>\n",
       "      <td>119993 290919</td>\n",
       "      <td>119993 118322</td>\n",
       "      <td>240983 290919</td>\n",
       "      <td>240983 118322</td>\n",
       "      <td>290919 118322</td>\n",
       "    </tr>\n",
       "    <tr>\n",
       "      <th>4</th>\n",
       "      <td>1</td>\n",
       "      <td>42680</td>\n",
       "      <td>5905</td>\n",
       "      <td>117929</td>\n",
       "      <td>117930</td>\n",
       "      <td>119569</td>\n",
       "      <td>119323</td>\n",
       "      <td>123932</td>\n",
       "      <td>19793</td>\n",
       "      <td>119325</td>\n",
       "      <td>...</td>\n",
       "      <td>117930 119569</td>\n",
       "      <td>117930 123932</td>\n",
       "      <td>117930 19793</td>\n",
       "      <td>117930 119325</td>\n",
       "      <td>119569 123932</td>\n",
       "      <td>119569 19793</td>\n",
       "      <td>119569 119325</td>\n",
       "      <td>123932 19793</td>\n",
       "      <td>123932 119325</td>\n",
       "      <td>19793 119325</td>\n",
       "    </tr>\n",
       "  </tbody>\n",
       "</table>\n",
       "<p>5 rows × 25 columns</p>\n",
       "</div>"
      ],
      "text/plain": [
       "   ACTION RESOURCE  MGR_ID ROLE_ROLLUP_1 ROLE_ROLLUP_2 ROLE_DEPTNAME  \\\n",
       "0       1    39353   85475        117961        118300        123472   \n",
       "1       1    17183    1540        117961        118343        123125   \n",
       "2       1    36724   14457        118219        118220        117884   \n",
       "3       1    36135    5396        117961        118343        119993   \n",
       "4       1    42680    5905        117929        117930        119569   \n",
       "\n",
       "   ROLE_TITLE ROLE_FAMILY_DESC ROLE_FAMILY ROLE_CODE  ...  \\\n",
       "0      117905           117906      290919    117908  ...   \n",
       "1      118536           118536      308574    118539  ...   \n",
       "2      117879           267952       19721    117880  ...   \n",
       "3      118321           240983      290919    118322  ...   \n",
       "4      119323           123932       19793    119325  ...   \n",
       "\n",
       "  ROLE_ROLLUP_2_ROLE_DEPTNAME ROLE_ROLLUP_2_ROLE_FAMILY_DESC  \\\n",
       "0               118300 123472                  118300 117906   \n",
       "1               118343 123125                  118343 118536   \n",
       "2               118220 117884                  118220 267952   \n",
       "3               118343 119993                  118343 240983   \n",
       "4               117930 119569                  117930 123932   \n",
       "\n",
       "  ROLE_ROLLUP_2_ROLE_FAMILY ROLE_ROLLUP_2_ROLE_CODE  \\\n",
       "0             118300 290919           118300 117908   \n",
       "1             118343 308574           118343 118539   \n",
       "2              118220 19721           118220 117880   \n",
       "3             118343 290919           118343 118322   \n",
       "4              117930 19793           117930 119325   \n",
       "\n",
       "  ROLE_DEPTNAME_ROLE_FAMILY_DESC ROLE_DEPTNAME_ROLE_FAMILY  \\\n",
       "0                  123472 117906             123472 290919   \n",
       "1                  123125 118536             123125 308574   \n",
       "2                  117884 267952              117884 19721   \n",
       "3                  119993 240983             119993 290919   \n",
       "4                  119569 123932              119569 19793   \n",
       "\n",
       "  ROLE_DEPTNAME_ROLE_CODE ROLE_FAMILY_DESC_ROLE_FAMILY  \\\n",
       "0           123472 117908                117906 290919   \n",
       "1           123125 118539                118536 308574   \n",
       "2           117884 117880                 267952 19721   \n",
       "3           119993 118322                240983 290919   \n",
       "4           119569 119325                 123932 19793   \n",
       "\n",
       "  ROLE_FAMILY_DESC_ROLE_CODE ROLE_FAMILY_ROLE_CODE  \n",
       "0              117906 117908         290919 117908  \n",
       "1              118536 118539         308574 118539  \n",
       "2              267952 117880          19721 117880  \n",
       "3              240983 118322         290919 118322  \n",
       "4              123932 119325          19793 119325  \n",
       "\n",
       "[5 rows x 25 columns]"
      ]
     },
     "execution_count": 7,
     "metadata": {},
     "output_type": "execute_result"
    }
   ],
   "source": [
    "new_col4train = []\n",
    "\n",
    "col4train = col_use\n",
    "col4train.remove('RESOURCE')\n",
    "\n",
    "for c1,c2 in permutations(col4train, 2):\n",
    "    \n",
    "    name = \"{}_{}\".format(c1,c2)\n",
    "    new_col4train.append(name)\n",
    "    db_train[name] = db_train[c1] + \" \" + db_train[c2]\n",
    "\n",
    "db_train.head()"
   ]
  },
  {
   "cell_type": "code",
   "execution_count": 8,
   "metadata": {},
   "outputs": [
    {
     "data": {
      "text/plain": [
       "(30391, 25)"
      ]
     },
     "execution_count": 8,
     "metadata": {},
     "output_type": "execute_result"
    }
   ],
   "source": [
    "db_train.shape"
   ]
  },
  {
   "cell_type": "code",
   "execution_count": 9,
   "metadata": {},
   "outputs": [
    {
     "data": {
      "text/plain": [
       "ROLE_ROLLUP_1_ROLE_ROLLUP_2        187\n",
       "ROLE_FAMILY_ROLE_CODE              343\n",
       "ROLE_ROLLUP_1_ROLE_FAMILY          750\n",
       "ROLE_ROLLUP_2_ROLE_FAMILY         1045\n",
       "ROLE_ROLLUP_1_ROLE_DEPTNAME       1185\n",
       "ROLE_ROLLUP_2_ROLE_DEPTNAME       1398\n",
       "ROLE_ROLLUP_1_ROLE_CODE           1506\n",
       "ROLE_DEPTNAME_ROLE_FAMILY         1613\n",
       "ROLE_ROLLUP_2_ROLE_CODE           2125\n",
       "ROLE_FAMILY_DESC_ROLE_FAMILY      2586\n",
       "ROLE_DEPTNAME_ROLE_CODE           2946\n",
       "ROLE_FAMILY_DESC_ROLE_CODE        3013\n",
       "ROLE_ROLLUP_1_ROLE_FAMILY_DESC    3282\n",
       "ROLE_ROLLUP_2_ROLE_FAMILY_DESC    3949\n",
       "ROLE_DEPTNAME_ROLE_FAMILY_DESC    4553\n",
       "dtype: int64"
      ]
     },
     "execution_count": 9,
     "metadata": {},
     "output_type": "execute_result"
    }
   ],
   "source": [
    "nq = db_train[new_col4train].nunique()\n",
    "nq[nq.argsort()]"
   ]
  },
  {
   "cell_type": "markdown",
   "metadata": {},
   "source": [
    "Observation:\n",
    "* Combination of some feature have high cardinality. Combining such catagories together reduces the number of observation per categoy in the resulting features. It will not generalize well and the model might overfit.\n",
    "* KFoldTargetEncoding will not work in case of \"RESOURCE\"  as 89% of records is single entry. In this case most of the time in each fold the value will be NaN and due to this this will be always be replace to mean of the \"ACTION\" which will not be helpful. KFold is helfull if in each folder will have the group value in the validation dataset.\n",
    "Alternative is compute the mean target X_tr of the KFold split and replace the missing map in X_val of the KFold split with the mean.  "
   ]
  },
  {
   "cell_type": "code",
   "execution_count": 10,
   "metadata": {},
   "outputs": [
    {
     "data": {
      "text/plain": [
       "ROLE_ROLLUP_1_ROLE_ROLLUP_2\n",
       "11146 118491     19721 118570 117887 117888 117887 117973 19721...\n",
       "117876 117877    19721 117880 19721 118570 19721 247660 19793 1...\n",
       "117882 117883    19721 117880 117887 117888 19721 117880 117887...\n",
       "117882 123999    117887 118055 117887 118055 117887 118055 1178...\n",
       "117887 118178    118638 119851 292795 118943 292795 118943 1219...\n",
       "                                       ...                        \n",
       "311178 119256                          118474 136061 118474 136061\n",
       "4292 124335      119772 130062 119184 128095 119184 128095 1191...\n",
       "4292 126095      117887 117973 117887 117973 119184 119194 1191...\n",
       "5110 117954      19721 118570 19721 118570 118870 124539 19721 ...\n",
       "91261 118026     118205 119964 290919 118322 290919 118279 2909...\n",
       "Name: ROLE_FAMILY_ROLE_CODE, Length: 187, dtype: object"
      ]
     },
     "execution_count": 10,
     "metadata": {},
     "output_type": "execute_result"
    }
   ],
   "source": [
    "db_train.groupby(['ROLE_ROLLUP_1_ROLE_ROLLUP_2'])['ROLE_FAMILY_ROLE_CODE'].agg(lambda x: \" \".join(list([str(y) for y in x])))"
   ]
  },
  {
   "cell_type": "code",
   "execution_count": null,
   "metadata": {},
   "outputs": [
    {
     "ename": "",
     "evalue": "",
     "output_type": "error",
     "traceback": [
      "\u001b[1;31mRunning cells with 'Python 3.7.9 ('env': venv)' requires ipykernel package.\n",
      "Run the following command to install 'ipykernel' into the Python environment. \n",
      "Command: 'f:/github_workspace/employee_access_resource_classifier/env/Scripts/python.exe -m pip install ipykernel -U --force-reinstall'"
     ]
    }
   ],
   "source": [
    "db_train.groupby(['ROLE_ROLLUP_1'])['ROLE_DEPTNAME'].agg(lambda x: \" \".join(list([str(y) for y in x])))"
   ]
  },
  {
   "cell_type": "markdown",
   "metadata": {},
   "source": []
  }
 ],
 "metadata": {
  "interpreter": {
   "hash": "82a46bf17f63c04bc66933ac57ad6197fa16af7541d94cf9ccb72f43e622cfc8"
  },
  "kernelspec": {
   "display_name": "Python 3.7.9 64-bit",
   "language": "python",
   "name": "python3"
  },
  "language_info": {
   "codemirror_mode": {
    "name": "ipython",
    "version": 3
   },
   "file_extension": ".py",
   "mimetype": "text/x-python",
   "name": "python",
   "nbconvert_exporter": "python",
   "pygments_lexer": "ipython3",
   "version": "3.7.9"
  },
  "orig_nbformat": 4
 },
 "nbformat": 4,
 "nbformat_minor": 2
}
