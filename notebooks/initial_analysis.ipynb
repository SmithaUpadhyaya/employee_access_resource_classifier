{
 "cells": [
  {
   "cell_type": "code",
   "execution_count": 1,
   "metadata": {},
   "outputs": [],
   "source": [
    "import gc\n",
    "import os\n",
    "import pandas as pd\n",
    "import utils.paths as plh\n",
    "import matplotlib.pyplot as plt\n",
    "import utils.read_utils as hlpread"
   ]
  },
  {
   "cell_type": "markdown",
   "metadata": {},
   "source": [
    "# Paths #"
   ]
  },
  {
   "cell_type": "code",
   "execution_count": 2,
   "metadata": {},
   "outputs": [
    {
     "data": {
      "text/plain": [
       "WindowsPath('F:/github_workspace/employee_access_resource_classifier')"
      ]
     },
     "execution_count": 2,
     "metadata": {},
     "output_type": "execute_result"
    }
   ],
   "source": [
    "PROJECT_ROOT = plh.get_project_root()\n",
    "PROJECT_ROOT"
   ]
  },
  {
   "cell_type": "code",
   "execution_count": 3,
   "metadata": {},
   "outputs": [
    {
     "data": {
      "text/plain": [
       "('F:\\\\github_workspace\\\\employee_access_resource_classifier\\\\data\\\\training\\\\train.csv',\n",
       " 'F:\\\\github_workspace\\\\employee_access_resource_classifier\\\\data\\\\training\\\\test.csv')"
      ]
     },
     "execution_count": 3,
     "metadata": {},
     "output_type": "execute_result"
    }
   ],
   "source": [
    "train_data = os.path.join(PROJECT_ROOT, \n",
    "                          hlpread.read_yaml_key('data_source.data_folders'),\n",
    "                          hlpread.read_yaml_key('data_source.training_data_folder.folder'),\n",
    "                          hlpread.read_yaml_key('data_source.training_data_folder.train'),\n",
    "                        )\n",
    "\n",
    "\n",
    "test_data = os.path.join(PROJECT_ROOT, \n",
    "                         hlpread.read_yaml_key('data_source.data_folders'),\n",
    "                         hlpread.read_yaml_key('data_source.training_data_folder.folder'),\n",
    "                         hlpread.read_yaml_key('data_source.training_data_folder.test'),\n",
    "                        )\n",
    "\n",
    "(train_data, test_data)"
   ]
  },
  {
   "cell_type": "markdown",
   "metadata": {},
   "source": [
    "# Initial Analysis #"
   ]
  },
  {
   "cell_type": "markdown",
   "metadata": {},
   "source": [
    "## Training ##"
   ]
  },
  {
   "cell_type": "code",
   "execution_count": 4,
   "metadata": {},
   "outputs": [
    {
     "data": {
      "text/html": [
       "<div>\n",
       "<style scoped>\n",
       "    .dataframe tbody tr th:only-of-type {\n",
       "        vertical-align: middle;\n",
       "    }\n",
       "\n",
       "    .dataframe tbody tr th {\n",
       "        vertical-align: top;\n",
       "    }\n",
       "\n",
       "    .dataframe thead th {\n",
       "        text-align: right;\n",
       "    }\n",
       "</style>\n",
       "<table border=\"1\" class=\"dataframe\">\n",
       "  <thead>\n",
       "    <tr style=\"text-align: right;\">\n",
       "      <th></th>\n",
       "      <th>ACTION</th>\n",
       "      <th>RESOURCE</th>\n",
       "      <th>MGR_ID</th>\n",
       "      <th>ROLE_ROLLUP_1</th>\n",
       "      <th>ROLE_ROLLUP_2</th>\n",
       "      <th>ROLE_DEPTNAME</th>\n",
       "      <th>ROLE_TITLE</th>\n",
       "      <th>ROLE_FAMILY_DESC</th>\n",
       "      <th>ROLE_FAMILY</th>\n",
       "      <th>ROLE_CODE</th>\n",
       "    </tr>\n",
       "  </thead>\n",
       "  <tbody>\n",
       "    <tr>\n",
       "      <th>0</th>\n",
       "      <td>1</td>\n",
       "      <td>39353</td>\n",
       "      <td>85475</td>\n",
       "      <td>117961</td>\n",
       "      <td>118300</td>\n",
       "      <td>123472</td>\n",
       "      <td>117905</td>\n",
       "      <td>117906</td>\n",
       "      <td>290919</td>\n",
       "      <td>117908</td>\n",
       "    </tr>\n",
       "    <tr>\n",
       "      <th>1</th>\n",
       "      <td>1</td>\n",
       "      <td>17183</td>\n",
       "      <td>1540</td>\n",
       "      <td>117961</td>\n",
       "      <td>118343</td>\n",
       "      <td>123125</td>\n",
       "      <td>118536</td>\n",
       "      <td>118536</td>\n",
       "      <td>308574</td>\n",
       "      <td>118539</td>\n",
       "    </tr>\n",
       "    <tr>\n",
       "      <th>2</th>\n",
       "      <td>1</td>\n",
       "      <td>36724</td>\n",
       "      <td>14457</td>\n",
       "      <td>118219</td>\n",
       "      <td>118220</td>\n",
       "      <td>117884</td>\n",
       "      <td>117879</td>\n",
       "      <td>267952</td>\n",
       "      <td>19721</td>\n",
       "      <td>117880</td>\n",
       "    </tr>\n",
       "    <tr>\n",
       "      <th>3</th>\n",
       "      <td>1</td>\n",
       "      <td>36135</td>\n",
       "      <td>5396</td>\n",
       "      <td>117961</td>\n",
       "      <td>118343</td>\n",
       "      <td>119993</td>\n",
       "      <td>118321</td>\n",
       "      <td>240983</td>\n",
       "      <td>290919</td>\n",
       "      <td>118322</td>\n",
       "    </tr>\n",
       "    <tr>\n",
       "      <th>4</th>\n",
       "      <td>1</td>\n",
       "      <td>42680</td>\n",
       "      <td>5905</td>\n",
       "      <td>117929</td>\n",
       "      <td>117930</td>\n",
       "      <td>119569</td>\n",
       "      <td>119323</td>\n",
       "      <td>123932</td>\n",
       "      <td>19793</td>\n",
       "      <td>119325</td>\n",
       "    </tr>\n",
       "    <tr>\n",
       "      <th>25146</th>\n",
       "      <td>1</td>\n",
       "      <td>77359</td>\n",
       "      <td>14731</td>\n",
       "      <td>117961</td>\n",
       "      <td>118446</td>\n",
       "      <td>118447</td>\n",
       "      <td>118321</td>\n",
       "      <td>117906</td>\n",
       "      <td>290919</td>\n",
       "      <td>118322</td>\n",
       "    </tr>\n",
       "    <tr>\n",
       "      <th>27610</th>\n",
       "      <td>1</td>\n",
       "      <td>42437</td>\n",
       "      <td>11525</td>\n",
       "      <td>117910</td>\n",
       "      <td>117911</td>\n",
       "      <td>117920</td>\n",
       "      <td>118568</td>\n",
       "      <td>129510</td>\n",
       "      <td>19721</td>\n",
       "      <td>118570</td>\n",
       "    </tr>\n",
       "    <tr>\n",
       "      <th>2018</th>\n",
       "      <td>1</td>\n",
       "      <td>18072</td>\n",
       "      <td>16900</td>\n",
       "      <td>118256</td>\n",
       "      <td>118257</td>\n",
       "      <td>118623</td>\n",
       "      <td>126684</td>\n",
       "      <td>193644</td>\n",
       "      <td>292795</td>\n",
       "      <td>126685</td>\n",
       "    </tr>\n",
       "    <tr>\n",
       "      <th>1541</th>\n",
       "      <td>1</td>\n",
       "      <td>31825</td>\n",
       "      <td>5201</td>\n",
       "      <td>117961</td>\n",
       "      <td>118343</td>\n",
       "      <td>118979</td>\n",
       "      <td>307024</td>\n",
       "      <td>159672</td>\n",
       "      <td>118331</td>\n",
       "      <td>118332</td>\n",
       "    </tr>\n",
       "    <tr>\n",
       "      <th>2273</th>\n",
       "      <td>1</td>\n",
       "      <td>104958</td>\n",
       "      <td>7551</td>\n",
       "      <td>117961</td>\n",
       "      <td>118052</td>\n",
       "      <td>118867</td>\n",
       "      <td>118321</td>\n",
       "      <td>117906</td>\n",
       "      <td>290919</td>\n",
       "      <td>118322</td>\n",
       "    </tr>\n",
       "    <tr>\n",
       "      <th>32764</th>\n",
       "      <td>1</td>\n",
       "      <td>23497</td>\n",
       "      <td>16971</td>\n",
       "      <td>117961</td>\n",
       "      <td>118300</td>\n",
       "      <td>119993</td>\n",
       "      <td>118321</td>\n",
       "      <td>240983</td>\n",
       "      <td>290919</td>\n",
       "      <td>118322</td>\n",
       "    </tr>\n",
       "    <tr>\n",
       "      <th>32765</th>\n",
       "      <td>1</td>\n",
       "      <td>25139</td>\n",
       "      <td>311198</td>\n",
       "      <td>91261</td>\n",
       "      <td>118026</td>\n",
       "      <td>122392</td>\n",
       "      <td>121143</td>\n",
       "      <td>173805</td>\n",
       "      <td>249618</td>\n",
       "      <td>121145</td>\n",
       "    </tr>\n",
       "    <tr>\n",
       "      <th>32766</th>\n",
       "      <td>1</td>\n",
       "      <td>34924</td>\n",
       "      <td>28805</td>\n",
       "      <td>117961</td>\n",
       "      <td>118327</td>\n",
       "      <td>120299</td>\n",
       "      <td>124922</td>\n",
       "      <td>152038</td>\n",
       "      <td>118612</td>\n",
       "      <td>124924</td>\n",
       "    </tr>\n",
       "    <tr>\n",
       "      <th>32767</th>\n",
       "      <td>1</td>\n",
       "      <td>80574</td>\n",
       "      <td>55643</td>\n",
       "      <td>118256</td>\n",
       "      <td>118257</td>\n",
       "      <td>117945</td>\n",
       "      <td>280788</td>\n",
       "      <td>280788</td>\n",
       "      <td>292795</td>\n",
       "      <td>119082</td>\n",
       "    </tr>\n",
       "    <tr>\n",
       "      <th>32768</th>\n",
       "      <td>1</td>\n",
       "      <td>14354</td>\n",
       "      <td>59575</td>\n",
       "      <td>117916</td>\n",
       "      <td>118150</td>\n",
       "      <td>117920</td>\n",
       "      <td>118568</td>\n",
       "      <td>122142</td>\n",
       "      <td>19721</td>\n",
       "      <td>118570</td>\n",
       "    </tr>\n",
       "  </tbody>\n",
       "</table>\n",
       "</div>"
      ],
      "text/plain": [
       "       ACTION  RESOURCE  MGR_ID  ROLE_ROLLUP_1  ROLE_ROLLUP_2  ROLE_DEPTNAME  \\\n",
       "0           1     39353   85475         117961         118300         123472   \n",
       "1           1     17183    1540         117961         118343         123125   \n",
       "2           1     36724   14457         118219         118220         117884   \n",
       "3           1     36135    5396         117961         118343         119993   \n",
       "4           1     42680    5905         117929         117930         119569   \n",
       "25146       1     77359   14731         117961         118446         118447   \n",
       "27610       1     42437   11525         117910         117911         117920   \n",
       "2018        1     18072   16900         118256         118257         118623   \n",
       "1541        1     31825    5201         117961         118343         118979   \n",
       "2273        1    104958    7551         117961         118052         118867   \n",
       "32764       1     23497   16971         117961         118300         119993   \n",
       "32765       1     25139  311198          91261         118026         122392   \n",
       "32766       1     34924   28805         117961         118327         120299   \n",
       "32767       1     80574   55643         118256         118257         117945   \n",
       "32768       1     14354   59575         117916         118150         117920   \n",
       "\n",
       "       ROLE_TITLE  ROLE_FAMILY_DESC  ROLE_FAMILY  ROLE_CODE  \n",
       "0          117905            117906       290919     117908  \n",
       "1          118536            118536       308574     118539  \n",
       "2          117879            267952        19721     117880  \n",
       "3          118321            240983       290919     118322  \n",
       "4          119323            123932        19793     119325  \n",
       "25146      118321            117906       290919     118322  \n",
       "27610      118568            129510        19721     118570  \n",
       "2018       126684            193644       292795     126685  \n",
       "1541       307024            159672       118331     118332  \n",
       "2273       118321            117906       290919     118322  \n",
       "32764      118321            240983       290919     118322  \n",
       "32765      121143            173805       249618     121145  \n",
       "32766      124922            152038       118612     124924  \n",
       "32767      280788            280788       292795     119082  \n",
       "32768      118568            122142        19721     118570  "
      ]
     },
     "execution_count": 4,
     "metadata": {},
     "output_type": "execute_result"
    }
   ],
   "source": [
    "train = hlpread.read_csv(train_data)\n",
    "pd.concat([train.head(), train.sample(5), train.tail()], axis = 0)"
   ]
  },
  {
   "cell_type": "markdown",
   "metadata": {},
   "source": [
    "### Description of the features: ###\n",
    "* Label : ACTION is 1 if access is granted to the resource and 0 if not granted.\n",
    "* Features\n",
    "    - RESOURCE - An ID for each resource\n",
    "    - MGR_ID - The EMPLOYEE ID of the manager of the current EMPLOYEE ID record. An employee may have only one manager at a time.\n",
    "    - ROLE_ROLLUP_1 - Company role grouping category id 1 (e.g. US Engineering)\n",
    "    - ROLE_ROLLUP_2 - Company role grouping category id 2 (e.g. US Retail)\n",
    "    - ROLE_DEPTNAME - Company role department description (e.g. Retail)\n",
    "    - ROLE_TITLE - Company role business title description (e.g. Senior Engineering Retail Manager)\n",
    "    - ROLE_FAMILY_DESC - Company role family extended description (e.g. Retail Manager, Software Engineering)\n",
    "    - ROLE_FAMILY - Company role family description (e.g. Retail Manager)\n",
    "    - ROLE_CODE - Company role code; this code is unique to each role (e.g. Manager)"
   ]
  },
  {
   "cell_type": "code",
   "execution_count": 5,
   "metadata": {},
   "outputs": [
    {
     "name": "stdout",
     "output_type": "stream",
     "text": [
      "Columns: Index(['ACTION', 'RESOURCE', 'MGR_ID', 'ROLE_ROLLUP_1', 'ROLE_ROLLUP_2',\n",
      "       'ROLE_DEPTNAME', 'ROLE_TITLE', 'ROLE_FAMILY_DESC', 'ROLE_FAMILY',\n",
      "       'ROLE_CODE'],\n",
      "      dtype='object')\n",
      "Number of records (32769, 10)\n"
     ]
    }
   ],
   "source": [
    "print(f'Columns: {train.columns}')\n",
    "print(f'Number of records {train.shape}')"
   ]
  },
  {
   "cell_type": "code",
   "execution_count": 6,
   "metadata": {},
   "outputs": [
    {
     "name": "stdout",
     "output_type": "stream",
     "text": [
      "<class 'pandas.core.frame.DataFrame'>\n",
      "RangeIndex: 32769 entries, 0 to 32768\n",
      "Data columns (total 10 columns):\n",
      " #   Column            Non-Null Count  Dtype\n",
      "---  ------            --------------  -----\n",
      " 0   ACTION            32769 non-null  int64\n",
      " 1   RESOURCE          32769 non-null  int64\n",
      " 2   MGR_ID            32769 non-null  int64\n",
      " 3   ROLE_ROLLUP_1     32769 non-null  int64\n",
      " 4   ROLE_ROLLUP_2     32769 non-null  int64\n",
      " 5   ROLE_DEPTNAME     32769 non-null  int64\n",
      " 6   ROLE_TITLE        32769 non-null  int64\n",
      " 7   ROLE_FAMILY_DESC  32769 non-null  int64\n",
      " 8   ROLE_FAMILY       32769 non-null  int64\n",
      " 9   ROLE_CODE         32769 non-null  int64\n",
      "dtypes: int64(10)\n",
      "memory usage: 2.5 MB\n"
     ]
    }
   ],
   "source": [
    "train.info()"
   ]
  },
  {
   "cell_type": "code",
   "execution_count": 7,
   "metadata": {},
   "outputs": [
    {
     "data": {
      "text/plain": [
       "0"
      ]
     },
     "execution_count": 7,
     "metadata": {},
     "output_type": "execute_result"
    }
   ],
   "source": [
    "train.duplicated().sum()"
   ]
  },
  {
   "cell_type": "code",
   "execution_count": 8,
   "metadata": {},
   "outputs": [
    {
     "data": {
      "text/plain": [
       "ACTION              0\n",
       "RESOURCE            0\n",
       "MGR_ID              0\n",
       "ROLE_ROLLUP_1       0\n",
       "ROLE_ROLLUP_2       0\n",
       "ROLE_DEPTNAME       0\n",
       "ROLE_TITLE          0\n",
       "ROLE_FAMILY_DESC    0\n",
       "ROLE_FAMILY         0\n",
       "ROLE_CODE           0\n",
       "dtype: int64"
      ]
     },
     "execution_count": 8,
     "metadata": {},
     "output_type": "execute_result"
    }
   ],
   "source": [
    "train.isna().sum()"
   ]
  },
  {
   "cell_type": "code",
   "execution_count": 9,
   "metadata": {},
   "outputs": [
    {
     "data": {
      "text/plain": [
       "Text(1, 1897, '1897')"
      ]
     },
     "execution_count": 9,
     "metadata": {},
     "output_type": "execute_result"
    },
    {
     "data": {
      "image/png": "[encoded data removed]",
      "text/plain": [
       "<Figure size 640x480 with 1 Axes>"
      ]
     },
     "metadata": {},
     "output_type": "display_data"
    }
   ],
   "source": [
    "label_cnts = train.ACTION.value_counts()\n",
    "label_cnts.plot(kind = 'bar')\n",
    "plt.text(0,label_cnts[1],label_cnts[1])\n",
    "plt.text(1,label_cnts[0],label_cnts[0])"
   ]
  },
  {
   "cell_type": "code",
   "execution_count": 10,
   "metadata": {},
   "outputs": [
    {
     "data": {
      "text/plain": [
       "ACTION                 2\n",
       "RESOURCE            7518\n",
       "MGR_ID              4243\n",
       "ROLE_ROLLUP_1        128\n",
       "ROLE_ROLLUP_2        177\n",
       "ROLE_DEPTNAME        449\n",
       "ROLE_TITLE           343\n",
       "ROLE_FAMILY_DESC    2358\n",
       "ROLE_FAMILY           67\n",
       "ROLE_CODE            343\n",
       "dtype: int64"
      ]
     },
     "execution_count": 10,
     "metadata": {},
     "output_type": "execute_result"
    }
   ],
   "source": [
    "train.nunique(axis = 0)"
   ]
  },
  {
   "cell_type": "markdown",
   "metadata": {},
   "source": [
    "### Initial observation: ###\n",
    "* Total 7518 unique RESOURCE we need to classify ACCESS for.\n",
    "* Do not have any missing and duplicate records.\n",
    "* We have inbalance dataset with unequal distribution of RESOURCE access where most of the RESOURCE have access to and very few denied RESOURCE. To better understand we need to check based on the each RESOURCE_ID\n",
    "* Can reduce the size of the features\n",
    "    - Label feature \"ACTION\" is of type int64 which can be change to bit/bool.\n",
    "    - Other interger feature, can also change the data type of int32.\n",
    "* All features are catagorical feature encode as interger.\n",
    "* RESOURCE, MGR_ID and ROLE_FAMILY_DESC are high-cardinality categorical features. That means they have a lot of unique values and that makes them harder to encode.\n",
    "* ROLE_CODE and ROLE_TITLE have exactly the same amount of unique values."
   ]
  },
  {
   "cell_type": "code",
   "execution_count": 11,
   "metadata": {},
   "outputs": [
    {
     "name": "stdout",
     "output_type": "stream",
     "text": [
      "Shape before: 32769\n",
      "Shape after drop: 30396\n"
     ]
    }
   ],
   "source": [
    "#If we do not consider \"MGR_ID\" we reduce the record by 2300 \n",
    "train['IS_DUPLICATE'] = train.duplicated(['ACTION', 'RESOURCE', \n",
    "                                          'ROLE_ROLLUP_1', 'ROLE_ROLLUP_2', 'ROLE_DEPTNAME', \n",
    "                                          'ROLE_TITLE', 'ROLE_FAMILY_DESC', 'ROLE_FAMILY','ROLE_CODE'\n",
    "                                        ])\n",
    "\n",
    "train['IS_DUPLICATE'].sum()\n",
    "\n",
    "print(f'Shape before: {train.shape[0]}')\n",
    "print('Shape after drop: '+str(train.shape[0] - train['IS_DUPLICATE'].sum())) "
   ]
  },
  {
   "cell_type": "code",
   "execution_count": 12,
   "metadata": {},
   "outputs": [
    {
     "data": {
      "text/plain": [
       "1    2316\n",
       "0      57\n",
       "Name: ACTION, dtype: int64"
      ]
     },
     "execution_count": 12,
     "metadata": {},
     "output_type": "execute_result"
    }
   ],
   "source": [
    "train[train.IS_DUPLICATE].ACTION.value_counts()"
   ]
  },
  {
   "cell_type": "markdown",
   "metadata": {},
   "source": [
    "### Observartion: ###\n",
    "\n",
    "* \"MGR_ID\" are EMPLOYEE_ID of the managers of the current EMPLOYEE_ID record. Employee join or leave the organization all the time, value of this feature will change. Since any organization EMPLOYEE_ID are always unique for any employee joining the organization. So will drop \"MGR_ID\" for classification.\n"
   ]
  },
  {
   "cell_type": "markdown",
   "metadata": {},
   "source": [
    "## Test ##"
   ]
  },
  {
   "cell_type": "code",
   "execution_count": 5,
   "metadata": {},
   "outputs": [
    {
     "name": "stdout",
     "output_type": "stream",
     "text": [
      "Number of records (32769, 10)\n"
     ]
    },
    {
     "data": {
      "text/html": [
       "<div>\n",
       "<style scoped>\n",
       "    .dataframe tbody tr th:only-of-type {\n",
       "        vertical-align: middle;\n",
       "    }\n",
       "\n",
       "    .dataframe tbody tr th {\n",
       "        vertical-align: top;\n",
       "    }\n",
       "\n",
       "    .dataframe thead th {\n",
       "        text-align: right;\n",
       "    }\n",
       "</style>\n",
       "<table border=\"1\" class=\"dataframe\">\n",
       "  <thead>\n",
       "    <tr style=\"text-align: right;\">\n",
       "      <th></th>\n",
       "      <th>id</th>\n",
       "      <th>RESOURCE</th>\n",
       "      <th>MGR_ID</th>\n",
       "      <th>ROLE_ROLLUP_1</th>\n",
       "      <th>ROLE_ROLLUP_2</th>\n",
       "      <th>ROLE_DEPTNAME</th>\n",
       "      <th>ROLE_TITLE</th>\n",
       "      <th>ROLE_FAMILY_DESC</th>\n",
       "      <th>ROLE_FAMILY</th>\n",
       "      <th>ROLE_CODE</th>\n",
       "    </tr>\n",
       "  </thead>\n",
       "  <tbody>\n",
       "    <tr>\n",
       "      <th>0</th>\n",
       "      <td>1</td>\n",
       "      <td>78766</td>\n",
       "      <td>72734</td>\n",
       "      <td>118079</td>\n",
       "      <td>118080</td>\n",
       "      <td>117878</td>\n",
       "      <td>117879</td>\n",
       "      <td>118177</td>\n",
       "      <td>19721</td>\n",
       "      <td>117880</td>\n",
       "    </tr>\n",
       "    <tr>\n",
       "      <th>1</th>\n",
       "      <td>2</td>\n",
       "      <td>40644</td>\n",
       "      <td>4378</td>\n",
       "      <td>117961</td>\n",
       "      <td>118327</td>\n",
       "      <td>118507</td>\n",
       "      <td>118863</td>\n",
       "      <td>122008</td>\n",
       "      <td>118398</td>\n",
       "      <td>118865</td>\n",
       "    </tr>\n",
       "    <tr>\n",
       "      <th>2</th>\n",
       "      <td>3</td>\n",
       "      <td>75443</td>\n",
       "      <td>2395</td>\n",
       "      <td>117961</td>\n",
       "      <td>118300</td>\n",
       "      <td>119488</td>\n",
       "      <td>118172</td>\n",
       "      <td>301534</td>\n",
       "      <td>249618</td>\n",
       "      <td>118175</td>\n",
       "    </tr>\n",
       "    <tr>\n",
       "      <th>3</th>\n",
       "      <td>4</td>\n",
       "      <td>43219</td>\n",
       "      <td>19986</td>\n",
       "      <td>117961</td>\n",
       "      <td>118225</td>\n",
       "      <td>118403</td>\n",
       "      <td>120773</td>\n",
       "      <td>136187</td>\n",
       "      <td>118960</td>\n",
       "      <td>120774</td>\n",
       "    </tr>\n",
       "    <tr>\n",
       "      <th>4</th>\n",
       "      <td>5</td>\n",
       "      <td>42093</td>\n",
       "      <td>50015</td>\n",
       "      <td>117961</td>\n",
       "      <td>118343</td>\n",
       "      <td>119598</td>\n",
       "      <td>118422</td>\n",
       "      <td>300136</td>\n",
       "      <td>118424</td>\n",
       "      <td>118425</td>\n",
       "    </tr>\n",
       "    <tr>\n",
       "      <th>35065</th>\n",
       "      <td>35066</td>\n",
       "      <td>28149</td>\n",
       "      <td>71171</td>\n",
       "      <td>117961</td>\n",
       "      <td>118386</td>\n",
       "      <td>123844</td>\n",
       "      <td>118784</td>\n",
       "      <td>121556</td>\n",
       "      <td>290919</td>\n",
       "      <td>118786</td>\n",
       "    </tr>\n",
       "    <tr>\n",
       "      <th>21883</th>\n",
       "      <td>21884</td>\n",
       "      <td>15064</td>\n",
       "      <td>15214</td>\n",
       "      <td>117902</td>\n",
       "      <td>118041</td>\n",
       "      <td>121678</td>\n",
       "      <td>118028</td>\n",
       "      <td>121679</td>\n",
       "      <td>117887</td>\n",
       "      <td>118030</td>\n",
       "    </tr>\n",
       "    <tr>\n",
       "      <th>26582</th>\n",
       "      <td>26583</td>\n",
       "      <td>80470</td>\n",
       "      <td>5016</td>\n",
       "      <td>117961</td>\n",
       "      <td>118343</td>\n",
       "      <td>121710</td>\n",
       "      <td>120789</td>\n",
       "      <td>250337</td>\n",
       "      <td>118424</td>\n",
       "      <td>120791</td>\n",
       "    </tr>\n",
       "    <tr>\n",
       "      <th>42840</th>\n",
       "      <td>42841</td>\n",
       "      <td>15064</td>\n",
       "      <td>22846</td>\n",
       "      <td>117961</td>\n",
       "      <td>117969</td>\n",
       "      <td>19666</td>\n",
       "      <td>179731</td>\n",
       "      <td>124389</td>\n",
       "      <td>117887</td>\n",
       "      <td>117973</td>\n",
       "    </tr>\n",
       "    <tr>\n",
       "      <th>10195</th>\n",
       "      <td>10196</td>\n",
       "      <td>15716</td>\n",
       "      <td>22854</td>\n",
       "      <td>117902</td>\n",
       "      <td>118041</td>\n",
       "      <td>131461</td>\n",
       "      <td>119778</td>\n",
       "      <td>174194</td>\n",
       "      <td>19721</td>\n",
       "      <td>119779</td>\n",
       "    </tr>\n",
       "    <tr>\n",
       "      <th>58916</th>\n",
       "      <td>58917</td>\n",
       "      <td>75078</td>\n",
       "      <td>4565</td>\n",
       "      <td>117961</td>\n",
       "      <td>118386</td>\n",
       "      <td>121961</td>\n",
       "      <td>118784</td>\n",
       "      <td>117906</td>\n",
       "      <td>290919</td>\n",
       "      <td>118786</td>\n",
       "    </tr>\n",
       "    <tr>\n",
       "      <th>58917</th>\n",
       "      <td>58918</td>\n",
       "      <td>6977</td>\n",
       "      <td>72209</td>\n",
       "      <td>117961</td>\n",
       "      <td>118225</td>\n",
       "      <td>124948</td>\n",
       "      <td>118054</td>\n",
       "      <td>118054</td>\n",
       "      <td>117887</td>\n",
       "      <td>118055</td>\n",
       "    </tr>\n",
       "    <tr>\n",
       "      <th>58918</th>\n",
       "      <td>58919</td>\n",
       "      <td>39262</td>\n",
       "      <td>6114</td>\n",
       "      <td>117961</td>\n",
       "      <td>118343</td>\n",
       "      <td>6104</td>\n",
       "      <td>118278</td>\n",
       "      <td>118260</td>\n",
       "      <td>290919</td>\n",
       "      <td>118279</td>\n",
       "    </tr>\n",
       "    <tr>\n",
       "      <th>58919</th>\n",
       "      <td>58920</td>\n",
       "      <td>1023</td>\n",
       "      <td>8674</td>\n",
       "      <td>117961</td>\n",
       "      <td>118327</td>\n",
       "      <td>120318</td>\n",
       "      <td>118321</td>\n",
       "      <td>117906</td>\n",
       "      <td>290919</td>\n",
       "      <td>118322</td>\n",
       "    </tr>\n",
       "    <tr>\n",
       "      <th>58920</th>\n",
       "      <td>58921</td>\n",
       "      <td>44977</td>\n",
       "      <td>3918</td>\n",
       "      <td>117961</td>\n",
       "      <td>118343</td>\n",
       "      <td>118660</td>\n",
       "      <td>119433</td>\n",
       "      <td>133686</td>\n",
       "      <td>118424</td>\n",
       "      <td>119435</td>\n",
       "    </tr>\n",
       "  </tbody>\n",
       "</table>\n",
       "</div>"
      ],
      "text/plain": [
       "          id  RESOURCE  MGR_ID  ROLE_ROLLUP_1  ROLE_ROLLUP_2  ROLE_DEPTNAME  \\\n",
       "0          1     78766   72734         118079         118080         117878   \n",
       "1          2     40644    4378         117961         118327         118507   \n",
       "2          3     75443    2395         117961         118300         119488   \n",
       "3          4     43219   19986         117961         118225         118403   \n",
       "4          5     42093   50015         117961         118343         119598   \n",
       "35065  35066     28149   71171         117961         118386         123844   \n",
       "21883  21884     15064   15214         117902         118041         121678   \n",
       "26582  26583     80470    5016         117961         118343         121710   \n",
       "42840  42841     15064   22846         117961         117969          19666   \n",
       "10195  10196     15716   22854         117902         118041         131461   \n",
       "58916  58917     75078    4565         117961         118386         121961   \n",
       "58917  58918      6977   72209         117961         118225         124948   \n",
       "58918  58919     39262    6114         117961         118343           6104   \n",
       "58919  58920      1023    8674         117961         118327         120318   \n",
       "58920  58921     44977    3918         117961         118343         118660   \n",
       "\n",
       "       ROLE_TITLE  ROLE_FAMILY_DESC  ROLE_FAMILY  ROLE_CODE  \n",
       "0          117879            118177        19721     117880  \n",
       "1          118863            122008       118398     118865  \n",
       "2          118172            301534       249618     118175  \n",
       "3          120773            136187       118960     120774  \n",
       "4          118422            300136       118424     118425  \n",
       "35065      118784            121556       290919     118786  \n",
       "21883      118028            121679       117887     118030  \n",
       "26582      120789            250337       118424     120791  \n",
       "42840      179731            124389       117887     117973  \n",
       "10195      119778            174194        19721     119779  \n",
       "58916      118784            117906       290919     118786  \n",
       "58917      118054            118054       117887     118055  \n",
       "58918      118278            118260       290919     118279  \n",
       "58919      118321            117906       290919     118322  \n",
       "58920      119433            133686       118424     119435  "
      ]
     },
     "execution_count": 5,
     "metadata": {},
     "output_type": "execute_result"
    }
   ],
   "source": [
    "test = hlpread.read_csv(test_data)\n",
    "\n",
    "print(f'Number of records {train.shape}')\n",
    "pd.concat([test.head(), test.sample(5), test.tail()], axis = 0)"
   ]
  },
  {
   "cell_type": "code",
   "execution_count": 14,
   "metadata": {},
   "outputs": [
    {
     "data": {
      "text/plain": [
       "id                  58921\n",
       "RESOURCE             4971\n",
       "MGR_ID               4689\n",
       "ROLE_ROLLUP_1         126\n",
       "ROLE_ROLLUP_2         177\n",
       "ROLE_DEPTNAME         466\n",
       "ROLE_TITLE            351\n",
       "ROLE_FAMILY_DESC     2749\n",
       "ROLE_FAMILY            68\n",
       "ROLE_CODE             351\n",
       "dtype: int64"
      ]
     },
     "execution_count": 14,
     "metadata": {},
     "output_type": "execute_result"
    }
   ],
   "source": [
    "test.nunique(axis = 0)"
   ]
  },
  {
   "cell_type": "markdown",
   "metadata": {},
   "source": [
    "#### Question: Can it be possible if there any new RESOURCE or Values in any of the feature that is not available in the training dataset ? #### "
   ]
  },
  {
   "cell_type": "code",
   "execution_count": 15,
   "metadata": {},
   "outputs": [
    {
     "data": {
      "text/plain": [
       "set()"
      ]
     },
     "execution_count": 15,
     "metadata": {},
     "output_type": "execute_result"
    }
   ],
   "source": [
    "set(test[['RESOURCE']].drop_duplicates()) - set(train[['RESOURCE']].drop_duplicates())"
   ]
  },
  {
   "cell_type": "code",
   "execution_count": 16,
   "metadata": {},
   "outputs": [
    {
     "data": {
      "text/plain": [
       "set()"
      ]
     },
     "execution_count": 16,
     "metadata": {},
     "output_type": "execute_result"
    }
   ],
   "source": [
    "set(test[['ROLE_ROLLUP_1']].drop_duplicates()) - set(train[['ROLE_ROLLUP_1']].drop_duplicates())"
   ]
  },
  {
   "cell_type": "code",
   "execution_count": 17,
   "metadata": {},
   "outputs": [
    {
     "data": {
      "text/plain": [
       "set()"
      ]
     },
     "execution_count": 17,
     "metadata": {},
     "output_type": "execute_result"
    }
   ],
   "source": [
    "set(test[['ROLE_ROLLUP_2']].drop_duplicates()) - set(train[['ROLE_ROLLUP_2']].drop_duplicates())"
   ]
  },
  {
   "cell_type": "code",
   "execution_count": 18,
   "metadata": {},
   "outputs": [
    {
     "data": {
      "text/plain": [
       "set()"
      ]
     },
     "execution_count": 18,
     "metadata": {},
     "output_type": "execute_result"
    }
   ],
   "source": [
    "set(test[['ROLE_DEPTNAME']].drop_duplicates()) - set(train[['ROLE_DEPTNAME']].drop_duplicates())"
   ]
  },
  {
   "cell_type": "code",
   "execution_count": 19,
   "metadata": {},
   "outputs": [
    {
     "data": {
      "text/plain": [
       "set()"
      ]
     },
     "execution_count": 19,
     "metadata": {},
     "output_type": "execute_result"
    }
   ],
   "source": [
    "set(test[['ROLE_TITLE']].drop_duplicates()) - set(train[['ROLE_TITLE']].drop_duplicates())"
   ]
  },
  {
   "cell_type": "code",
   "execution_count": 20,
   "metadata": {},
   "outputs": [
    {
     "data": {
      "text/plain": [
       "set()"
      ]
     },
     "execution_count": 20,
     "metadata": {},
     "output_type": "execute_result"
    }
   ],
   "source": [
    "set(test[['ROLE_FAMILY_DESC']].drop_duplicates()) - set(train[['ROLE_FAMILY_DESC']].drop_duplicates())"
   ]
  },
  {
   "cell_type": "code",
   "execution_count": 21,
   "metadata": {},
   "outputs": [
    {
     "data": {
      "text/plain": [
       "set()"
      ]
     },
     "execution_count": 21,
     "metadata": {},
     "output_type": "execute_result"
    }
   ],
   "source": [
    "set(test[['ROLE_FAMILY']].drop_duplicates()) - set(train[['ROLE_FAMILY']].drop_duplicates())\n"
   ]
  },
  {
   "cell_type": "code",
   "execution_count": 22,
   "metadata": {},
   "outputs": [
    {
     "data": {
      "text/plain": [
       "set()"
      ]
     },
     "execution_count": 22,
     "metadata": {},
     "output_type": "execute_result"
    }
   ],
   "source": [
    "set(test[['ROLE_CODE']].drop_duplicates()) - set(train[['ROLE_CODE']].drop_duplicates())"
   ]
  },
  {
   "cell_type": "code",
   "execution_count": 23,
   "metadata": {},
   "outputs": [
    {
     "data": {
      "text/plain": [
       "126"
      ]
     },
     "execution_count": 23,
     "metadata": {},
     "output_type": "execute_result"
    }
   ],
   "source": [
    "del test\n",
    "gc.collect()\n"
   ]
  },
  {
   "cell_type": "markdown",
   "metadata": {},
   "source": [
    "### Observation: ###\n",
    "* There are no data/records that are only present in test dataset and not in train dataset.\n",
    "* We should be able to handel this in our model as for any organization new resource are added all the time. Model should have provision to handel these cases."
   ]
  },
  {
   "cell_type": "code",
   "execution_count": null,
   "metadata": {},
   "outputs": [],
   "source": []
  }
 ],
 "metadata": {
  "interpreter": {
   "hash": "bdc0d7d451ce7f6d5d2eccb7f4b3a7e5084394aa9c309b55e1eb76851fdd5e68"
  },
  "kernelspec": {
   "display_name": "Python 3.7.9 ('env': venv)",
   "language": "python",
   "name": "python3"
  },
  "language_info": {
   "codemirror_mode": {
    "name": "ipython",
    "version": 3
   },
   "file_extension": ".py",
   "mimetype": "text/x-python",
   "name": "python",
   "nbconvert_exporter": "python",
   "pygments_lexer": "ipython3",
   "version": "3.7.9"
  },
  "orig_nbformat": 4
 },
 "nbformat": 4,
 "nbformat_minor": 2
}
