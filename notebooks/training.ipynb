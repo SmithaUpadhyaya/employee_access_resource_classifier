{
 "cells": [
  {
   "cell_type": "code",
   "execution_count": 1,
   "metadata": {},
   "outputs": [],
   "source": [
    "import gc\n",
    "import os\n",
    "import numpy as np \n",
    "import pandas as pd \n",
    "import utils.paths as plh\n",
    "import utils.read_utils as hlpread\n",
    "from sklearn.pipeline import Pipeline\n",
    "from src.models.feature_eng.TE_KFold import KFoldTargetEncoder\n",
    "from src.models.feature_eng.FreqEncoding import FrequencyEncoding\n",
    "from src.models.feature_eng.Combine_feature import CombineFeatures\n",
    "from src.models.feature_eng.KFoldFreqEncoding import KFoldFrequencyEncoding\n",
    "from src.models.feature_eng.CountVectorizerEncoding import CountVectorizerEncoding\n",
    "from src.models.feature_eng.TFIDFVectorizerEncoding import TFIDFVectorizerEncoding"
   ]
  },
  {
   "cell_type": "code",
   "execution_count": 2,
   "metadata": {},
   "outputs": [
    {
     "name": "stdout",
     "output_type": "stream",
     "text": [
      "(30391, 10)\n",
      "Index(['ACTION', 'RESOURCE', 'MGR_ID', 'ROLE_ROLLUP_1', 'ROLE_ROLLUP_2',\n",
      "       'ROLE_DEPTNAME', 'ROLE_TITLE', 'ROLE_FAMILY_DESC', 'ROLE_FAMILY',\n",
      "       'ROLE_CODE'],\n",
      "      dtype='object')\n"
     ]
    }
   ],
   "source": [
    "PROJECT_ROOT = plh.get_project_root()\n",
    "\n",
    "train_data = os.path.join(PROJECT_ROOT, \n",
    "                          hlpread.read_yaml_key('data_source.data_folders'),\n",
    "                          hlpread.read_yaml_key('data_source.prepared.folder'),\n",
    "                          hlpread.read_yaml_key('data_source.prepared.clean_train'),\n",
    "                        )\n",
    "train = hlpread.read_from_parquet(train_data)\n",
    "\n",
    "print(train.shape)\n",
    "\n",
    "print(train.columns)\n",
    "#col_use = [x for x in train.columns if not x in ['ROLE_TITLE', 'MGR_ID']]\n",
    "#train = train[col_use]\n",
    "#targetcol = 'ACTION'\n",
    "\n",
    "#te_col = list(train.columns)\n",
    "#te_col.remove(targetcol)"
   ]
  },
  {
   "cell_type": "code",
   "execution_count": null,
   "metadata": {},
   "outputs": [],
   "source": [
    "from sklearn.preprocessing import LabelEncoder\n",
    "\n",
    "feature_engg = Pipeline( steps = [\n",
    "                                    ('combine_feature', CombineFeatures()),\n",
    "                                    #('label_encoder', LabelEncoder()),\n",
    "                                ]\n",
    "                         ,verbose =  True\n",
    "                        )  \n",
    "\n",
    "X = feature_engg.fit_transform(train) \n",
    "\n",
    "X.columns        "
   ]
  },
  {
   "cell_type": "code",
   "execution_count": null,
   "metadata": {},
   "outputs": [],
   "source": [
    "#Order of the pipeline matter as this impact the output\n",
    "feature_engg = Pipeline( steps = [\n",
    "                                ('combine_feature', CombineFeatures()),\n",
    "\n",
    "                                #('frequency_encoding', FrequencyEncoding(min_group_size = 2)),\n",
    "\n",
    "                                #('tfidf_vectorizer_encoding', TFIDFVectorizerEncoding()),\n",
    "\n",
    "                                #('count_vectorizer_encoding', CountVectorizerEncoding()),\n",
    "\n",
    "                                ('KFoldTE', KFoldTargetEncoder()),\n",
    "\n",
    "                                ]\n",
    "                              ,verbose =  True\n",
    "                        )                        \n",
    "\n",
    "\n",
    "X = feature_engg.fit_transform(train) \n",
    "\n",
    "X.shape"
   ]
  },
  {
   "cell_type": "code",
   "execution_count": null,
   "metadata": {},
   "outputs": [],
   "source": [
    "from sklearn.feature_selection import chi2\n",
    "from sklearn.feature_selection import SelectKBest\n",
    "\n",
    "chi2_feature = SelectKBest(chi2, k = 29)\n",
    "best_feature = chi2_feature.fit_transform(X_2, X.ACTION)\n"
   ]
  },
  {
   "cell_type": "code",
   "execution_count": null,
   "metadata": {},
   "outputs": [],
   "source": [
    "chi2_feature.scores_"
   ]
  },
  {
   "cell_type": "code",
   "execution_count": null,
   "metadata": {},
   "outputs": [],
   "source": [
    "chi2_feature.scores_.argsort()"
   ]
  },
  {
   "cell_type": "code",
   "execution_count": null,
   "metadata": {},
   "outputs": [],
   "source": [
    "chi2_feature.feature_names_in_"
   ]
  },
  {
   "cell_type": "code",
   "execution_count": null,
   "metadata": {},
   "outputs": [],
   "source": [
    "chi2_feature.feature_names_in_[chi2_feature.scores_.argsort()]"
   ]
  },
  {
   "cell_type": "code",
   "execution_count": null,
   "metadata": {},
   "outputs": [],
   "source": [
    "best_feature"
   ]
  },
  {
   "cell_type": "markdown",
   "metadata": {},
   "source": [
    "## Eval model ##"
   ]
  },
  {
   "cell_type": "code",
   "execution_count": 3,
   "metadata": {},
   "outputs": [],
   "source": [
    "from src.models.predict_model import employee_access_resource\n",
    "\n",
    "model_obj = employee_access_resource(os.path.join(PROJECT_ROOT, hlpread.read_yaml_key('trained_model.model_path')),\n",
    "                                     os.path.join(PROJECT_ROOT, hlpread.read_yaml_key('trained_model.feature_eng')))\n"
   ]
  },
  {
   "cell_type": "code",
   "execution_count": 4,
   "metadata": {},
   "outputs": [],
   "source": [
    "Y_predictions_by_class = model_obj.predict(train).astype(float) #Return 2d numpy array which is the probaility for each class label\n",
    "Y = train['ACTION'].astype(float)"
   ]
  },
  {
   "cell_type": "code",
   "execution_count": 5,
   "metadata": {},
   "outputs": [
    {
     "data": {
      "text/plain": [
       "array([[0.03594371, 0.96405629],\n",
       "       [0.03594371, 0.96405629],\n",
       "       [0.03594371, 0.96405629],\n",
       "       ...,\n",
       "       [0.05123675, 0.94876325],\n",
       "       [0.0571949 , 0.9428051 ],\n",
       "       [0.0798722 , 0.9201278 ]])"
      ]
     },
     "execution_count": 5,
     "metadata": {},
     "output_type": "execute_result"
    }
   ],
   "source": [
    "Y_predictions_by_class"
   ]
  },
  {
   "cell_type": "code",
   "execution_count": 6,
   "metadata": {},
   "outputs": [
    {
     "data": {
      "text/plain": [
       "Text(0, 0.5, 'True positive rate')"
      ]
     },
     "execution_count": 6,
     "metadata": {},
     "output_type": "execute_result"
    },
    {
     "data": {
      "image/png": "[encoded data removed]",
      "text/plain": [
       "<Figure size 750x750 with 1 Axes>"
      ]
     },
     "metadata": {},
     "output_type": "display_data"
    }
   ],
   "source": [
    "\n",
    "from sklearn.metrics import roc_curve\n",
    "import matplotlib.pyplot as plt\n",
    "\n",
    "fpr, tpr, thresholds = roc_curve(Y, Y_predictions_by_class[:,1])\n",
    "roc_auc_curve_df = pd.DataFrame()    \n",
    "roc_auc_curve_df['false_positive_rates'] = fpr\n",
    "roc_auc_curve_df['true_positive_rates'] = tpr\n",
    "roc_auc_curve_df['thresholds'] = thresholds\n",
    "\n",
    "fig, ax = plt.subplots(figsize = (7.5, 7.5))\n",
    "ax.plot(roc_auc_curve_df['false_positive_rates'], roc_auc_curve_df['true_positive_rates'],  color = 'green', label = 'ROC Curve') #, marker = 'o'\n",
    "\n",
    "ax.tick_params(axis = 'both', labelcolor = 'green')\n",
    "ax.set_xlabel('False positive rate')\n",
    "ax.set_ylabel('True positive rate')\n",
    "#label_str = str.format('ROC-AUC: {0}',  round(auc_score, 3))\n",
    "#ax.text(0.5, 0, label_str, fontsize = 6)"
   ]
  },
  {
   "cell_type": "code",
   "execution_count": null,
   "metadata": {},
   "outputs": [],
   "source": [
    "Y_pred = Y_predictions_by_class.argmax(-1)  \n",
    "conf_matrix = confusion_matrix(Y, Y_pred)\n",
    "\n",
    "print(conf_matrix)"
   ]
  },
  {
   "cell_type": "code",
   "execution_count": null,
   "metadata": {},
   "outputs": [],
   "source": [
    "auc_score"
   ]
  },
  {
   "cell_type": "code",
   "execution_count": null,
   "metadata": {},
   "outputs": [],
   "source": []
  }
 ],
 "metadata": {
  "interpreter": {
   "hash": "bdc0d7d451ce7f6d5d2eccb7f4b3a7e5084394aa9c309b55e1eb76851fdd5e68"
  },
  "kernelspec": {
   "display_name": "Python 3.7.9 ('env': venv)",
   "language": "python",
   "name": "python3"
  },
  "language_info": {
   "codemirror_mode": {
    "name": "ipython",
    "version": 3
   },
   "file_extension": ".py",
   "mimetype": "text/x-python",
   "name": "python",
   "nbconvert_exporter": "python",
   "pygments_lexer": "ipython3",
   "version": "3.9.8"
  },
  "orig_nbformat": 4
 },
 "nbformat": 4,
 "nbformat_minor": 2
}
