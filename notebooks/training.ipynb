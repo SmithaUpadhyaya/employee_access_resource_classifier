{
 "cells": [
  {
   "cell_type": "code",
   "execution_count": 1,
   "metadata": {},
   "outputs": [],
   "source": [
    "import gc\n",
    "import os\n",
    "import numpy as np \n",
    "import pandas as pd \n",
    "import utils.paths as plh\n",
    "import utils.read_utils as hlpread\n",
    "from sklearn.pipeline import Pipeline\n",
    "from src.models.feature_eng.TE_KFold import KFoldTargetEncoder\n",
    "from src.models.feature_eng.FreqEncoding import FrequencyEncoding\n",
    "from src.models.feature_eng.Combine_feature import CombineFeatures\n",
    "from src.models.feature_eng.KFoldFreqEncoding import KFoldFrequencyEncoding\n",
    "from src.models.feature_eng.CountVectorizerEncoding import CountVectorizerEncoding\n",
    "from src.models.feature_eng.TFIDFVectorizerEncoding import TFIDFVectorizerEncoding"
   ]
  },
  {
   "cell_type": "code",
   "execution_count": 2,
   "metadata": {},
   "outputs": [
    {
     "name": "stdout",
     "output_type": "stream",
     "text": [
      "(30391, 10)\n",
      "Index(['ACTION', 'RESOURCE', 'MGR_ID', 'ROLE_ROLLUP_1', 'ROLE_ROLLUP_2',\n",
      "       'ROLE_DEPTNAME', 'ROLE_TITLE', 'ROLE_FAMILY_DESC', 'ROLE_FAMILY',\n",
      "       'ROLE_CODE'],\n",
      "      dtype='object')\n"
     ]
    }
   ],
   "source": [
    "PROJECT_ROOT = plh.get_project_root()\n",
    "\n",
    "train_data = os.path.join(PROJECT_ROOT, \n",
    "                          hlpread.read_yaml_key('data_source.data_folders'),\n",
    "                          hlpread.read_yaml_key('data_source.prepared.folder'),\n",
    "                          hlpread.read_yaml_key('data_source.prepared.clean_train'),\n",
    "                        )\n",
    "train = hlpread.read_from_parquet(train_data)\n",
    "\n",
    "print(train.shape)\n",
    "\n",
    "print(train.columns)\n",
    "#col_use = [x for x in train.columns if not x in ['ROLE_TITLE', 'MGR_ID']]\n",
    "#train = train[col_use]\n",
    "#targetcol = 'ACTION'\n",
    "\n",
    "#te_col = list(train.columns)\n",
    "#te_col.remove(targetcol)"
   ]
  },
  {
   "cell_type": "code",
   "execution_count": 47,
   "metadata": {},
   "outputs": [
    {
     "name": "stdout",
     "output_type": "stream",
     "text": [
      "[Pipeline] ... (step 1 of 1) Processing combine_feature, total=   0.2s\n"
     ]
    },
    {
     "data": {
      "text/plain": [
       "Index(['ACTION', 'RESOURCE', 'MGR_ID', 'ROLE_ROLLUP_1', 'ROLE_ROLLUP_2',\n",
       "       'ROLE_DEPTNAME', 'ROLE_TITLE', 'ROLE_FAMILY_DESC', 'ROLE_FAMILY',\n",
       "       'ROLE_CODE', 'RESOURCE_ROLE_ROLLUP_1', 'RESOURCE_ROLE_ROLLUP_2',\n",
       "       'RESOURCE_ROLE_DEPTNAME', 'RESOURCE_ROLE_FAMILY_DESC',\n",
       "       'RESOURCE_ROLE_FAMILY', 'RESOURCE_ROLE_CODE',\n",
       "       'ROLE_ROLLUP_1_ROLE_ROLLUP_2', 'ROLE_ROLLUP_1_ROLE_DEPTNAME',\n",
       "       'ROLE_ROLLUP_1_ROLE_FAMILY_DESC', 'ROLE_ROLLUP_1_ROLE_FAMILY',\n",
       "       'ROLE_ROLLUP_1_ROLE_CODE', 'ROLE_ROLLUP_2_ROLE_DEPTNAME',\n",
       "       'ROLE_ROLLUP_2_ROLE_FAMILY_DESC', 'ROLE_ROLLUP_2_ROLE_FAMILY',\n",
       "       'ROLE_ROLLUP_2_ROLE_CODE', 'ROLE_DEPTNAME_ROLE_FAMILY_DESC',\n",
       "       'ROLE_DEPTNAME_ROLE_FAMILY', 'ROLE_DEPTNAME_ROLE_CODE',\n",
       "       'ROLE_FAMILY_DESC_ROLE_FAMILY', 'ROLE_FAMILY_DESC_ROLE_CODE',\n",
       "       'ROLE_FAMILY_ROLE_CODE'],\n",
       "      dtype='object')"
      ]
     },
     "execution_count": 47,
     "metadata": {},
     "output_type": "execute_result"
    }
   ],
   "source": [
    "from sklearn.preprocessing import LabelEncoder\n",
    "\n",
    "feature_engg = Pipeline( steps = [\n",
    "                                    ('combine_feature', CombineFeatures()),\n",
    "                                    #('label_encoder', LabelEncoder()),\n",
    "                                ]\n",
    "                         ,verbose =  True\n",
    "                        )  \n",
    "\n",
    "X = feature_engg.fit_transform(train) \n",
    "\n",
    "X.columns        "
   ]
  },
  {
   "cell_type": "code",
   "execution_count": 48,
   "metadata": {},
   "outputs": [
    {
     "data": {
      "text/html": [
       "<div>\n",
       "<style scoped>\n",
       "    .dataframe tbody tr th:only-of-type {\n",
       "        vertical-align: middle;\n",
       "    }\n",
       "\n",
       "    .dataframe tbody tr th {\n",
       "        vertical-align: top;\n",
       "    }\n",
       "\n",
       "    .dataframe thead th {\n",
       "        text-align: right;\n",
       "    }\n",
       "</style>\n",
       "<table border=\"1\" class=\"dataframe\">\n",
       "  <thead>\n",
       "    <tr style=\"text-align: right;\">\n",
       "      <th></th>\n",
       "      <th>index</th>\n",
       "      <th>uniq_count</th>\n",
       "    </tr>\n",
       "  </thead>\n",
       "  <tbody>\n",
       "    <tr>\n",
       "      <th>13</th>\n",
       "      <td>RESOURCE_ROLE_FAMILY_DESC</td>\n",
       "      <td>22734</td>\n",
       "    </tr>\n",
       "    <tr>\n",
       "      <th>15</th>\n",
       "      <td>RESOURCE_ROLE_CODE</td>\n",
       "      <td>19043</td>\n",
       "    </tr>\n",
       "    <tr>\n",
       "      <th>12</th>\n",
       "      <td>RESOURCE_ROLE_DEPTNAME</td>\n",
       "      <td>17354</td>\n",
       "    </tr>\n",
       "    <tr>\n",
       "      <th>11</th>\n",
       "      <td>RESOURCE_ROLE_ROLLUP_2</td>\n",
       "      <td>13422</td>\n",
       "    </tr>\n",
       "    <tr>\n",
       "      <th>14</th>\n",
       "      <td>RESOURCE_ROLE_FAMILY</td>\n",
       "      <td>13195</td>\n",
       "    </tr>\n",
       "    <tr>\n",
       "      <th>10</th>\n",
       "      <td>RESOURCE_ROLE_ROLLUP_1</td>\n",
       "      <td>11091</td>\n",
       "    </tr>\n",
       "    <tr>\n",
       "      <th>1</th>\n",
       "      <td>RESOURCE</td>\n",
       "      <td>7518</td>\n",
       "    </tr>\n",
       "    <tr>\n",
       "      <th>25</th>\n",
       "      <td>ROLE_DEPTNAME_ROLE_FAMILY_DESC</td>\n",
       "      <td>4553</td>\n",
       "    </tr>\n",
       "    <tr>\n",
       "      <th>2</th>\n",
       "      <td>MGR_ID</td>\n",
       "      <td>4085</td>\n",
       "    </tr>\n",
       "    <tr>\n",
       "      <th>22</th>\n",
       "      <td>ROLE_ROLLUP_2_ROLE_FAMILY_DESC</td>\n",
       "      <td>3949</td>\n",
       "    </tr>\n",
       "    <tr>\n",
       "      <th>18</th>\n",
       "      <td>ROLE_ROLLUP_1_ROLE_FAMILY_DESC</td>\n",
       "      <td>3282</td>\n",
       "    </tr>\n",
       "    <tr>\n",
       "      <th>29</th>\n",
       "      <td>ROLE_FAMILY_DESC_ROLE_CODE</td>\n",
       "      <td>3013</td>\n",
       "    </tr>\n",
       "    <tr>\n",
       "      <th>27</th>\n",
       "      <td>ROLE_DEPTNAME_ROLE_CODE</td>\n",
       "      <td>2946</td>\n",
       "    </tr>\n",
       "    <tr>\n",
       "      <th>28</th>\n",
       "      <td>ROLE_FAMILY_DESC_ROLE_FAMILY</td>\n",
       "      <td>2586</td>\n",
       "    </tr>\n",
       "    <tr>\n",
       "      <th>7</th>\n",
       "      <td>ROLE_FAMILY_DESC</td>\n",
       "      <td>2358</td>\n",
       "    </tr>\n",
       "    <tr>\n",
       "      <th>24</th>\n",
       "      <td>ROLE_ROLLUP_2_ROLE_CODE</td>\n",
       "      <td>2125</td>\n",
       "    </tr>\n",
       "    <tr>\n",
       "      <th>26</th>\n",
       "      <td>ROLE_DEPTNAME_ROLE_FAMILY</td>\n",
       "      <td>1613</td>\n",
       "    </tr>\n",
       "    <tr>\n",
       "      <th>20</th>\n",
       "      <td>ROLE_ROLLUP_1_ROLE_CODE</td>\n",
       "      <td>1506</td>\n",
       "    </tr>\n",
       "    <tr>\n",
       "      <th>21</th>\n",
       "      <td>ROLE_ROLLUP_2_ROLE_DEPTNAME</td>\n",
       "      <td>1398</td>\n",
       "    </tr>\n",
       "    <tr>\n",
       "      <th>17</th>\n",
       "      <td>ROLE_ROLLUP_1_ROLE_DEPTNAME</td>\n",
       "      <td>1185</td>\n",
       "    </tr>\n",
       "    <tr>\n",
       "      <th>23</th>\n",
       "      <td>ROLE_ROLLUP_2_ROLE_FAMILY</td>\n",
       "      <td>1045</td>\n",
       "    </tr>\n",
       "    <tr>\n",
       "      <th>19</th>\n",
       "      <td>ROLE_ROLLUP_1_ROLE_FAMILY</td>\n",
       "      <td>750</td>\n",
       "    </tr>\n",
       "    <tr>\n",
       "      <th>5</th>\n",
       "      <td>ROLE_DEPTNAME</td>\n",
       "      <td>449</td>\n",
       "    </tr>\n",
       "    <tr>\n",
       "      <th>30</th>\n",
       "      <td>ROLE_FAMILY_ROLE_CODE</td>\n",
       "      <td>343</td>\n",
       "    </tr>\n",
       "    <tr>\n",
       "      <th>9</th>\n",
       "      <td>ROLE_CODE</td>\n",
       "      <td>343</td>\n",
       "    </tr>\n",
       "    <tr>\n",
       "      <th>6</th>\n",
       "      <td>ROLE_TITLE</td>\n",
       "      <td>343</td>\n",
       "    </tr>\n",
       "    <tr>\n",
       "      <th>16</th>\n",
       "      <td>ROLE_ROLLUP_1_ROLE_ROLLUP_2</td>\n",
       "      <td>187</td>\n",
       "    </tr>\n",
       "    <tr>\n",
       "      <th>4</th>\n",
       "      <td>ROLE_ROLLUP_2</td>\n",
       "      <td>177</td>\n",
       "    </tr>\n",
       "    <tr>\n",
       "      <th>3</th>\n",
       "      <td>ROLE_ROLLUP_1</td>\n",
       "      <td>128</td>\n",
       "    </tr>\n",
       "    <tr>\n",
       "      <th>8</th>\n",
       "      <td>ROLE_FAMILY</td>\n",
       "      <td>67</td>\n",
       "    </tr>\n",
       "    <tr>\n",
       "      <th>0</th>\n",
       "      <td>ACTION</td>\n",
       "      <td>2</td>\n",
       "    </tr>\n",
       "  </tbody>\n",
       "</table>\n",
       "</div>"
      ],
      "text/plain": [
       "                             index  uniq_count\n",
       "13       RESOURCE_ROLE_FAMILY_DESC       22734\n",
       "15              RESOURCE_ROLE_CODE       19043\n",
       "12          RESOURCE_ROLE_DEPTNAME       17354\n",
       "11          RESOURCE_ROLE_ROLLUP_2       13422\n",
       "14            RESOURCE_ROLE_FAMILY       13195\n",
       "10          RESOURCE_ROLE_ROLLUP_1       11091\n",
       "1                         RESOURCE        7518\n",
       "25  ROLE_DEPTNAME_ROLE_FAMILY_DESC        4553\n",
       "2                           MGR_ID        4085\n",
       "22  ROLE_ROLLUP_2_ROLE_FAMILY_DESC        3949\n",
       "18  ROLE_ROLLUP_1_ROLE_FAMILY_DESC        3282\n",
       "29      ROLE_FAMILY_DESC_ROLE_CODE        3013\n",
       "27         ROLE_DEPTNAME_ROLE_CODE        2946\n",
       "28    ROLE_FAMILY_DESC_ROLE_FAMILY        2586\n",
       "7                 ROLE_FAMILY_DESC        2358\n",
       "24         ROLE_ROLLUP_2_ROLE_CODE        2125\n",
       "26       ROLE_DEPTNAME_ROLE_FAMILY        1613\n",
       "20         ROLE_ROLLUP_1_ROLE_CODE        1506\n",
       "21     ROLE_ROLLUP_2_ROLE_DEPTNAME        1398\n",
       "17     ROLE_ROLLUP_1_ROLE_DEPTNAME        1185\n",
       "23       ROLE_ROLLUP_2_ROLE_FAMILY        1045\n",
       "19       ROLE_ROLLUP_1_ROLE_FAMILY         750\n",
       "5                    ROLE_DEPTNAME         449\n",
       "30           ROLE_FAMILY_ROLE_CODE         343\n",
       "9                        ROLE_CODE         343\n",
       "6                       ROLE_TITLE         343\n",
       "16     ROLE_ROLLUP_1_ROLE_ROLLUP_2         187\n",
       "4                    ROLE_ROLLUP_2         177\n",
       "3                    ROLE_ROLLUP_1         128\n",
       "8                      ROLE_FAMILY          67\n",
       "0                           ACTION           2"
      ]
     },
     "execution_count": 48,
     "metadata": {},
     "output_type": "execute_result"
    }
   ],
   "source": [
    "Xcount = X.nunique().reset_index(name = 'uniq_count')\n",
    "Xcount.sort_values(by ='uniq_count', ascending= False)"
   ]
  },
  {
   "cell_type": "code",
   "execution_count": 49,
   "metadata": {},
   "outputs": [
    {
     "data": {
      "text/html": [
       "<div>\n",
       "<style scoped>\n",
       "    .dataframe tbody tr th:only-of-type {\n",
       "        vertical-align: middle;\n",
       "    }\n",
       "\n",
       "    .dataframe tbody tr th {\n",
       "        vertical-align: top;\n",
       "    }\n",
       "\n",
       "    .dataframe thead th {\n",
       "        text-align: right;\n",
       "    }\n",
       "</style>\n",
       "<table border=\"1\" class=\"dataframe\">\n",
       "  <thead>\n",
       "    <tr style=\"text-align: right;\">\n",
       "      <th></th>\n",
       "      <th>index</th>\n",
       "      <th>uniq_count</th>\n",
       "    </tr>\n",
       "  </thead>\n",
       "  <tbody>\n",
       "    <tr>\n",
       "      <th>13</th>\n",
       "      <td>RESOURCE_ROLE_FAMILY_DESC</td>\n",
       "      <td>22734</td>\n",
       "    </tr>\n",
       "    <tr>\n",
       "      <th>15</th>\n",
       "      <td>RESOURCE_ROLE_CODE</td>\n",
       "      <td>19043</td>\n",
       "    </tr>\n",
       "    <tr>\n",
       "      <th>12</th>\n",
       "      <td>RESOURCE_ROLE_DEPTNAME</td>\n",
       "      <td>17354</td>\n",
       "    </tr>\n",
       "    <tr>\n",
       "      <th>11</th>\n",
       "      <td>RESOURCE_ROLE_ROLLUP_2</td>\n",
       "      <td>13422</td>\n",
       "    </tr>\n",
       "    <tr>\n",
       "      <th>14</th>\n",
       "      <td>RESOURCE_ROLE_FAMILY</td>\n",
       "      <td>13195</td>\n",
       "    </tr>\n",
       "    <tr>\n",
       "      <th>10</th>\n",
       "      <td>RESOURCE_ROLE_ROLLUP_1</td>\n",
       "      <td>11091</td>\n",
       "    </tr>\n",
       "    <tr>\n",
       "      <th>1</th>\n",
       "      <td>RESOURCE</td>\n",
       "      <td>7518</td>\n",
       "    </tr>\n",
       "  </tbody>\n",
       "</table>\n",
       "</div>"
      ],
      "text/plain": [
       "                        index  uniq_count\n",
       "13  RESOURCE_ROLE_FAMILY_DESC       22734\n",
       "15         RESOURCE_ROLE_CODE       19043\n",
       "12     RESOURCE_ROLE_DEPTNAME       17354\n",
       "11     RESOURCE_ROLE_ROLLUP_2       13422\n",
       "14       RESOURCE_ROLE_FAMILY       13195\n",
       "10     RESOURCE_ROLE_ROLLUP_1       11091\n",
       "1                    RESOURCE        7518"
      ]
     },
     "execution_count": 49,
     "metadata": {},
     "output_type": "execute_result"
    }
   ],
   "source": [
    "Xcount[Xcount['uniq_count']>=5000].sort_values(by = 'uniq_count', ascending = False)"
   ]
  },
  {
   "cell_type": "code",
   "execution_count": null,
   "metadata": {},
   "outputs": [],
   "source": []
  },
  {
   "cell_type": "code",
   "execution_count": 42,
   "metadata": {},
   "outputs": [
    {
     "name": "stdout",
     "output_type": "stream",
     "text": [
      "[Pipeline] ... (step 1 of 3) Processing combine_feature, total=   0.2s\n",
      "[Pipeline]  (step 2 of 3) Processing count_vectorizer_encoding, total= 2.2min\n",
      "[Pipeline] ........... (step 3 of 3) Processing KFoldTE, total=  42.2s\n"
     ]
    },
    {
     "data": {
      "text/plain": [
       "(30391, 233)"
      ]
     },
     "execution_count": 42,
     "metadata": {},
     "output_type": "execute_result"
    }
   ],
   "source": [
    "#Order of the pipeline matter as this impact the output\n",
    "feature_engg = Pipeline( steps = [\n",
    "                                ('combine_feature', CombineFeatures()),\n",
    "\n",
    "                                #('frequency_encoding', FrequencyEncoding(min_group_size = 2)),\n",
    "\n",
    "                                #('tfidf_vectorizer_encoding', TFIDFVectorizerEncoding()),\n",
    "\n",
    "                                ('count_vectorizer_encoding', CountVectorizerEncoding()),\n",
    "\n",
    "                                ('KFoldTE', KFoldTargetEncoder()),\n",
    "\n",
    "                                ]\n",
    "                              ,verbose =  True\n",
    "                        )                        \n",
    "\n",
    "\n",
    "X = feature_engg.fit_transform(train) \n",
    "\n",
    "X.shape"
   ]
  },
  {
   "cell_type": "code",
   "execution_count": null,
   "metadata": {},
   "outputs": [],
   "source": [
    "X.head()"
   ]
  },
  {
   "cell_type": "code",
   "execution_count": 43,
   "metadata": {},
   "outputs": [
    {
     "data": {
      "text/plain": [
       "Index(['ACTION', 'RESOURCE', 'ROLE_ROLLUP_1', 'ROLE_ROLLUP_2', 'ROLE_DEPTNAME',\n",
       "       'ROLE_FAMILY_DESC', 'ROLE_FAMILY', 'ROLE_CODE',\n",
       "       'RESOURCE_ROLE_ROLLUP_1', 'RESOURCE_ROLE_ROLLUP_2',\n",
       "       ...\n",
       "       'ROLE_ROLLUP_2_ROLE_DEPTNAME_Kfold_TE',\n",
       "       'ROLE_ROLLUP_2_ROLE_FAMILY_DESC_Kfold_TE',\n",
       "       'ROLE_ROLLUP_2_ROLE_FAMILY_Kfold_TE',\n",
       "       'ROLE_ROLLUP_2_ROLE_CODE_Kfold_TE',\n",
       "       'ROLE_DEPTNAME_ROLE_FAMILY_DESC_Kfold_TE',\n",
       "       'ROLE_DEPTNAME_ROLE_FAMILY_Kfold_TE',\n",
       "       'ROLE_DEPTNAME_ROLE_CODE_Kfold_TE',\n",
       "       'ROLE_FAMILY_DESC_ROLE_FAMILY_Kfold_TE',\n",
       "       'ROLE_FAMILY_DESC_ROLE_CODE_Kfold_TE',\n",
       "       'ROLE_FAMILY_ROLE_CODE_Kfold_TE'],\n",
       "      dtype='object', length=233)"
      ]
     },
     "execution_count": 43,
     "metadata": {},
     "output_type": "execute_result"
    }
   ],
   "source": [
    "X.columns"
   ]
  },
  {
   "cell_type": "code",
   "execution_count": 44,
   "metadata": {},
   "outputs": [
    {
     "data": {
      "text/plain": [
       "Index(['ACTION', 'RESOURCE_svd_ROLE_ROLLUP_1_cv',\n",
       "       'RESOURCE_svd_ROLE_ROLLUP_1_ROLE_FAMILY_DESC_cv',\n",
       "       'ROLE_ROLLUP_1_svd_RESOURCE_cv', 'ROLE_ROLLUP_1_svd_ROLE_ROLLUP_2_cv',\n",
       "       'ROLE_ROLLUP_1_svd_ROLE_FAMILY_DESC_cv',\n",
       "       'ROLE_ROLLUP_1_svd_ROLE_FAMILY_cv', 'ROLE_ROLLUP_1_svd_ROLE_CODE_cv',\n",
       "       'ROLE_ROLLUP_1_svd_RESOURCE_ROLE_ROLLUP_1_cv',\n",
       "       'ROLE_ROLLUP_1_svd_RESOURCE_ROLE_ROLLUP_2_cv',\n",
       "       ...\n",
       "       'ROLE_ROLLUP_2_ROLE_DEPTNAME_Kfold_TE',\n",
       "       'ROLE_ROLLUP_2_ROLE_FAMILY_DESC_Kfold_TE',\n",
       "       'ROLE_ROLLUP_2_ROLE_FAMILY_Kfold_TE',\n",
       "       'ROLE_ROLLUP_2_ROLE_CODE_Kfold_TE',\n",
       "       'ROLE_DEPTNAME_ROLE_FAMILY_DESC_Kfold_TE',\n",
       "       'ROLE_DEPTNAME_ROLE_FAMILY_Kfold_TE',\n",
       "       'ROLE_DEPTNAME_ROLE_CODE_Kfold_TE',\n",
       "       'ROLE_FAMILY_DESC_ROLE_FAMILY_Kfold_TE',\n",
       "       'ROLE_FAMILY_DESC_ROLE_CODE_Kfold_TE',\n",
       "       'ROLE_FAMILY_ROLE_CODE_Kfold_TE'],\n",
       "      dtype='object', length=205)"
      ]
     },
     "execution_count": 44,
     "metadata": {},
     "output_type": "execute_result"
    }
   ],
   "source": [
    "feature_columns = X.select_dtypes(exclude= ['object']).columns \n",
    "feature_columns[1:]"
   ]
  },
  {
   "cell_type": "code",
   "execution_count": 4,
   "metadata": {},
   "outputs": [
    {
     "data": {
      "text/plain": [
       "Index(['RESOURCE', 'ROLE_ROLLUP_1', 'ROLE_ROLLUP_2', 'ROLE_DEPTNAME',\n",
       "       'ROLE_TITLE', 'ROLE_FAMILY_DESC', 'ROLE_FAMILY', 'ROLE_CODE',\n",
       "       'RESOURCE_ROLE_ROLLUP_1', 'RESOURCE_ROLE_ROLLUP_2',\n",
       "       'RESOURCE_ROLE_DEPTNAME', 'RESOURCE_ROLE_FAMILY_DESC',\n",
       "       'RESOURCE_ROLE_FAMILY', 'RESOURCE_ROLE_CODE',\n",
       "       'ROLE_ROLLUP_1_ROLE_ROLLUP_2', 'ROLE_ROLLUP_1_ROLE_DEPTNAME',\n",
       "       'ROLE_ROLLUP_1_ROLE_FAMILY_DESC', 'ROLE_ROLLUP_1_ROLE_FAMILY',\n",
       "       'ROLE_ROLLUP_1_ROLE_CODE', 'ROLE_ROLLUP_2_ROLE_DEPTNAME',\n",
       "       'ROLE_ROLLUP_2_ROLE_FAMILY_DESC', 'ROLE_ROLLUP_2_ROLE_FAMILY',\n",
       "       'ROLE_ROLLUP_2_ROLE_CODE', 'ROLE_DEPTNAME_ROLE_FAMILY_DESC',\n",
       "       'ROLE_DEPTNAME_ROLE_FAMILY', 'ROLE_DEPTNAME_ROLE_CODE',\n",
       "       'ROLE_FAMILY_DESC_ROLE_FAMILY', 'ROLE_FAMILY_DESC_ROLE_CODE',\n",
       "       'ROLE_FAMILY_ROLE_CODE'],\n",
       "      dtype='object')"
      ]
     },
     "execution_count": 4,
     "metadata": {},
     "output_type": "execute_result"
    }
   ],
   "source": [
    "feature_columns = X.select_dtypes(include = ['object']).columns \n",
    "feature_columns"
   ]
  },
  {
   "cell_type": "code",
   "execution_count": 10,
   "metadata": {},
   "outputs": [],
   "source": [
    "def assign_rnd_integer(dataset, number_of_times = 1, seed = 2023):\n",
    "    new_dataset = pd.DataFrame()\n",
    "    np.random.seed(seed)\n",
    "    for c in dataset.columns:\n",
    "        for i in range(number_of_times):\n",
    "            col_name = c+\"_\"+str(i)\n",
    "            unique_vals = dataset[c].unique()\n",
    "            labels = np.array(list(range(len(unique_vals))))\n",
    "            np.random.shuffle(labels)\n",
    "            mapping = pd.DataFrame({c: unique_vals, col_name: labels})\n",
    "            new_dataset[col_name] = (dataset[[c]]\n",
    "                                     .merge(mapping, on = c, how = 'left')[col_name]\n",
    "                                    ).values\n",
    "    return new_dataset\n",
    "\n",
    "X_2 = assign_rnd_integer(X[feature_columns])"
   ]
  },
  {
   "cell_type": "code",
   "execution_count": 12,
   "metadata": {},
   "outputs": [
    {
     "data": {
      "text/plain": [
       "Index(['RESOURCE_0', 'ROLE_ROLLUP_1_0', 'ROLE_ROLLUP_2_0', 'ROLE_DEPTNAME_0',\n",
       "       'ROLE_TITLE_0', 'ROLE_FAMILY_DESC_0', 'ROLE_FAMILY_0', 'ROLE_CODE_0',\n",
       "       'RESOURCE_ROLE_ROLLUP_1_0', 'RESOURCE_ROLE_ROLLUP_2_0',\n",
       "       'RESOURCE_ROLE_DEPTNAME_0', 'RESOURCE_ROLE_FAMILY_DESC_0',\n",
       "       'RESOURCE_ROLE_FAMILY_0', 'RESOURCE_ROLE_CODE_0',\n",
       "       'ROLE_ROLLUP_1_ROLE_ROLLUP_2_0', 'ROLE_ROLLUP_1_ROLE_DEPTNAME_0',\n",
       "       'ROLE_ROLLUP_1_ROLE_FAMILY_DESC_0', 'ROLE_ROLLUP_1_ROLE_FAMILY_0',\n",
       "       'ROLE_ROLLUP_1_ROLE_CODE_0', 'ROLE_ROLLUP_2_ROLE_DEPTNAME_0',\n",
       "       'ROLE_ROLLUP_2_ROLE_FAMILY_DESC_0', 'ROLE_ROLLUP_2_ROLE_FAMILY_0',\n",
       "       'ROLE_ROLLUP_2_ROLE_CODE_0', 'ROLE_DEPTNAME_ROLE_FAMILY_DESC_0',\n",
       "       'ROLE_DEPTNAME_ROLE_FAMILY_0', 'ROLE_DEPTNAME_ROLE_CODE_0',\n",
       "       'ROLE_FAMILY_DESC_ROLE_FAMILY_0', 'ROLE_FAMILY_DESC_ROLE_CODE_0',\n",
       "       'ROLE_FAMILY_ROLE_CODE_0'],\n",
       "      dtype='object')"
      ]
     },
     "execution_count": 12,
     "metadata": {},
     "output_type": "execute_result"
    }
   ],
   "source": [
    "X_2.columns"
   ]
  },
  {
   "cell_type": "code",
   "execution_count": 36,
   "metadata": {},
   "outputs": [],
   "source": [
    "from sklearn.feature_selection import chi2\n",
    "from sklearn.feature_selection import SelectKBest\n",
    "\n",
    "chi2_feature = SelectKBest(chi2, k = 29)\n",
    "best_feature = chi2_feature.fit_transform(X_2, X.ACTION)\n"
   ]
  },
  {
   "cell_type": "code",
   "execution_count": 37,
   "metadata": {},
   "outputs": [
    {
     "data": {
      "text/plain": [
       "array([  179.79681866,   440.72187967,  1500.57693636,   184.74044727,\n",
       "          73.27398768,  5084.72221475,    58.63225907,   404.12521478,\n",
       "        1598.98391097,    32.32397894,  1538.48661015,   754.73077548,\n",
       "         588.22319832,    95.7254337 ,   450.55712416,   797.35428785,\n",
       "        2218.18303481,   591.18845719,  2027.66683632,  1455.33417203,\n",
       "        4834.32111978,   185.74463499,  7909.07825373,    54.62173851,\n",
       "        6012.25826507,   544.87378976, 12109.88162184,  2726.38963297,\n",
       "         325.85226668])"
      ]
     },
     "execution_count": 37,
     "metadata": {},
     "output_type": "execute_result"
    }
   ],
   "source": [
    "chi2_feature.scores_"
   ]
  },
  {
   "cell_type": "code",
   "execution_count": 40,
   "metadata": {},
   "outputs": [
    {
     "data": {
      "text/plain": [
       "array([ 9, 23,  6,  4, 13,  0,  3, 21, 28,  7,  1, 14, 25, 12, 17, 11, 15,\n",
       "       19,  2, 10,  8, 18, 16, 27, 20,  5, 24, 22, 26], dtype=int64)"
      ]
     },
     "execution_count": 40,
     "metadata": {},
     "output_type": "execute_result"
    }
   ],
   "source": [
    "chi2_feature.scores_.argsort()"
   ]
  },
  {
   "cell_type": "code",
   "execution_count": 39,
   "metadata": {},
   "outputs": [
    {
     "data": {
      "text/plain": [
       "array(['RESOURCE_0', 'ROLE_ROLLUP_1_0', 'ROLE_ROLLUP_2_0',\n",
       "       'ROLE_DEPTNAME_0', 'ROLE_TITLE_0', 'ROLE_FAMILY_DESC_0',\n",
       "       'ROLE_FAMILY_0', 'ROLE_CODE_0', 'RESOURCE_ROLE_ROLLUP_1_0',\n",
       "       'RESOURCE_ROLE_ROLLUP_2_0', 'RESOURCE_ROLE_DEPTNAME_0',\n",
       "       'RESOURCE_ROLE_FAMILY_DESC_0', 'RESOURCE_ROLE_FAMILY_0',\n",
       "       'RESOURCE_ROLE_CODE_0', 'ROLE_ROLLUP_1_ROLE_ROLLUP_2_0',\n",
       "       'ROLE_ROLLUP_1_ROLE_DEPTNAME_0',\n",
       "       'ROLE_ROLLUP_1_ROLE_FAMILY_DESC_0', 'ROLE_ROLLUP_1_ROLE_FAMILY_0',\n",
       "       'ROLE_ROLLUP_1_ROLE_CODE_0', 'ROLE_ROLLUP_2_ROLE_DEPTNAME_0',\n",
       "       'ROLE_ROLLUP_2_ROLE_FAMILY_DESC_0', 'ROLE_ROLLUP_2_ROLE_FAMILY_0',\n",
       "       'ROLE_ROLLUP_2_ROLE_CODE_0', 'ROLE_DEPTNAME_ROLE_FAMILY_DESC_0',\n",
       "       'ROLE_DEPTNAME_ROLE_FAMILY_0', 'ROLE_DEPTNAME_ROLE_CODE_0',\n",
       "       'ROLE_FAMILY_DESC_ROLE_FAMILY_0', 'ROLE_FAMILY_DESC_ROLE_CODE_0',\n",
       "       'ROLE_FAMILY_ROLE_CODE_0'], dtype=object)"
      ]
     },
     "execution_count": 39,
     "metadata": {},
     "output_type": "execute_result"
    }
   ],
   "source": [
    "chi2_feature.feature_names_in_"
   ]
  },
  {
   "cell_type": "code",
   "execution_count": 41,
   "metadata": {},
   "outputs": [
    {
     "data": {
      "text/plain": [
       "array(['RESOURCE_ROLE_ROLLUP_2_0', 'ROLE_DEPTNAME_ROLE_FAMILY_DESC_0',\n",
       "       'ROLE_FAMILY_0', 'ROLE_TITLE_0', 'RESOURCE_ROLE_CODE_0',\n",
       "       'RESOURCE_0', 'ROLE_DEPTNAME_0', 'ROLE_ROLLUP_2_ROLE_FAMILY_0',\n",
       "       'ROLE_FAMILY_ROLE_CODE_0', 'ROLE_CODE_0', 'ROLE_ROLLUP_1_0',\n",
       "       'ROLE_ROLLUP_1_ROLE_ROLLUP_2_0', 'ROLE_DEPTNAME_ROLE_CODE_0',\n",
       "       'RESOURCE_ROLE_FAMILY_0', 'ROLE_ROLLUP_1_ROLE_FAMILY_0',\n",
       "       'RESOURCE_ROLE_FAMILY_DESC_0', 'ROLE_ROLLUP_1_ROLE_DEPTNAME_0',\n",
       "       'ROLE_ROLLUP_2_ROLE_DEPTNAME_0', 'ROLE_ROLLUP_2_0',\n",
       "       'RESOURCE_ROLE_DEPTNAME_0', 'RESOURCE_ROLE_ROLLUP_1_0',\n",
       "       'ROLE_ROLLUP_1_ROLE_CODE_0', 'ROLE_ROLLUP_1_ROLE_FAMILY_DESC_0',\n",
       "       'ROLE_FAMILY_DESC_ROLE_CODE_0', 'ROLE_ROLLUP_2_ROLE_FAMILY_DESC_0',\n",
       "       'ROLE_FAMILY_DESC_0', 'ROLE_DEPTNAME_ROLE_FAMILY_0',\n",
       "       'ROLE_ROLLUP_2_ROLE_CODE_0', 'ROLE_FAMILY_DESC_ROLE_FAMILY_0'],\n",
       "      dtype=object)"
      ]
     },
     "execution_count": 41,
     "metadata": {},
     "output_type": "execute_result"
    }
   ],
   "source": [
    "chi2_feature.feature_names_in_[chi2_feature.scores_.argsort()]"
   ]
  },
  {
   "cell_type": "code",
   "execution_count": 19,
   "metadata": {},
   "outputs": [
    {
     "data": {
      "text/plain": [
       "array([[   24,   711, 10830, ...,  1433,  1956,  1345],\n",
       "       [   87,    84,  2256, ...,   991,  2015,  1598],\n",
       "       [  152,  1274,  8552, ...,  1366,  1316,  1315],\n",
       "       ...,\n",
       "       [   58,  1223,  2026, ...,  1051,  2504,  1180],\n",
       "       [   96,  2021,  4739, ...,  1338,  1845,  2511],\n",
       "       [  138,  1806,  5550, ...,   861,  1540,   506]])"
      ]
     },
     "execution_count": 19,
     "metadata": {},
     "output_type": "execute_result"
    }
   ],
   "source": [
    "best_feature"
   ]
  },
  {
   "cell_type": "code",
   "execution_count": null,
   "metadata": {},
   "outputs": [],
   "source": []
  },
  {
   "cell_type": "code",
   "execution_count": null,
   "metadata": {},
   "outputs": [],
   "source": [
    "#Export the result of the dvc exp to cvs file \n",
    "\"\"\"\n",
    "import csv\n",
    "import subprocess\n",
    " \n",
    "## call date command ##\n",
    "p = subprocess.Popen(\"dvc exp show -A --csv\", stdout = subprocess.PIPE, shell = True)\n",
    "(output, err) = p.communicate()\n",
    "p_status = p.wait()\n",
    "\n",
    "with open('Example.csv', 'w', encoding='UTF8', newline='') as file:\n",
    "\n",
    "    writer = csv.writer(file)\n",
    "\n",
    "    header = []\n",
    "    data = []\n",
    "    for i, line in enumerate(output.splitlines()):\n",
    "\n",
    "        line = line.decode('ASCII') #Output return is  “byte string“. Note: ‘b‘ character before a string is used to specify the string as a “byte string“\n",
    "        \n",
    "        if len(line) == 0:\n",
    "            continue\n",
    "        \n",
    "        if len(header) == 0:\n",
    "            for word in line.split(','):\n",
    "                header.append(word)\n",
    "\n",
    "        else:\n",
    "            row = []    \n",
    "            for word in line.split(','):\n",
    "                row.append(word)\n",
    "\n",
    "            data.append(row)\n",
    "    \n",
    "    writer.writerow(header)\n",
    "    writer.writerow(data)\n",
    "\n",
    "\n",
    "#f = pd.DataFrame(data)\n",
    "#f.drop(range(146,198,1), axis = 1, inplace = True)\n",
    "#f.columns = header\n",
    "#f.shape\n",
    "#\n",
    "\n",
    "\"\"\""
   ]
  },
  {
   "cell_type": "markdown",
   "metadata": {},
   "source": [
    "# Evaluate Models #\n",
    "\n",
    "Evaluate the models on the saved test dataset "
   ]
  },
  {
   "cell_type": "markdown",
   "metadata": {},
   "source": [
    "## Decision Tree ##"
   ]
  },
  {
   "cell_type": "code",
   "execution_count": null,
   "metadata": {},
   "outputs": [],
   "source": [
    "trained_model = hlpread.read_object(\n",
    "                                    os.path.join(PROJECT_ROOT, \n",
    "                                                 hlpread.read_yaml_key('data_source.data_folders'),\n",
    "                                                 hlpread.read_yaml_key('model.trained_model')\n",
    "                                                 )\n",
    "                                    )"
   ]
  },
  {
   "cell_type": "code",
   "execution_count": null,
   "metadata": {},
   "outputs": [],
   "source": [
    "Y_predictions_by_class = trained_model.predict_proba(X).astype(float) #Return 2d numpy array which is the probaility for each class label\n",
    "Y = Y.astype(float)"
   ]
  },
  {
   "cell_type": "code",
   "execution_count": null,
   "metadata": {},
   "outputs": [],
   "source": [
    "Y_pred = Y_predictions_by_class.argmax(-1)  \n",
    "conf_matrix = confusion_matrix(Y, Y_pred)\n",
    "\n",
    "print(conf_matrix)"
   ]
  },
  {
   "cell_type": "code",
   "execution_count": null,
   "metadata": {},
   "outputs": [],
   "source": [
    "f1_score(Y, Y_pred)"
   ]
  },
  {
   "cell_type": "markdown",
   "metadata": {},
   "source": [
    "## Random Forest ##"
   ]
  },
  {
   "cell_type": "code",
   "execution_count": null,
   "metadata": {},
   "outputs": [],
   "source": [
    "trained_model = hlpread.read_object(\n",
    "                                    os.path.join(PROJECT_ROOT, \n",
    "                                                 hlpread.read_yaml_key('data_source.data_folders'),\n",
    "                                                 hlpread.read_yaml_key('model.trained_model')\n",
    "                                                 )\n",
    ")\n",
    "                                    "
   ]
  },
  {
   "cell_type": "code",
   "execution_count": null,
   "metadata": {},
   "outputs": [],
   "source": [
    "Y_predictions_by_class = trained_model.predict_proba(X).astype(float) #Return 2d numpy array which is the probaility for each class label\n",
    "Y = Y.astype(float)"
   ]
  },
  {
   "cell_type": "code",
   "execution_count": null,
   "metadata": {},
   "outputs": [],
   "source": [
    "Y_pred = Y_predictions_by_class.argmax(-1)  \n",
    "conf_matrix = confusion_matrix(Y, Y_pred)\n",
    "\n",
    "print(conf_matrix)"
   ]
  },
  {
   "cell_type": "code",
   "execution_count": null,
   "metadata": {},
   "outputs": [],
   "source": [
    "f1_score(Y, Y_pred)"
   ]
  },
  {
   "cell_type": "markdown",
   "metadata": {},
   "source": [
    "## Extra Decision Tree(Ensemble) ## "
   ]
  },
  {
   "cell_type": "code",
   "execution_count": null,
   "metadata": {},
   "outputs": [],
   "source": [
    "trained_model = hlpread.read_object(\n",
    "                                    os.path.join(PROJECT_ROOT, \n",
    "                                                 hlpread.read_yaml_key('data_source.data_folders'),\n",
    "                                                 hlpread.read_yaml_key('model.trained_model')\n",
    "                                                 )\n",
    ")\n",
    "                                    "
   ]
  },
  {
   "cell_type": "code",
   "execution_count": null,
   "metadata": {},
   "outputs": [],
   "source": [
    "Y_predictions_by_class = trained_model.predict_proba(X).astype(float) #Return 2d numpy array which is the probaility for each class label\n",
    "Y = Y.astype(float)\n",
    "\n",
    "Y_pred = Y_predictions_by_class.argmax(-1)  \n",
    "conf_matrix = confusion_matrix(Y, Y_pred)\n",
    "\n",
    "print(conf_matrix)\n"
   ]
  },
  {
   "cell_type": "code",
   "execution_count": null,
   "metadata": {},
   "outputs": [],
   "source": [
    "f1_score(Y, Y_pred)"
   ]
  },
  {
   "cell_type": "markdown",
   "metadata": {},
   "source": [
    "## Logistic Regression ##"
   ]
  },
  {
   "cell_type": "code",
   "execution_count": null,
   "metadata": {},
   "outputs": [],
   "source": [
    "trained_model = hlpread.read_object(\n",
    "                                    os.path.join(PROJECT_ROOT, \n",
    "                                                 hlpread.read_yaml_key('data_source.data_folders'),\n",
    "                                                 hlpread.read_yaml_key('model.trained_model')\n",
    "                                                 )\n",
    ")\n",
    "                                    "
   ]
  },
  {
   "cell_type": "code",
   "execution_count": null,
   "metadata": {},
   "outputs": [],
   "source": [
    "Y_predictions_by_class = trained_model.predict_proba(X).astype(float) #Return 2d numpy array which is the probaility for each class label\n",
    "Y = Y.astype(float)\n",
    "\n",
    "Y_pred = Y_predictions_by_class.argmax(-1)  \n",
    "conf_matrix = confusion_matrix(Y, Y_pred)\n",
    "\n",
    "print(conf_matrix)\n"
   ]
  },
  {
   "cell_type": "code",
   "execution_count": null,
   "metadata": {},
   "outputs": [],
   "source": [
    "f1_score(Y, Y_pred)"
   ]
  },
  {
   "cell_type": "markdown",
   "metadata": {},
   "source": [
    "# Cross Validation for Decision Tree model #\n",
    "\n",
    "Let's perform cross validation on the final parmater of the decision tree model"
   ]
  },
  {
   "cell_type": "code",
   "execution_count": null,
   "metadata": {},
   "outputs": [],
   "source": [
    "training_param =  hlpread.read_yaml_key('trained_model')"
   ]
  },
  {
   "cell_type": "code",
   "execution_count": null,
   "metadata": {},
   "outputs": [],
   "source": [
    "#Load clean data\n",
    "import utils.read_utils as hlpread\n",
    "\n",
    "clean_train_data = os.path.join(PROJECT_ROOT,\n",
    "                                hlpread.read_yaml_key('data_source.data_folders'),\n",
    "                                hlpread.read_yaml_key('data_source.prepared.folder'),\n",
    "                                hlpread.read_yaml_key('data_source.prepared.clean_train'),\n",
    "                                )\n",
    "db_train = hlpread.read_from_parquet(clean_train_data)"
   ]
  },
  {
   "cell_type": "code",
   "execution_count": null,
   "metadata": {},
   "outputs": [],
   "source": [
    "# Create pipeline\n",
    "from src.models.feature_eng.CountVectorizerEncoding import CountVectorizerEncoding\n",
    "from src.models.feature_eng.Combine_feature import CombineFeatures\n",
    "from src.models.feature_eng.TE_KFold import KFoldTargetEncoder\n",
    "from sklearn.pipeline import Pipeline\n",
    "\n",
    "feature_engg = Pipeline(steps = [\n",
    "                                    ('combine_feature', CombineFeatures()),\n",
    "                                    ('count_vectorizer_encoding', CountVectorizerEncoding()),\n",
    "                                    ('KFoldTE', KFoldTargetEncoder())\n",
    "                                ]) \n",
    "\n",
    "X = feature_engg.fit_transform(db_train) "
   ]
  },
  {
   "cell_type": "code",
   "execution_count": null,
   "metadata": {},
   "outputs": [],
   "source": [
    "#Define cross validation DT\n",
    "from sklearn.model_selection import cross_validate\n",
    "from sklearn.metrics import roc_auc_score\n",
    "from sklearn.tree import DecisionTreeClassifier\n",
    "from sklearn.model_selection import StratifiedShuffleSplit\n",
    "\n",
    "cv_results = {}\n",
    "split_params = hlpread.read_yaml_key('train_test_split')\n",
    "split_s = StratifiedShuffleSplit(n_splits = 4, test_size = split_params['test_size'], random_state = split_params['random_seed'])\n",
    "\n",
    "fold = 0\n",
    "for train_index, test_index in split_s.split(X[X.columns[30:]], X['ACTION']):\n",
    "    \n",
    "    Y_train, Y_test = X[['ACTION']].iloc[train_index,:], X[['ACTION']].iloc[test_index,:]\n",
    "    X_train, X_test = X[X.columns[30:]].iloc[train_index,:], X[X.columns[30:]].iloc[test_index,:]\n",
    "\n",
    "    model = DecisionTreeClassifier(criterion = 'gini', random_state = 42)\n",
    "    model.set_params(**training_param['params'])\n",
    "\n",
    "    model.fit(X_train, Y_train ) \n",
    "\n",
    "    Y_test_pred = model.predict_proba(X_test).astype(float)\n",
    "    auc_score = roc_auc_score(Y_test.astype(float), Y_test_pred[:,1])\n",
    "\n",
    "    cv_results[fold] = auc_score\n",
    "    fold += 1"
   ]
  },
  {
   "cell_type": "code",
   "execution_count": null,
   "metadata": {},
   "outputs": [],
   "source": [
    "cv_results"
   ]
  },
  {
   "cell_type": "code",
   "execution_count": null,
   "metadata": {},
   "outputs": [],
   "source": [
    "sum(cv_results.values()) / len(cv_results)"
   ]
  },
  {
   "cell_type": "markdown",
   "metadata": {},
   "source": [
    "## Train model ##"
   ]
  },
  {
   "cell_type": "code",
   "execution_count": null,
   "metadata": {},
   "outputs": [],
   "source": [
    "model.fit(X[X.columns[30:]], X['ACTION'])"
   ]
  },
  {
   "cell_type": "code",
   "execution_count": null,
   "metadata": {},
   "outputs": [],
   "source": [
    "Y_predictions_by_class = model.predict_proba(X[X.columns[30:]]).astype(float) #Return 2d numpy array which is the probaility for each class label\n",
    "Y = X['ACTION'].astype(float)\n",
    "\n",
    "Y_pred = Y_predictions_by_class.argmax(-1)  \n",
    "conf_matrix = confusion_matrix(Y, Y_pred)\n",
    "\n",
    "print(conf_matrix)"
   ]
  },
  {
   "cell_type": "code",
   "execution_count": null,
   "metadata": {},
   "outputs": [],
   "source": [
    "auc_score"
   ]
  },
  {
   "cell_type": "code",
   "execution_count": null,
   "metadata": {},
   "outputs": [],
   "source": [
    "\n",
    "from sklearn.metrics import roc_curve\n",
    "import matplotlib.pyplot as plt\n",
    "\n",
    "fpr, tpr, thresholds = roc_curve(Y, Y_predictions_by_class[:,1])\n",
    "roc_auc_curve_df = pd.DataFrame()    \n",
    "roc_auc_curve_df['false_positive_rates'] = fpr\n",
    "roc_auc_curve_df['true_positive_rates'] = tpr\n",
    "roc_auc_curve_df['thresholds'] = thresholds\n",
    "\n",
    "fig, ax = plt.subplots(figsize = (7.5, 7.5))\n",
    "ax.plot(roc_auc_curve_df['false_positive_rates'], roc_auc_curve_df['true_positive_rates'],  color = 'green', label = 'ROC Curve') #, marker = 'o'\n",
    "\n",
    "ax.tick_params(axis = 'both', labelcolor = 'green')\n",
    "ax.set_xlabel('False positive rate')\n",
    "ax.set_ylabel('True positive rate')\n",
    "label_str = str.format('ROC-AUC: {0}',  round(auc_score, 3))\n",
    "ax.text(0.5, 0, label_str, fontsize = 6)"
   ]
  }
 ],
 "metadata": {
  "interpreter": {
   "hash": "bdc0d7d451ce7f6d5d2eccb7f4b3a7e5084394aa9c309b55e1eb76851fdd5e68"
  },
  "kernelspec": {
   "display_name": "Python 3.7.9 ('env': venv)",
   "language": "python",
   "name": "python3"
  },
  "language_info": {
   "codemirror_mode": {
    "name": "ipython",
    "version": 3
   },
   "file_extension": ".py",
   "mimetype": "text/x-python",
   "name": "python",
   "nbconvert_exporter": "python",
   "pygments_lexer": "ipython3",
   "version": "3.9.8"
  },
  "orig_nbformat": 4
 },
 "nbformat": 4,
 "nbformat_minor": 2
}
