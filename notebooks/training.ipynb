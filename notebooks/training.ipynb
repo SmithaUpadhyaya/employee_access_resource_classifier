{
 "cells": [
  {
   "cell_type": "code",
   "execution_count": 1,
   "metadata": {},
   "outputs": [],
   "source": [
    "import gc\n",
    "import os\n",
    "import numpy as np \n",
    "import pandas as pd \n",
    "import utils.paths as plh\n",
    "import utils.read_utils as hlpread\n",
    "from src.models.feature_eng.TE_KFold import KFoldTargetEncoder\n",
    "from src.models.feature_eng.FreqEncoding import FrequencyEncoding\n",
    "from src.models.feature_eng.Combine_feature import CombineFeatures\n",
    "from src.models.feature_eng.KFoldFreqEncoding import KFoldFrequencyEncoding\n",
    "from src.models.feature_eng.CountVectorizerEncoding import CountVectorizerEncoding\n",
    "from src.models.feature_eng.TFIDFVectorizerEncoding import TFIDFVectorizerEncoding"
   ]
  },
  {
   "cell_type": "markdown",
   "metadata": {},
   "source": [
    "# Pipeline #"
   ]
  },
  {
   "cell_type": "code",
   "execution_count": 8,
   "metadata": {},
   "outputs": [
    {
     "name": "stdout",
     "output_type": "stream",
     "text": [
      "(30391, 10)\n",
      "Index(['ACTION', 'RESOURCE', 'MGR_ID', 'ROLE_ROLLUP_1', 'ROLE_ROLLUP_2',\n",
      "       'ROLE_DEPTNAME', 'ROLE_TITLE', 'ROLE_FAMILY_DESC', 'ROLE_FAMILY',\n",
      "       'ROLE_CODE'],\n",
      "      dtype='object')\n"
     ]
    }
   ],
   "source": [
    "PROJECT_ROOT = plh.get_project_root()\n",
    "\n",
    "train_data = os.path.join(PROJECT_ROOT, \n",
    "                          hlpread.read_yaml_key('data_source.data_folders'),\n",
    "                          hlpread.read_yaml_key('data_source.prepared.folder'),\n",
    "                          hlpread.read_yaml_key('data_source.prepared.clean_train'),\n",
    "                        )\n",
    "train = hlpread.read_from_parquet(train_data)\n",
    "\n",
    "print(train.shape)\n",
    "\n",
    "print(train.columns)\n",
    "#col_use = [x for x in train.columns if not x in ['ROLE_TITLE', 'MGR_ID']]\n",
    "#train = train[col_use]\n",
    "#targetcol = 'ACTION'\n",
    "\n",
    "#te_col = list(train.columns)\n",
    "#te_col.remove(targetcol)"
   ]
  },
  {
   "cell_type": "code",
   "execution_count": 3,
   "metadata": {},
   "outputs": [
    {
     "name": "stdout",
     "output_type": "stream",
     "text": [
      "[Pipeline] ... (step 1 of 4) Processing combine_feature, total=   0.3s\n",
      "[Pipeline] ........... (step 2 of 4) Processing KFoldTE, total=  24.6s\n",
      "[Pipeline]  (step 3 of 4) Processing frequency_encoding, total=   0.4s\n"
     ]
    },
    {
     "name": "stderr",
     "output_type": "stream",
     "text": [
      "f:\\github_workspace\\employee_access_resource_classifier\\env\\lib\\site-packages\\pandas\\core\\frame.py:3641: PerformanceWarning: DataFrame is highly fragmented.  This is usually the result of calling `frame.insert` many times, which has poor performance.  Consider joining all columns at once using pd.concat(axis=1) instead.  To get a de-fragmented frame, use `newframe = frame.copy()`\n",
      "  self[k1] = value[k2]\n"
     ]
    },
    {
     "name": "stdout",
     "output_type": "stream",
     "text": [
      "[Pipeline]  (step 4 of 4) Processing count_vectorizer_encoding, total= 2.6min\n"
     ]
    }
   ],
   "source": [
    "from sklearn.pipeline import Pipeline\n",
    "\n",
    "#Order of the pipeline matter as this impact the output\n",
    "feature_engg = Pipeline( steps = [\n",
    "                                ('combine_feature', CombineFeatures()),\n",
    "\n",
    "                                ('KFoldTE', KFoldTargetEncoder()),\n",
    "\n",
    "                                ('frequency_encoding', FrequencyEncoding(min_group_size = 2)),\n",
    "\n",
    "                                #('tfidf_vectorizer_encoding', TFIDFVectorizerEncoding()),\n",
    "\n",
    "                                ('count_vectorizer_encoding', CountVectorizerEncoding()),\n",
    "                                ]\n",
    "                              ,verbose =  True\n",
    "                        ) \n",
    "\n",
    "X = feature_engg.fit_transform(train) "
   ]
  },
  {
   "cell_type": "markdown",
   "metadata": {},
   "source": [
    "# Temp #"
   ]
  },
  {
   "cell_type": "code",
   "execution_count": null,
   "metadata": {},
   "outputs": [],
   "source": [
    "cnt_vector = hlpread.read_from_parquet( os.path.join(PROJECT_ROOT, \n",
    "                hlpread.read_yaml_key('data_source.data_folders'),\n",
    "                hlpread.read_yaml_key('featurize.count_vector.output.folder'),\n",
    "                hlpread.read_yaml_key('featurize.count_vector.output.filename'),\n",
    "))\n",
    "\n",
    "cnt_vector.shape"
   ]
  },
  {
   "cell_type": "code",
   "execution_count": null,
   "metadata": {},
   "outputs": [],
   "source": [
    "tfidf_vector  = hlpread.read_from_parquet( os.path.join(PROJECT_ROOT, \n",
    "                hlpread.read_yaml_key('data_source.data_folders'),\n",
    "                hlpread.read_yaml_key('featurize.tfidf.output.folder'),\n",
    "                hlpread.read_yaml_key('featurize.tfidf.output.filename'),\n",
    "))\n",
    "\n",
    "tfidf_vector.shape"
   ]
  },
  {
   "cell_type": "code",
   "execution_count": null,
   "metadata": {},
   "outputs": [],
   "source": [
    "X = pd.merge(freq_encoder_X, kte_encoder_X, left_index = True, right_index = True, how = 'inner')\n",
    "X = pd.merge(tfidf_vector, X, left_index = True, right_index = True, how = 'left')\n",
    "print(X.shape)"
   ]
  },
  {
   "cell_type": "code",
   "execution_count": null,
   "metadata": {},
   "outputs": [],
   "source": [
    "Y = train['ACTION']\n",
    "\n",
    "X = pd.merge(freq_encoder_X, tfidf_vector, left_index = True, right_index = True, how = 'inner')\n",
    "#X = pd.merge(kte_encoder_X, X, left_index = True, right_index = True, how = 'inner')\n",
    "print(X.shape)\n",
    "X.isna().sum()"
   ]
  },
  {
   "cell_type": "code",
   "execution_count": null,
   "metadata": {},
   "outputs": [],
   "source": []
  },
  {
   "cell_type": "code",
   "execution_count": null,
   "metadata": {},
   "outputs": [],
   "source": [
    "from sklearn.linear_model import LogisticRegressionCV\n",
    "lr_cv = LogisticRegressionCV(Cs=7,                            \n",
    "                            max_iter = 100,\n",
    "                            class_weight = 'balance',\n",
    "                            cv = 5)\n",
    "\n",
    "lr_cv.fit(X, Y)"
   ]
  }
 ],
 "metadata": {
  "interpreter": {
   "hash": "bdc0d7d451ce7f6d5d2eccb7f4b3a7e5084394aa9c309b55e1eb76851fdd5e68"
  },
  "kernelspec": {
   "display_name": "Python 3.7.9 ('env': venv)",
   "language": "python",
   "name": "python3"
  },
  "language_info": {
   "codemirror_mode": {
    "name": "ipython",
    "version": 3
   },
   "file_extension": ".py",
   "mimetype": "text/x-python",
   "name": "python",
   "nbconvert_exporter": "python",
   "pygments_lexer": "ipython3",
   "version": "3.7.9"
  },
  "orig_nbformat": 4
 },
 "nbformat": 4,
 "nbformat_minor": 2
}
