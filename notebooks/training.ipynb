{
 "cells": [
  {
   "cell_type": "code",
   "execution_count": 1,
   "metadata": {},
   "outputs": [],
   "source": [
    "import gc\n",
    "import os\n",
    "import numpy as np \n",
    "import pandas as pd \n",
    "import utils.paths as plh\n",
    "import utils.read_utils as hlpread\n",
    "from sklearn.pipeline import Pipeline\n",
    "from src.models.feature_eng.TE_KFold import KFoldTargetEncoder\n",
    "from src.models.feature_eng.FreqEncoding import FrequencyEncoding\n",
    "from src.models.feature_eng.Combine_feature import CombineFeatures\n",
    "from src.models.feature_eng.KFoldFreqEncoding import KFoldFrequencyEncoding\n",
    "from src.models.feature_eng.CountVectorizerEncoding import CountVectorizerEncoding\n",
    "from src.models.feature_eng.TFIDFVectorizerEncoding import TFIDFVectorizerEncoding"
   ]
  },
  {
   "cell_type": "code",
   "execution_count": 2,
   "metadata": {},
   "outputs": [
    {
     "name": "stdout",
     "output_type": "stream",
     "text": [
      "(30391, 10)\n",
      "Index(['ACTION', 'RESOURCE', 'MGR_ID', 'ROLE_ROLLUP_1', 'ROLE_ROLLUP_2',\n",
      "       'ROLE_DEPTNAME', 'ROLE_TITLE', 'ROLE_FAMILY_DESC', 'ROLE_FAMILY',\n",
      "       'ROLE_CODE'],\n",
      "      dtype='object')\n"
     ]
    }
   ],
   "source": [
    "PROJECT_ROOT = plh.get_project_root()\n",
    "\n",
    "train_data = os.path.join(PROJECT_ROOT, \n",
    "                          hlpread.read_yaml_key('data_source.data_folders'),\n",
    "                          hlpread.read_yaml_key('data_source.prepared.folder'),\n",
    "                          hlpread.read_yaml_key('data_source.prepared.clean_train'),\n",
    "                        )\n",
    "train = hlpread.read_from_parquet(train_data)\n",
    "\n",
    "print(train.shape)\n",
    "\n",
    "print(train.columns)\n",
    "#col_use = [x for x in train.columns if not x in ['ROLE_TITLE', 'MGR_ID']]\n",
    "#train = train[col_use]\n",
    "#targetcol = 'ACTION'\n",
    "\n",
    "#te_col = list(train.columns)\n",
    "#te_col.remove(targetcol)"
   ]
  },
  {
   "cell_type": "code",
   "execution_count": 47,
   "metadata": {},
   "outputs": [
    {
     "name": "stdout",
     "output_type": "stream",
     "text": [
      "[Pipeline] ... (step 1 of 1) Processing combine_feature, total=   0.2s\n"
     ]
    },
    {
     "data": {
      "text/plain": [
       "Index(['ACTION', 'RESOURCE', 'MGR_ID', 'ROLE_ROLLUP_1', 'ROLE_ROLLUP_2',\n",
       "       'ROLE_DEPTNAME', 'ROLE_TITLE', 'ROLE_FAMILY_DESC', 'ROLE_FAMILY',\n",
       "       'ROLE_CODE', 'RESOURCE_ROLE_ROLLUP_1', 'RESOURCE_ROLE_ROLLUP_2',\n",
       "       'RESOURCE_ROLE_DEPTNAME', 'RESOURCE_ROLE_FAMILY_DESC',\n",
       "       'RESOURCE_ROLE_FAMILY', 'RESOURCE_ROLE_CODE',\n",
       "       'ROLE_ROLLUP_1_ROLE_ROLLUP_2', 'ROLE_ROLLUP_1_ROLE_DEPTNAME',\n",
       "       'ROLE_ROLLUP_1_ROLE_FAMILY_DESC', 'ROLE_ROLLUP_1_ROLE_FAMILY',\n",
       "       'ROLE_ROLLUP_1_ROLE_CODE', 'ROLE_ROLLUP_2_ROLE_DEPTNAME',\n",
       "       'ROLE_ROLLUP_2_ROLE_FAMILY_DESC', 'ROLE_ROLLUP_2_ROLE_FAMILY',\n",
       "       'ROLE_ROLLUP_2_ROLE_CODE', 'ROLE_DEPTNAME_ROLE_FAMILY_DESC',\n",
       "       'ROLE_DEPTNAME_ROLE_FAMILY', 'ROLE_DEPTNAME_ROLE_CODE',\n",
       "       'ROLE_FAMILY_DESC_ROLE_FAMILY', 'ROLE_FAMILY_DESC_ROLE_CODE',\n",
       "       'ROLE_FAMILY_ROLE_CODE'],\n",
       "      dtype='object')"
      ]
     },
     "execution_count": 47,
     "metadata": {},
     "output_type": "execute_result"
    }
   ],
   "source": [
    "from sklearn.preprocessing import LabelEncoder\n",
    "\n",
    "feature_engg = Pipeline( steps = [\n",
    "                                    ('combine_feature', CombineFeatures()),\n",
    "                                    #('label_encoder', LabelEncoder()),\n",
    "                                ]\n",
    "                         ,verbose =  True\n",
    "                        )  \n",
    "\n",
    "X = feature_engg.fit_transform(train) \n",
    "\n",
    "X.columns        "
   ]
  },
  {
   "cell_type": "code",
   "execution_count": 42,
   "metadata": {},
   "outputs": [
    {
     "name": "stdout",
     "output_type": "stream",
     "text": [
      "[Pipeline] ... (step 1 of 3) Processing combine_feature, total=   0.2s\n",
      "[Pipeline]  (step 2 of 3) Processing count_vectorizer_encoding, total= 2.2min\n",
      "[Pipeline] ........... (step 3 of 3) Processing KFoldTE, total=  42.2s\n"
     ]
    },
    {
     "data": {
      "text/plain": [
       "(30391, 233)"
      ]
     },
     "execution_count": 42,
     "metadata": {},
     "output_type": "execute_result"
    }
   ],
   "source": [
    "#Order of the pipeline matter as this impact the output\n",
    "feature_engg = Pipeline( steps = [\n",
    "                                ('combine_feature', CombineFeatures()),\n",
    "\n",
    "                                #('frequency_encoding', FrequencyEncoding(min_group_size = 2)),\n",
    "\n",
    "                                #('tfidf_vectorizer_encoding', TFIDFVectorizerEncoding()),\n",
    "\n",
    "                                ('count_vectorizer_encoding', CountVectorizerEncoding()),\n",
    "\n",
    "                                ('KFoldTE', KFoldTargetEncoder()),\n",
    "\n",
    "                                ]\n",
    "                              ,verbose =  True\n",
    "                        )                        \n",
    "\n",
    "\n",
    "X = feature_engg.fit_transform(train) \n",
    "\n",
    "X.shape"
   ]
  },
  {
   "cell_type": "code",
   "execution_count": 36,
   "metadata": {},
   "outputs": [],
   "source": [
    "from sklearn.feature_selection import chi2\n",
    "from sklearn.feature_selection import SelectKBest\n",
    "\n",
    "chi2_feature = SelectKBest(chi2, k = 29)\n",
    "best_feature = chi2_feature.fit_transform(X_2, X.ACTION)\n"
   ]
  },
  {
   "cell_type": "code",
   "execution_count": 37,
   "metadata": {},
   "outputs": [
    {
     "data": {
      "text/plain": [
       "array([  179.79681866,   440.72187967,  1500.57693636,   184.74044727,\n",
       "          73.27398768,  5084.72221475,    58.63225907,   404.12521478,\n",
       "        1598.98391097,    32.32397894,  1538.48661015,   754.73077548,\n",
       "         588.22319832,    95.7254337 ,   450.55712416,   797.35428785,\n",
       "        2218.18303481,   591.18845719,  2027.66683632,  1455.33417203,\n",
       "        4834.32111978,   185.74463499,  7909.07825373,    54.62173851,\n",
       "        6012.25826507,   544.87378976, 12109.88162184,  2726.38963297,\n",
       "         325.85226668])"
      ]
     },
     "execution_count": 37,
     "metadata": {},
     "output_type": "execute_result"
    }
   ],
   "source": [
    "chi2_feature.scores_"
   ]
  },
  {
   "cell_type": "code",
   "execution_count": 40,
   "metadata": {},
   "outputs": [
    {
     "data": {
      "text/plain": [
       "array([ 9, 23,  6,  4, 13,  0,  3, 21, 28,  7,  1, 14, 25, 12, 17, 11, 15,\n",
       "       19,  2, 10,  8, 18, 16, 27, 20,  5, 24, 22, 26], dtype=int64)"
      ]
     },
     "execution_count": 40,
     "metadata": {},
     "output_type": "execute_result"
    }
   ],
   "source": [
    "chi2_feature.scores_.argsort()"
   ]
  },
  {
   "cell_type": "code",
   "execution_count": 39,
   "metadata": {},
   "outputs": [
    {
     "data": {
      "text/plain": [
       "array(['RESOURCE_0', 'ROLE_ROLLUP_1_0', 'ROLE_ROLLUP_2_0',\n",
       "       'ROLE_DEPTNAME_0', 'ROLE_TITLE_0', 'ROLE_FAMILY_DESC_0',\n",
       "       'ROLE_FAMILY_0', 'ROLE_CODE_0', 'RESOURCE_ROLE_ROLLUP_1_0',\n",
       "       'RESOURCE_ROLE_ROLLUP_2_0', 'RESOURCE_ROLE_DEPTNAME_0',\n",
       "       'RESOURCE_ROLE_FAMILY_DESC_0', 'RESOURCE_ROLE_FAMILY_0',\n",
       "       'RESOURCE_ROLE_CODE_0', 'ROLE_ROLLUP_1_ROLE_ROLLUP_2_0',\n",
       "       'ROLE_ROLLUP_1_ROLE_DEPTNAME_0',\n",
       "       'ROLE_ROLLUP_1_ROLE_FAMILY_DESC_0', 'ROLE_ROLLUP_1_ROLE_FAMILY_0',\n",
       "       'ROLE_ROLLUP_1_ROLE_CODE_0', 'ROLE_ROLLUP_2_ROLE_DEPTNAME_0',\n",
       "       'ROLE_ROLLUP_2_ROLE_FAMILY_DESC_0', 'ROLE_ROLLUP_2_ROLE_FAMILY_0',\n",
       "       'ROLE_ROLLUP_2_ROLE_CODE_0', 'ROLE_DEPTNAME_ROLE_FAMILY_DESC_0',\n",
       "       'ROLE_DEPTNAME_ROLE_FAMILY_0', 'ROLE_DEPTNAME_ROLE_CODE_0',\n",
       "       'ROLE_FAMILY_DESC_ROLE_FAMILY_0', 'ROLE_FAMILY_DESC_ROLE_CODE_0',\n",
       "       'ROLE_FAMILY_ROLE_CODE_0'], dtype=object)"
      ]
     },
     "execution_count": 39,
     "metadata": {},
     "output_type": "execute_result"
    }
   ],
   "source": [
    "chi2_feature.feature_names_in_"
   ]
  },
  {
   "cell_type": "code",
   "execution_count": 41,
   "metadata": {},
   "outputs": [
    {
     "data": {
      "text/plain": [
       "array(['RESOURCE_ROLE_ROLLUP_2_0', 'ROLE_DEPTNAME_ROLE_FAMILY_DESC_0',\n",
       "       'ROLE_FAMILY_0', 'ROLE_TITLE_0', 'RESOURCE_ROLE_CODE_0',\n",
       "       'RESOURCE_0', 'ROLE_DEPTNAME_0', 'ROLE_ROLLUP_2_ROLE_FAMILY_0',\n",
       "       'ROLE_FAMILY_ROLE_CODE_0', 'ROLE_CODE_0', 'ROLE_ROLLUP_1_0',\n",
       "       'ROLE_ROLLUP_1_ROLE_ROLLUP_2_0', 'ROLE_DEPTNAME_ROLE_CODE_0',\n",
       "       'RESOURCE_ROLE_FAMILY_0', 'ROLE_ROLLUP_1_ROLE_FAMILY_0',\n",
       "       'RESOURCE_ROLE_FAMILY_DESC_0', 'ROLE_ROLLUP_1_ROLE_DEPTNAME_0',\n",
       "       'ROLE_ROLLUP_2_ROLE_DEPTNAME_0', 'ROLE_ROLLUP_2_0',\n",
       "       'RESOURCE_ROLE_DEPTNAME_0', 'RESOURCE_ROLE_ROLLUP_1_0',\n",
       "       'ROLE_ROLLUP_1_ROLE_CODE_0', 'ROLE_ROLLUP_1_ROLE_FAMILY_DESC_0',\n",
       "       'ROLE_FAMILY_DESC_ROLE_CODE_0', 'ROLE_ROLLUP_2_ROLE_FAMILY_DESC_0',\n",
       "       'ROLE_FAMILY_DESC_0', 'ROLE_DEPTNAME_ROLE_FAMILY_0',\n",
       "       'ROLE_ROLLUP_2_ROLE_CODE_0', 'ROLE_FAMILY_DESC_ROLE_FAMILY_0'],\n",
       "      dtype=object)"
      ]
     },
     "execution_count": 41,
     "metadata": {},
     "output_type": "execute_result"
    }
   ],
   "source": [
    "chi2_feature.feature_names_in_[chi2_feature.scores_.argsort()]"
   ]
  },
  {
   "cell_type": "code",
   "execution_count": 19,
   "metadata": {},
   "outputs": [
    {
     "data": {
      "text/plain": [
       "array([[   24,   711, 10830, ...,  1433,  1956,  1345],\n",
       "       [   87,    84,  2256, ...,   991,  2015,  1598],\n",
       "       [  152,  1274,  8552, ...,  1366,  1316,  1315],\n",
       "       ...,\n",
       "       [   58,  1223,  2026, ...,  1051,  2504,  1180],\n",
       "       [   96,  2021,  4739, ...,  1338,  1845,  2511],\n",
       "       [  138,  1806,  5550, ...,   861,  1540,   506]])"
      ]
     },
     "execution_count": 19,
     "metadata": {},
     "output_type": "execute_result"
    }
   ],
   "source": [
    "best_feature"
   ]
  },
  {
   "cell_type": "markdown",
   "metadata": {},
   "source": [
    "## Train model ##"
   ]
  },
  {
   "cell_type": "code",
   "execution_count": null,
   "metadata": {},
   "outputs": [],
   "source": [
    "model.fit(X[X.columns[30:]], X['ACTION'])"
   ]
  },
  {
   "cell_type": "code",
   "execution_count": null,
   "metadata": {},
   "outputs": [],
   "source": [
    "Y_predictions_by_class = model.predict_proba(X[X.columns[30:]]).astype(float) #Return 2d numpy array which is the probaility for each class label\n",
    "Y = X['ACTION'].astype(float)\n",
    "\n",
    "Y_pred = Y_predictions_by_class.argmax(-1)  \n",
    "conf_matrix = confusion_matrix(Y, Y_pred)\n",
    "\n",
    "print(conf_matrix)"
   ]
  },
  {
   "cell_type": "code",
   "execution_count": null,
   "metadata": {},
   "outputs": [],
   "source": [
    "auc_score"
   ]
  },
  {
   "cell_type": "code",
   "execution_count": null,
   "metadata": {},
   "outputs": [],
   "source": [
    "\n",
    "from sklearn.metrics import roc_curve\n",
    "import matplotlib.pyplot as plt\n",
    "\n",
    "fpr, tpr, thresholds = roc_curve(Y, Y_predictions_by_class[:,1])\n",
    "roc_auc_curve_df = pd.DataFrame()    \n",
    "roc_auc_curve_df['false_positive_rates'] = fpr\n",
    "roc_auc_curve_df['true_positive_rates'] = tpr\n",
    "roc_auc_curve_df['thresholds'] = thresholds\n",
    "\n",
    "fig, ax = plt.subplots(figsize = (7.5, 7.5))\n",
    "ax.plot(roc_auc_curve_df['false_positive_rates'], roc_auc_curve_df['true_positive_rates'],  color = 'green', label = 'ROC Curve') #, marker = 'o'\n",
    "\n",
    "ax.tick_params(axis = 'both', labelcolor = 'green')\n",
    "ax.set_xlabel('False positive rate')\n",
    "ax.set_ylabel('True positive rate')\n",
    "label_str = str.format('ROC-AUC: {0}',  round(auc_score, 3))\n",
    "ax.text(0.5, 0, label_str, fontsize = 6)"
   ]
  }
 ],
 "metadata": {
  "interpreter": {
   "hash": "bdc0d7d451ce7f6d5d2eccb7f4b3a7e5084394aa9c309b55e1eb76851fdd5e68"
  },
  "kernelspec": {
   "display_name": "Python 3.7.9 ('env': venv)",
   "language": "python",
   "name": "python3"
  },
  "language_info": {
   "codemirror_mode": {
    "name": "ipython",
    "version": 3
   },
   "file_extension": ".py",
   "mimetype": "text/x-python",
   "name": "python",
   "nbconvert_exporter": "python",
   "pygments_lexer": "ipython3",
   "version": "3.9.8"
  },
  "orig_nbformat": 4
 },
 "nbformat": 4,
 "nbformat_minor": 2
}
