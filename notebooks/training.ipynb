{
 "cells": [
  {
   "cell_type": "code",
   "execution_count": 15,
   "metadata": {},
   "outputs": [],
   "source": [
    "import gc\n",
    "import os\n",
    "import numpy as np \n",
    "import pandas as pd \n",
    "import utils.paths as plh\n",
    "import utils.read_utils as hlpread\n",
    "from src.models.feature_eng.TE_KFold import KFoldTargetEncoder\n",
    "from src.models.feature_eng.FreqEncoding import FrequencyEncoding\n",
    "from src.models.feature_eng.Combine_feature import CombineFeatures\n",
    "from src.models.feature_eng.KFoldFreqEncoding import KFoldFrequencyEncoding\n",
    "from src.models.feature_eng.CountVectorizerEncoding import CountVectorizerEncoding\n",
    "from src.models.feature_eng.TFIDFVectorizerEncoding import TFIDFVectorizerEncoding"
   ]
  },
  {
   "cell_type": "markdown",
   "metadata": {},
   "source": [
    "# Pipeline #"
   ]
  },
  {
   "cell_type": "code",
   "execution_count": 16,
   "metadata": {},
   "outputs": [
    {
     "name": "stdout",
     "output_type": "stream",
     "text": [
      "(30391, 10)\n",
      "Index(['ACTION', 'RESOURCE', 'MGR_ID', 'ROLE_ROLLUP_1', 'ROLE_ROLLUP_2',\n",
      "       'ROLE_DEPTNAME', 'ROLE_TITLE', 'ROLE_FAMILY_DESC', 'ROLE_FAMILY',\n",
      "       'ROLE_CODE'],\n",
      "      dtype='object')\n"
     ]
    }
   ],
   "source": [
    "PROJECT_ROOT = plh.get_project_root()\n",
    "\n",
    "train_data = os.path.join(PROJECT_ROOT, \n",
    "                          hlpread.read_yaml_key('data_source.data_folders'),\n",
    "                          hlpread.read_yaml_key('data_source.prepared.folder'),\n",
    "                          hlpread.read_yaml_key('data_source.prepared.clean_train'),\n",
    "                        )\n",
    "train = hlpread.read_from_parquet(train_data)\n",
    "\n",
    "print(train.shape)\n",
    "\n",
    "print(train.columns)\n",
    "#col_use = [x for x in train.columns if not x in ['ROLE_TITLE', 'MGR_ID']]\n",
    "#train = train[col_use]\n",
    "#targetcol = 'ACTION'\n",
    "\n",
    "#te_col = list(train.columns)\n",
    "#te_col.remove(targetcol)"
   ]
  },
  {
   "cell_type": "code",
   "execution_count": 17,
   "metadata": {},
   "outputs": [],
   "source": [
    "from sklearn.pipeline import Pipeline\n",
    "\n",
    "feature_engg = Pipeline( steps = [\n",
    "                                ('combine_feature', CombineFeatures()),\n",
    "                                ('tfidf_vectorizer_encoding', TFIDFVectorizerEncoding()),\n",
    "                                ('KFoldTE', KFoldTargetEncoder()),\n",
    "                                ])\n",
    "\n",
    "X = feature_engg.fit_transform(train) \n"
   ]
  },
  {
   "cell_type": "code",
   "execution_count": 19,
   "metadata": {},
   "outputs": [
    {
     "data": {
      "text/plain": [
       "(30391, 90)"
      ]
     },
     "execution_count": 19,
     "metadata": {},
     "output_type": "execute_result"
    }
   ],
   "source": [
    "X.shape"
   ]
  },
  {
   "cell_type": "code",
   "execution_count": 21,
   "metadata": {},
   "outputs": [
    {
     "data": {
      "text/plain": [
       "Index(['ACTION', 'RESOURCE', 'ROLE_ROLLUP_1', 'ROLE_ROLLUP_2', 'ROLE_DEPTNAME',\n",
       "       'ROLE_FAMILY_DESC', 'ROLE_FAMILY', 'ROLE_CODE',\n",
       "       'RESOURCE_ROLE_ROLLUP_1', 'RESOURCE_ROLE_ROLLUP_2',\n",
       "       'RESOURCE_ROLE_DEPTNAME', 'RESOURCE_ROLE_FAMILY_DESC',\n",
       "       'RESOURCE_ROLE_FAMILY', 'RESOURCE_ROLE_CODE',\n",
       "       'ROLE_ROLLUP_1_ROLE_ROLLUP_2', 'ROLE_ROLLUP_1_ROLE_DEPTNAME',\n",
       "       'ROLE_ROLLUP_1_ROLE_FAMILY_DESC', 'ROLE_ROLLUP_1_ROLE_FAMILY',\n",
       "       'ROLE_ROLLUP_1_ROLE_CODE', 'ROLE_ROLLUP_2_ROLE_DEPTNAME',\n",
       "       'ROLE_ROLLUP_2_ROLE_FAMILY_DESC', 'ROLE_ROLLUP_2_ROLE_FAMILY',\n",
       "       'ROLE_ROLLUP_2_ROLE_CODE', 'ROLE_DEPTNAME_ROLE_FAMILY_DESC',\n",
       "       'ROLE_DEPTNAME_ROLE_FAMILY', 'ROLE_DEPTNAME_ROLE_CODE',\n",
       "       'ROLE_FAMILY_DESC_ROLE_FAMILY', 'ROLE_FAMILY_DESC_ROLE_CODE',\n",
       "       'ROLE_FAMILY_ROLE_CODE', 'RESOURCE_ROLE_ROLLUP_1_svd_cv',\n",
       "       'RESOURCE_ROLE_FAMILY_svd_cv',\n",
       "       'RESOURCE_ROLE_ROLLUP_1_ROLE_FAMILY_svd_cv',\n",
       "       'ROLE_ROLLUP_1_ROLE_FAMILY_svd_cv', 'ROLE_ROLLUP_2_ROLE_FAMILY_svd_cv',\n",
       "       'ROLE_DEPTNAME_ROLE_ROLLUP_1_svd_cv',\n",
       "       'ROLE_FAMILY_DESC_ROLE_ROLLUP_1_svd_cv',\n",
       "       'ROLE_FAMILY_ROLE_ROLLUP_1_svd_cv', 'ROLE_CODE_ROLE_ROLLUP_1_svd_cv',\n",
       "       'RESOURCE_ROLE_ROLLUP_1_ROLE_ROLLUP_1_svd_cv',\n",
       "       'RESOURCE_ROLE_ROLLUP_2_ROLE_ROLLUP_1_svd_cv',\n",
       "       'RESOURCE_ROLE_ROLLUP_2_ROLE_FAMILY_svd_cv',\n",
       "       'RESOURCE_ROLE_DEPTNAME_ROLE_ROLLUP_1_svd_cv',\n",
       "       'RESOURCE_ROLE_DEPTNAME_ROLE_FAMILY_svd_cv',\n",
       "       'RESOURCE_ROLE_FAMILY_DESC_ROLE_ROLLUP_1_svd_cv',\n",
       "       'RESOURCE_ROLE_FAMILY_DESC_ROLE_FAMILY_svd_cv',\n",
       "       'RESOURCE_ROLE_FAMILY_ROLE_ROLLUP_1_svd_cv',\n",
       "       'RESOURCE_ROLE_FAMILY_ROLE_FAMILY_svd_cv',\n",
       "       'RESOURCE_ROLE_CODE_ROLE_ROLLUP_1_svd_cv',\n",
       "       'RESOURCE_ROLE_CODE_ROLE_FAMILY_svd_cv',\n",
       "       'ROLE_ROLLUP_1_ROLE_ROLLUP_2_ROLE_FAMILY_svd_cv',\n",
       "       'ROLE_ROLLUP_1_ROLE_DEPTNAME_ROLE_ROLLUP_1_svd_cv',\n",
       "       'ROLE_ROLLUP_1_ROLE_FAMILY_DESC_ROLE_ROLLUP_1_svd_cv',\n",
       "       'ROLE_ROLLUP_2_ROLE_DEPTNAME_ROLE_ROLLUP_1_svd_cv',\n",
       "       'ROLE_ROLLUP_2_ROLE_FAMILY_DESC_ROLE_ROLLUP_1_svd_cv',\n",
       "       'ROLE_ROLLUP_2_ROLE_FAMILY_ROLE_ROLLUP_1_svd_cv',\n",
       "       'ROLE_ROLLUP_2_ROLE_CODE_ROLE_ROLLUP_1_svd_cv',\n",
       "       'ROLE_DEPTNAME_ROLE_FAMILY_DESC_ROLE_ROLLUP_1_svd_cv',\n",
       "       'ROLE_DEPTNAME_ROLE_FAMILY_ROLE_ROLLUP_1_svd_cv',\n",
       "       'ROLE_DEPTNAME_ROLE_CODE_ROLE_ROLLUP_1_svd_cv',\n",
       "       'ROLE_FAMILY_DESC_ROLE_FAMILY_ROLE_ROLLUP_1_svd_cv',\n",
       "       'ROLE_FAMILY_DESC_ROLE_CODE_ROLE_ROLLUP_1_svd_cv',\n",
       "       'ROLE_FAMILY_ROLE_CODE_ROLE_ROLLUP_1_svd_cv', 'RESOURCE_Kfold_TE',\n",
       "       'ROLE_ROLLUP_1_Kfold_TE', 'ROLE_ROLLUP_2_Kfold_TE',\n",
       "       'ROLE_DEPTNAME_Kfold_TE', 'ROLE_FAMILY_DESC_Kfold_TE',\n",
       "       'ROLE_FAMILY_Kfold_TE', 'ROLE_CODE_Kfold_TE',\n",
       "       'RESOURCE_ROLE_ROLLUP_1_Kfold_TE', 'RESOURCE_ROLE_ROLLUP_2_Kfold_TE',\n",
       "       'RESOURCE_ROLE_DEPTNAME_Kfold_TE', 'RESOURCE_ROLE_FAMILY_DESC_Kfold_TE',\n",
       "       'RESOURCE_ROLE_FAMILY_Kfold_TE', 'RESOURCE_ROLE_CODE_Kfold_TE',\n",
       "       'ROLE_ROLLUP_1_ROLE_ROLLUP_2_Kfold_TE',\n",
       "       'ROLE_ROLLUP_1_ROLE_DEPTNAME_Kfold_TE',\n",
       "       'ROLE_ROLLUP_1_ROLE_FAMILY_DESC_Kfold_TE',\n",
       "       'ROLE_ROLLUP_1_ROLE_FAMILY_Kfold_TE',\n",
       "       'ROLE_ROLLUP_1_ROLE_CODE_Kfold_TE',\n",
       "       'ROLE_ROLLUP_2_ROLE_DEPTNAME_Kfold_TE',\n",
       "       'ROLE_ROLLUP_2_ROLE_FAMILY_DESC_Kfold_TE',\n",
       "       'ROLE_ROLLUP_2_ROLE_FAMILY_Kfold_TE',\n",
       "       'ROLE_ROLLUP_2_ROLE_CODE_Kfold_TE',\n",
       "       'ROLE_DEPTNAME_ROLE_FAMILY_DESC_Kfold_TE',\n",
       "       'ROLE_DEPTNAME_ROLE_FAMILY_Kfold_TE',\n",
       "       'ROLE_DEPTNAME_ROLE_CODE_Kfold_TE',\n",
       "       'ROLE_FAMILY_DESC_ROLE_FAMILY_Kfold_TE',\n",
       "       'ROLE_FAMILY_DESC_ROLE_CODE_Kfold_TE',\n",
       "       'ROLE_FAMILY_ROLE_CODE_Kfold_TE'],\n",
       "      dtype='object')"
      ]
     },
     "execution_count": 21,
     "metadata": {},
     "output_type": "execute_result"
    }
   ],
   "source": [
    "X.columns"
   ]
  },
  {
   "cell_type": "code",
   "execution_count": 23,
   "metadata": {},
   "outputs": [
    {
     "data": {
      "text/plain": [
       "Index(['RESOURCE_ROLE_ROLLUP_1_svd_cv', 'RESOURCE_ROLE_FAMILY_svd_cv',\n",
       "       'RESOURCE_ROLE_ROLLUP_1_ROLE_FAMILY_svd_cv',\n",
       "       'ROLE_ROLLUP_1_ROLE_FAMILY_svd_cv', 'ROLE_ROLLUP_2_ROLE_FAMILY_svd_cv',\n",
       "       'ROLE_DEPTNAME_ROLE_ROLLUP_1_svd_cv',\n",
       "       'ROLE_FAMILY_DESC_ROLE_ROLLUP_1_svd_cv',\n",
       "       'ROLE_FAMILY_ROLE_ROLLUP_1_svd_cv', 'ROLE_CODE_ROLE_ROLLUP_1_svd_cv',\n",
       "       'RESOURCE_ROLE_ROLLUP_1_ROLE_ROLLUP_1_svd_cv',\n",
       "       'RESOURCE_ROLE_ROLLUP_2_ROLE_ROLLUP_1_svd_cv',\n",
       "       'RESOURCE_ROLE_ROLLUP_2_ROLE_FAMILY_svd_cv',\n",
       "       'RESOURCE_ROLE_DEPTNAME_ROLE_ROLLUP_1_svd_cv',\n",
       "       'RESOURCE_ROLE_DEPTNAME_ROLE_FAMILY_svd_cv',\n",
       "       'RESOURCE_ROLE_FAMILY_DESC_ROLE_ROLLUP_1_svd_cv',\n",
       "       'RESOURCE_ROLE_FAMILY_DESC_ROLE_FAMILY_svd_cv',\n",
       "       'RESOURCE_ROLE_FAMILY_ROLE_ROLLUP_1_svd_cv',\n",
       "       'RESOURCE_ROLE_FAMILY_ROLE_FAMILY_svd_cv',\n",
       "       'RESOURCE_ROLE_CODE_ROLE_ROLLUP_1_svd_cv',\n",
       "       'RESOURCE_ROLE_CODE_ROLE_FAMILY_svd_cv',\n",
       "       'ROLE_ROLLUP_1_ROLE_ROLLUP_2_ROLE_FAMILY_svd_cv',\n",
       "       'ROLE_ROLLUP_1_ROLE_DEPTNAME_ROLE_ROLLUP_1_svd_cv',\n",
       "       'ROLE_ROLLUP_1_ROLE_FAMILY_DESC_ROLE_ROLLUP_1_svd_cv',\n",
       "       'ROLE_ROLLUP_2_ROLE_DEPTNAME_ROLE_ROLLUP_1_svd_cv',\n",
       "       'ROLE_ROLLUP_2_ROLE_FAMILY_DESC_ROLE_ROLLUP_1_svd_cv',\n",
       "       'ROLE_ROLLUP_2_ROLE_FAMILY_ROLE_ROLLUP_1_svd_cv',\n",
       "       'ROLE_ROLLUP_2_ROLE_CODE_ROLE_ROLLUP_1_svd_cv',\n",
       "       'ROLE_DEPTNAME_ROLE_FAMILY_DESC_ROLE_ROLLUP_1_svd_cv',\n",
       "       'ROLE_DEPTNAME_ROLE_FAMILY_ROLE_ROLLUP_1_svd_cv',\n",
       "       'ROLE_DEPTNAME_ROLE_CODE_ROLE_ROLLUP_1_svd_cv',\n",
       "       'ROLE_FAMILY_DESC_ROLE_FAMILY_ROLE_ROLLUP_1_svd_cv',\n",
       "       'ROLE_FAMILY_DESC_ROLE_CODE_ROLE_ROLLUP_1_svd_cv',\n",
       "       'ROLE_FAMILY_ROLE_CODE_ROLE_ROLLUP_1_svd_cv', 'RESOURCE_Kfold_TE',\n",
       "       'ROLE_ROLLUP_1_Kfold_TE', 'ROLE_ROLLUP_2_Kfold_TE',\n",
       "       'ROLE_DEPTNAME_Kfold_TE', 'ROLE_FAMILY_DESC_Kfold_TE',\n",
       "       'ROLE_FAMILY_Kfold_TE', 'ROLE_CODE_Kfold_TE',\n",
       "       'RESOURCE_ROLE_ROLLUP_1_Kfold_TE', 'RESOURCE_ROLE_ROLLUP_2_Kfold_TE',\n",
       "       'RESOURCE_ROLE_DEPTNAME_Kfold_TE', 'RESOURCE_ROLE_FAMILY_DESC_Kfold_TE',\n",
       "       'RESOURCE_ROLE_FAMILY_Kfold_TE', 'RESOURCE_ROLE_CODE_Kfold_TE',\n",
       "       'ROLE_ROLLUP_1_ROLE_ROLLUP_2_Kfold_TE',\n",
       "       'ROLE_ROLLUP_1_ROLE_DEPTNAME_Kfold_TE',\n",
       "       'ROLE_ROLLUP_1_ROLE_FAMILY_DESC_Kfold_TE',\n",
       "       'ROLE_ROLLUP_1_ROLE_FAMILY_Kfold_TE',\n",
       "       'ROLE_ROLLUP_1_ROLE_CODE_Kfold_TE',\n",
       "       'ROLE_ROLLUP_2_ROLE_DEPTNAME_Kfold_TE',\n",
       "       'ROLE_ROLLUP_2_ROLE_FAMILY_DESC_Kfold_TE',\n",
       "       'ROLE_ROLLUP_2_ROLE_FAMILY_Kfold_TE',\n",
       "       'ROLE_ROLLUP_2_ROLE_CODE_Kfold_TE',\n",
       "       'ROLE_DEPTNAME_ROLE_FAMILY_DESC_Kfold_TE',\n",
       "       'ROLE_DEPTNAME_ROLE_FAMILY_Kfold_TE',\n",
       "       'ROLE_DEPTNAME_ROLE_CODE_Kfold_TE',\n",
       "       'ROLE_FAMILY_DESC_ROLE_FAMILY_Kfold_TE',\n",
       "       'ROLE_FAMILY_DESC_ROLE_CODE_Kfold_TE',\n",
       "       'ROLE_FAMILY_ROLE_CODE_Kfold_TE'],\n",
       "      dtype='object')"
      ]
     },
     "execution_count": 23,
     "metadata": {},
     "output_type": "execute_result"
    }
   ],
   "source": [
    "X.columns[29:]"
   ]
  },
  {
   "cell_type": "code",
   "execution_count": 3,
   "metadata": {},
   "outputs": [
    {
     "name": "stdout",
     "output_type": "stream",
     "text": [
      "[Pipeline] ... (step 1 of 4) Processing combine_feature, total=   0.3s\n",
      "[Pipeline] ........... (step 2 of 4) Processing KFoldTE, total=  25.5s\n",
      "[Pipeline]  (step 3 of 4) Processing frequency_encoding, total=   0.4s\n"
     ]
    },
    {
     "name": "stderr",
     "output_type": "stream",
     "text": [
      "f:\\github_workspace\\employee_access_resource_classifier\\env\\lib\\site-packages\\pandas\\core\\frame.py:3641: PerformanceWarning: DataFrame is highly fragmented.  This is usually the result of calling `frame.insert` many times, which has poor performance.  Consider joining all columns at once using pd.concat(axis=1) instead.  To get a de-fragmented frame, use `newframe = frame.copy()`\n",
      "  self[k1] = value[k2]\n"
     ]
    },
    {
     "name": "stdout",
     "output_type": "stream",
     "text": [
      "[Pipeline]  (step 4 of 4) Processing count_vectorizer_encoding, total= 2.4min\n"
     ]
    }
   ],
   "source": [
    "from sklearn.pipeline import Pipeline\n",
    "\n",
    "#Order of the pipeline matter as this impact the output\n",
    "feature_engg = Pipeline( steps = [\n",
    "                                ('combine_feature', CombineFeatures()),\n",
    "\n",
    "                                ('KFoldTE', KFoldTargetEncoder()),\n",
    "\n",
    "                                ('frequency_encoding', FrequencyEncoding(min_group_size = 2)),\n",
    "\n",
    "                                #('tfidf_vectorizer_encoding', TFIDFVectorizerEncoding()),\n",
    "\n",
    "                                ('count_vectorizer_encoding', CountVectorizerEncoding()),\n",
    "                                ]\n",
    "                              ,verbose =  True\n",
    "                        ) \n",
    "\n",
    "X = feature_engg.fit_transform(train) "
   ]
  },
  {
   "cell_type": "code",
   "execution_count": 5,
   "metadata": {},
   "outputs": [
    {
     "data": {
      "text/plain": [
       "(30391, 249)"
      ]
     },
     "execution_count": 5,
     "metadata": {},
     "output_type": "execute_result"
    }
   ],
   "source": [
    "X.shape"
   ]
  },
  {
   "cell_type": "code",
   "execution_count": 6,
   "metadata": {},
   "outputs": [
    {
     "data": {
      "text/plain": [
       "ACTION                                                         0\n",
       "RESOURCE                                                       0\n",
       "ROLE_ROLLUP_1                                                  0\n",
       "ROLE_ROLLUP_2                                                  0\n",
       "ROLE_DEPTNAME                                                  0\n",
       "                                                              ..\n",
       "ROLE_FAMILY_ROLE_CODE_RESOURCE_ROLE_ROLLUP_1_svd_cv            0\n",
       "ROLE_FAMILY_ROLE_CODE_RESOURCE_ROLE_FAMILY_DESC_svd_cv         0\n",
       "ROLE_FAMILY_ROLE_CODE_ROLE_ROLLUP_1_ROLE_ROLLUP_2_svd_cv       0\n",
       "ROLE_FAMILY_ROLE_CODE_ROLE_ROLLUP_1_ROLE_DEPTNAME_svd_cv       0\n",
       "ROLE_FAMILY_ROLE_CODE_ROLE_ROLLUP_1_ROLE_FAMILY_DESC_svd_cv    0\n",
       "Length: 249, dtype: int64"
      ]
     },
     "execution_count": 6,
     "metadata": {},
     "output_type": "execute_result"
    }
   ],
   "source": [
    "X.isna().sum()"
   ]
  },
  {
   "cell_type": "code",
   "execution_count": 7,
   "metadata": {},
   "outputs": [],
   "source": [
    "from sklearn.linear_model import LogisticRegressionCV\n",
    "from sklearn import metrics"
   ]
  },
  {
   "cell_type": "code",
   "execution_count": 8,
   "metadata": {},
   "outputs": [
    {
     "data": {
      "text/plain": [
       "Index(['ROLE_ROLLUP_1_Kfold_TE', 'ROLE_ROLLUP_2_Kfold_TE',\n",
       "       'ROLE_DEPTNAME_Kfold_TE', 'ROLE_FAMILY_DESC_Kfold_TE',\n",
       "       'ROLE_FAMILY_Kfold_TE', 'ROLE_CODE_Kfold_TE',\n",
       "       'RESOURCE_ROLE_ROLLUP_1_Kfold_TE', 'RESOURCE_ROLE_ROLLUP_2_Kfold_TE',\n",
       "       'RESOURCE_ROLE_DEPTNAME_Kfold_TE', 'RESOURCE_ROLE_FAMILY_DESC_Kfold_TE',\n",
       "       ...\n",
       "       'ROLE_FAMILY_DESC_ROLE_CODE_ROLE_ROLLUP_1_ROLE_FAMILY_svd_cv',\n",
       "       'ROLE_FAMILY_DESC_ROLE_CODE_ROLE_ROLLUP_2_ROLE_FAMILY_svd_cv',\n",
       "       'ROLE_FAMILY_DESC_ROLE_CODE_ROLE_DEPTNAME_ROLE_FAMILY_svd_cv',\n",
       "       'ROLE_FAMILY_ROLE_CODE_ROLE_ROLLUP_1_svd_cv',\n",
       "       'ROLE_FAMILY_ROLE_CODE_ROLE_FAMILY_DESC_svd_cv',\n",
       "       'ROLE_FAMILY_ROLE_CODE_RESOURCE_ROLE_ROLLUP_1_svd_cv',\n",
       "       'ROLE_FAMILY_ROLE_CODE_RESOURCE_ROLE_FAMILY_DESC_svd_cv',\n",
       "       'ROLE_FAMILY_ROLE_CODE_ROLE_ROLLUP_1_ROLE_ROLLUP_2_svd_cv',\n",
       "       'ROLE_FAMILY_ROLE_CODE_ROLE_ROLLUP_1_ROLE_DEPTNAME_svd_cv',\n",
       "       'ROLE_FAMILY_ROLE_CODE_ROLE_ROLLUP_1_ROLE_FAMILY_DESC_svd_cv'],\n",
       "      dtype='object', length=219)"
      ]
     },
     "execution_count": 8,
     "metadata": {},
     "output_type": "execute_result"
    }
   ],
   "source": [
    "X.columns[30:]"
   ]
  },
  {
   "cell_type": "code",
   "execution_count": 9,
   "metadata": {},
   "outputs": [
    {
     "data": {
      "text/plain": [
       "ROLE_ROLLUP_1_Kfold_TE                                         0\n",
       "ROLE_ROLLUP_2_Kfold_TE                                         0\n",
       "ROLE_DEPTNAME_Kfold_TE                                         0\n",
       "ROLE_FAMILY_DESC_Kfold_TE                                      0\n",
       "ROLE_FAMILY_Kfold_TE                                           0\n",
       "                                                              ..\n",
       "ROLE_FAMILY_ROLE_CODE_RESOURCE_ROLE_ROLLUP_1_svd_cv            0\n",
       "ROLE_FAMILY_ROLE_CODE_RESOURCE_ROLE_FAMILY_DESC_svd_cv         0\n",
       "ROLE_FAMILY_ROLE_CODE_ROLE_ROLLUP_1_ROLE_ROLLUP_2_svd_cv       0\n",
       "ROLE_FAMILY_ROLE_CODE_ROLE_ROLLUP_1_ROLE_DEPTNAME_svd_cv       0\n",
       "ROLE_FAMILY_ROLE_CODE_ROLE_ROLLUP_1_ROLE_FAMILY_DESC_svd_cv    0\n",
       "Length: 219, dtype: int64"
      ]
     },
     "execution_count": 9,
     "metadata": {},
     "output_type": "execute_result"
    }
   ],
   "source": [
    "X[X.columns[30:]].isna().sum()"
   ]
  },
  {
   "cell_type": "code",
   "execution_count": 10,
   "metadata": {},
   "outputs": [
    {
     "name": "stderr",
     "output_type": "stream",
     "text": [
      "f:\\github_workspace\\employee_access_resource_classifier\\env\\lib\\site-packages\\sklearn\\linear_model\\_logistic.py:818: ConvergenceWarning: lbfgs failed to converge (status=1):\n",
      "STOP: TOTAL NO. of ITERATIONS REACHED LIMIT.\n",
      "\n",
      "Increase the number of iterations (max_iter) or scale the data as shown in:\n",
      "    https://scikit-learn.org/stable/modules/preprocessing.html\n",
      "Please also refer to the documentation for alternative solver options:\n",
      "    https://scikit-learn.org/stable/modules/linear_model.html#logistic-regression\n",
      "  extra_warning_msg=_LOGISTIC_SOLVER_CONVERGENCE_MSG,\n",
      "f:\\github_workspace\\employee_access_resource_classifier\\env\\lib\\site-packages\\sklearn\\linear_model\\_logistic.py:818: ConvergenceWarning: lbfgs failed to converge (status=1):\n",
      "STOP: TOTAL NO. of ITERATIONS REACHED LIMIT.\n",
      "\n",
      "Increase the number of iterations (max_iter) or scale the data as shown in:\n",
      "    https://scikit-learn.org/stable/modules/preprocessing.html\n",
      "Please also refer to the documentation for alternative solver options:\n",
      "    https://scikit-learn.org/stable/modules/linear_model.html#logistic-regression\n",
      "  extra_warning_msg=_LOGISTIC_SOLVER_CONVERGENCE_MSG,\n",
      "f:\\github_workspace\\employee_access_resource_classifier\\env\\lib\\site-packages\\sklearn\\linear_model\\_logistic.py:818: ConvergenceWarning: lbfgs failed to converge (status=1):\n",
      "STOP: TOTAL NO. of ITERATIONS REACHED LIMIT.\n",
      "\n",
      "Increase the number of iterations (max_iter) or scale the data as shown in:\n",
      "    https://scikit-learn.org/stable/modules/preprocessing.html\n",
      "Please also refer to the documentation for alternative solver options:\n",
      "    https://scikit-learn.org/stable/modules/linear_model.html#logistic-regression\n",
      "  extra_warning_msg=_LOGISTIC_SOLVER_CONVERGENCE_MSG,\n",
      "f:\\github_workspace\\employee_access_resource_classifier\\env\\lib\\site-packages\\sklearn\\linear_model\\_logistic.py:818: ConvergenceWarning: lbfgs failed to converge (status=1):\n",
      "STOP: TOTAL NO. of ITERATIONS REACHED LIMIT.\n",
      "\n",
      "Increase the number of iterations (max_iter) or scale the data as shown in:\n",
      "    https://scikit-learn.org/stable/modules/preprocessing.html\n",
      "Please also refer to the documentation for alternative solver options:\n",
      "    https://scikit-learn.org/stable/modules/linear_model.html#logistic-regression\n",
      "  extra_warning_msg=_LOGISTIC_SOLVER_CONVERGENCE_MSG,\n",
      "f:\\github_workspace\\employee_access_resource_classifier\\env\\lib\\site-packages\\sklearn\\linear_model\\_logistic.py:818: ConvergenceWarning: lbfgs failed to converge (status=1):\n",
      "STOP: TOTAL NO. of ITERATIONS REACHED LIMIT.\n",
      "\n",
      "Increase the number of iterations (max_iter) or scale the data as shown in:\n",
      "    https://scikit-learn.org/stable/modules/preprocessing.html\n",
      "Please also refer to the documentation for alternative solver options:\n",
      "    https://scikit-learn.org/stable/modules/linear_model.html#logistic-regression\n",
      "  extra_warning_msg=_LOGISTIC_SOLVER_CONVERGENCE_MSG,\n",
      "f:\\github_workspace\\employee_access_resource_classifier\\env\\lib\\site-packages\\sklearn\\linear_model\\_logistic.py:818: ConvergenceWarning: lbfgs failed to converge (status=1):\n",
      "STOP: TOTAL NO. of ITERATIONS REACHED LIMIT.\n",
      "\n",
      "Increase the number of iterations (max_iter) or scale the data as shown in:\n",
      "    https://scikit-learn.org/stable/modules/preprocessing.html\n",
      "Please also refer to the documentation for alternative solver options:\n",
      "    https://scikit-learn.org/stable/modules/linear_model.html#logistic-regression\n",
      "  extra_warning_msg=_LOGISTIC_SOLVER_CONVERGENCE_MSG,\n",
      "f:\\github_workspace\\employee_access_resource_classifier\\env\\lib\\site-packages\\sklearn\\linear_model\\_logistic.py:818: ConvergenceWarning: lbfgs failed to converge (status=1):\n",
      "STOP: TOTAL NO. of ITERATIONS REACHED LIMIT.\n",
      "\n",
      "Increase the number of iterations (max_iter) or scale the data as shown in:\n",
      "    https://scikit-learn.org/stable/modules/preprocessing.html\n",
      "Please also refer to the documentation for alternative solver options:\n",
      "    https://scikit-learn.org/stable/modules/linear_model.html#logistic-regression\n",
      "  extra_warning_msg=_LOGISTIC_SOLVER_CONVERGENCE_MSG,\n",
      "f:\\github_workspace\\employee_access_resource_classifier\\env\\lib\\site-packages\\sklearn\\linear_model\\_logistic.py:818: ConvergenceWarning: lbfgs failed to converge (status=1):\n",
      "STOP: TOTAL NO. of ITERATIONS REACHED LIMIT.\n",
      "\n",
      "Increase the number of iterations (max_iter) or scale the data as shown in:\n",
      "    https://scikit-learn.org/stable/modules/preprocessing.html\n",
      "Please also refer to the documentation for alternative solver options:\n",
      "    https://scikit-learn.org/stable/modules/linear_model.html#logistic-regression\n",
      "  extra_warning_msg=_LOGISTIC_SOLVER_CONVERGENCE_MSG,\n",
      "f:\\github_workspace\\employee_access_resource_classifier\\env\\lib\\site-packages\\sklearn\\linear_model\\_logistic.py:818: ConvergenceWarning: lbfgs failed to converge (status=1):\n",
      "STOP: TOTAL NO. of ITERATIONS REACHED LIMIT.\n",
      "\n",
      "Increase the number of iterations (max_iter) or scale the data as shown in:\n",
      "    https://scikit-learn.org/stable/modules/preprocessing.html\n",
      "Please also refer to the documentation for alternative solver options:\n",
      "    https://scikit-learn.org/stable/modules/linear_model.html#logistic-regression\n",
      "  extra_warning_msg=_LOGISTIC_SOLVER_CONVERGENCE_MSG,\n",
      "f:\\github_workspace\\employee_access_resource_classifier\\env\\lib\\site-packages\\sklearn\\linear_model\\_logistic.py:818: ConvergenceWarning: lbfgs failed to converge (status=1):\n",
      "STOP: TOTAL NO. of ITERATIONS REACHED LIMIT.\n",
      "\n",
      "Increase the number of iterations (max_iter) or scale the data as shown in:\n",
      "    https://scikit-learn.org/stable/modules/preprocessing.html\n",
      "Please also refer to the documentation for alternative solver options:\n",
      "    https://scikit-learn.org/stable/modules/linear_model.html#logistic-regression\n",
      "  extra_warning_msg=_LOGISTIC_SOLVER_CONVERGENCE_MSG,\n",
      "f:\\github_workspace\\employee_access_resource_classifier\\env\\lib\\site-packages\\sklearn\\linear_model\\_logistic.py:818: ConvergenceWarning: lbfgs failed to converge (status=1):\n",
      "STOP: TOTAL NO. of ITERATIONS REACHED LIMIT.\n",
      "\n",
      "Increase the number of iterations (max_iter) or scale the data as shown in:\n",
      "    https://scikit-learn.org/stable/modules/preprocessing.html\n",
      "Please also refer to the documentation for alternative solver options:\n",
      "    https://scikit-learn.org/stable/modules/linear_model.html#logistic-regression\n",
      "  extra_warning_msg=_LOGISTIC_SOLVER_CONVERGENCE_MSG,\n",
      "f:\\github_workspace\\employee_access_resource_classifier\\env\\lib\\site-packages\\sklearn\\linear_model\\_logistic.py:818: ConvergenceWarning: lbfgs failed to converge (status=1):\n",
      "STOP: TOTAL NO. of ITERATIONS REACHED LIMIT.\n",
      "\n",
      "Increase the number of iterations (max_iter) or scale the data as shown in:\n",
      "    https://scikit-learn.org/stable/modules/preprocessing.html\n",
      "Please also refer to the documentation for alternative solver options:\n",
      "    https://scikit-learn.org/stable/modules/linear_model.html#logistic-regression\n",
      "  extra_warning_msg=_LOGISTIC_SOLVER_CONVERGENCE_MSG,\n",
      "f:\\github_workspace\\employee_access_resource_classifier\\env\\lib\\site-packages\\sklearn\\linear_model\\_logistic.py:818: ConvergenceWarning: lbfgs failed to converge (status=1):\n",
      "STOP: TOTAL NO. of ITERATIONS REACHED LIMIT.\n",
      "\n",
      "Increase the number of iterations (max_iter) or scale the data as shown in:\n",
      "    https://scikit-learn.org/stable/modules/preprocessing.html\n",
      "Please also refer to the documentation for alternative solver options:\n",
      "    https://scikit-learn.org/stable/modules/linear_model.html#logistic-regression\n",
      "  extra_warning_msg=_LOGISTIC_SOLVER_CONVERGENCE_MSG,\n",
      "f:\\github_workspace\\employee_access_resource_classifier\\env\\lib\\site-packages\\sklearn\\linear_model\\_logistic.py:818: ConvergenceWarning: lbfgs failed to converge (status=1):\n",
      "STOP: TOTAL NO. of ITERATIONS REACHED LIMIT.\n",
      "\n",
      "Increase the number of iterations (max_iter) or scale the data as shown in:\n",
      "    https://scikit-learn.org/stable/modules/preprocessing.html\n",
      "Please also refer to the documentation for alternative solver options:\n",
      "    https://scikit-learn.org/stable/modules/linear_model.html#logistic-regression\n",
      "  extra_warning_msg=_LOGISTIC_SOLVER_CONVERGENCE_MSG,\n",
      "f:\\github_workspace\\employee_access_resource_classifier\\env\\lib\\site-packages\\sklearn\\linear_model\\_logistic.py:818: ConvergenceWarning: lbfgs failed to converge (status=1):\n",
      "STOP: TOTAL NO. of ITERATIONS REACHED LIMIT.\n",
      "\n",
      "Increase the number of iterations (max_iter) or scale the data as shown in:\n",
      "    https://scikit-learn.org/stable/modules/preprocessing.html\n",
      "Please also refer to the documentation for alternative solver options:\n",
      "    https://scikit-learn.org/stable/modules/linear_model.html#logistic-regression\n",
      "  extra_warning_msg=_LOGISTIC_SOLVER_CONVERGENCE_MSG,\n",
      "f:\\github_workspace\\employee_access_resource_classifier\\env\\lib\\site-packages\\sklearn\\linear_model\\_logistic.py:818: ConvergenceWarning: lbfgs failed to converge (status=1):\n",
      "STOP: TOTAL NO. of ITERATIONS REACHED LIMIT.\n",
      "\n",
      "Increase the number of iterations (max_iter) or scale the data as shown in:\n",
      "    https://scikit-learn.org/stable/modules/preprocessing.html\n",
      "Please also refer to the documentation for alternative solver options:\n",
      "    https://scikit-learn.org/stable/modules/linear_model.html#logistic-regression\n",
      "  extra_warning_msg=_LOGISTIC_SOLVER_CONVERGENCE_MSG,\n",
      "f:\\github_workspace\\employee_access_resource_classifier\\env\\lib\\site-packages\\sklearn\\linear_model\\_logistic.py:818: ConvergenceWarning: lbfgs failed to converge (status=1):\n",
      "STOP: TOTAL NO. of ITERATIONS REACHED LIMIT.\n",
      "\n",
      "Increase the number of iterations (max_iter) or scale the data as shown in:\n",
      "    https://scikit-learn.org/stable/modules/preprocessing.html\n",
      "Please also refer to the documentation for alternative solver options:\n",
      "    https://scikit-learn.org/stable/modules/linear_model.html#logistic-regression\n",
      "  extra_warning_msg=_LOGISTIC_SOLVER_CONVERGENCE_MSG,\n",
      "f:\\github_workspace\\employee_access_resource_classifier\\env\\lib\\site-packages\\sklearn\\linear_model\\_logistic.py:818: ConvergenceWarning: lbfgs failed to converge (status=1):\n",
      "STOP: TOTAL NO. of ITERATIONS REACHED LIMIT.\n",
      "\n",
      "Increase the number of iterations (max_iter) or scale the data as shown in:\n",
      "    https://scikit-learn.org/stable/modules/preprocessing.html\n",
      "Please also refer to the documentation for alternative solver options:\n",
      "    https://scikit-learn.org/stable/modules/linear_model.html#logistic-regression\n",
      "  extra_warning_msg=_LOGISTIC_SOLVER_CONVERGENCE_MSG,\n",
      "f:\\github_workspace\\employee_access_resource_classifier\\env\\lib\\site-packages\\sklearn\\linear_model\\_logistic.py:818: ConvergenceWarning: lbfgs failed to converge (status=1):\n",
      "STOP: TOTAL NO. of ITERATIONS REACHED LIMIT.\n",
      "\n",
      "Increase the number of iterations (max_iter) or scale the data as shown in:\n",
      "    https://scikit-learn.org/stable/modules/preprocessing.html\n",
      "Please also refer to the documentation for alternative solver options:\n",
      "    https://scikit-learn.org/stable/modules/linear_model.html#logistic-regression\n",
      "  extra_warning_msg=_LOGISTIC_SOLVER_CONVERGENCE_MSG,\n",
      "f:\\github_workspace\\employee_access_resource_classifier\\env\\lib\\site-packages\\sklearn\\linear_model\\_logistic.py:818: ConvergenceWarning: lbfgs failed to converge (status=1):\n",
      "STOP: TOTAL NO. of ITERATIONS REACHED LIMIT.\n",
      "\n",
      "Increase the number of iterations (max_iter) or scale the data as shown in:\n",
      "    https://scikit-learn.org/stable/modules/preprocessing.html\n",
      "Please also refer to the documentation for alternative solver options:\n",
      "    https://scikit-learn.org/stable/modules/linear_model.html#logistic-regression\n",
      "  extra_warning_msg=_LOGISTIC_SOLVER_CONVERGENCE_MSG,\n",
      "f:\\github_workspace\\employee_access_resource_classifier\\env\\lib\\site-packages\\sklearn\\linear_model\\_logistic.py:818: ConvergenceWarning: lbfgs failed to converge (status=1):\n",
      "STOP: TOTAL NO. of ITERATIONS REACHED LIMIT.\n",
      "\n",
      "Increase the number of iterations (max_iter) or scale the data as shown in:\n",
      "    https://scikit-learn.org/stable/modules/preprocessing.html\n",
      "Please also refer to the documentation for alternative solver options:\n",
      "    https://scikit-learn.org/stable/modules/linear_model.html#logistic-regression\n",
      "  extra_warning_msg=_LOGISTIC_SOLVER_CONVERGENCE_MSG,\n",
      "f:\\github_workspace\\employee_access_resource_classifier\\env\\lib\\site-packages\\sklearn\\linear_model\\_logistic.py:818: ConvergenceWarning: lbfgs failed to converge (status=1):\n",
      "STOP: TOTAL NO. of ITERATIONS REACHED LIMIT.\n",
      "\n",
      "Increase the number of iterations (max_iter) or scale the data as shown in:\n",
      "    https://scikit-learn.org/stable/modules/preprocessing.html\n",
      "Please also refer to the documentation for alternative solver options:\n",
      "    https://scikit-learn.org/stable/modules/linear_model.html#logistic-regression\n",
      "  extra_warning_msg=_LOGISTIC_SOLVER_CONVERGENCE_MSG,\n",
      "f:\\github_workspace\\employee_access_resource_classifier\\env\\lib\\site-packages\\sklearn\\linear_model\\_logistic.py:818: ConvergenceWarning: lbfgs failed to converge (status=1):\n",
      "STOP: TOTAL NO. of ITERATIONS REACHED LIMIT.\n",
      "\n",
      "Increase the number of iterations (max_iter) or scale the data as shown in:\n",
      "    https://scikit-learn.org/stable/modules/preprocessing.html\n",
      "Please also refer to the documentation for alternative solver options:\n",
      "    https://scikit-learn.org/stable/modules/linear_model.html#logistic-regression\n",
      "  extra_warning_msg=_LOGISTIC_SOLVER_CONVERGENCE_MSG,\n",
      "f:\\github_workspace\\employee_access_resource_classifier\\env\\lib\\site-packages\\sklearn\\linear_model\\_logistic.py:818: ConvergenceWarning: lbfgs failed to converge (status=1):\n",
      "STOP: TOTAL NO. of ITERATIONS REACHED LIMIT.\n",
      "\n",
      "Increase the number of iterations (max_iter) or scale the data as shown in:\n",
      "    https://scikit-learn.org/stable/modules/preprocessing.html\n",
      "Please also refer to the documentation for alternative solver options:\n",
      "    https://scikit-learn.org/stable/modules/linear_model.html#logistic-regression\n",
      "  extra_warning_msg=_LOGISTIC_SOLVER_CONVERGENCE_MSG,\n",
      "f:\\github_workspace\\employee_access_resource_classifier\\env\\lib\\site-packages\\sklearn\\linear_model\\_logistic.py:818: ConvergenceWarning: lbfgs failed to converge (status=1):\n",
      "STOP: TOTAL NO. of ITERATIONS REACHED LIMIT.\n",
      "\n",
      "Increase the number of iterations (max_iter) or scale the data as shown in:\n",
      "    https://scikit-learn.org/stable/modules/preprocessing.html\n",
      "Please also refer to the documentation for alternative solver options:\n",
      "    https://scikit-learn.org/stable/modules/linear_model.html#logistic-regression\n",
      "  extra_warning_msg=_LOGISTIC_SOLVER_CONVERGENCE_MSG,\n",
      "f:\\github_workspace\\employee_access_resource_classifier\\env\\lib\\site-packages\\sklearn\\linear_model\\_logistic.py:818: ConvergenceWarning: lbfgs failed to converge (status=1):\n",
      "STOP: TOTAL NO. of ITERATIONS REACHED LIMIT.\n",
      "\n",
      "Increase the number of iterations (max_iter) or scale the data as shown in:\n",
      "    https://scikit-learn.org/stable/modules/preprocessing.html\n",
      "Please also refer to the documentation for alternative solver options:\n",
      "    https://scikit-learn.org/stable/modules/linear_model.html#logistic-regression\n",
      "  extra_warning_msg=_LOGISTIC_SOLVER_CONVERGENCE_MSG,\n",
      "f:\\github_workspace\\employee_access_resource_classifier\\env\\lib\\site-packages\\sklearn\\linear_model\\_logistic.py:818: ConvergenceWarning: lbfgs failed to converge (status=1):\n",
      "STOP: TOTAL NO. of ITERATIONS REACHED LIMIT.\n",
      "\n",
      "Increase the number of iterations (max_iter) or scale the data as shown in:\n",
      "    https://scikit-learn.org/stable/modules/preprocessing.html\n",
      "Please also refer to the documentation for alternative solver options:\n",
      "    https://scikit-learn.org/stable/modules/linear_model.html#logistic-regression\n",
      "  extra_warning_msg=_LOGISTIC_SOLVER_CONVERGENCE_MSG,\n",
      "f:\\github_workspace\\employee_access_resource_classifier\\env\\lib\\site-packages\\sklearn\\linear_model\\_logistic.py:818: ConvergenceWarning: lbfgs failed to converge (status=1):\n",
      "STOP: TOTAL NO. of ITERATIONS REACHED LIMIT.\n",
      "\n",
      "Increase the number of iterations (max_iter) or scale the data as shown in:\n",
      "    https://scikit-learn.org/stable/modules/preprocessing.html\n",
      "Please also refer to the documentation for alternative solver options:\n",
      "    https://scikit-learn.org/stable/modules/linear_model.html#logistic-regression\n",
      "  extra_warning_msg=_LOGISTIC_SOLVER_CONVERGENCE_MSG,\n",
      "f:\\github_workspace\\employee_access_resource_classifier\\env\\lib\\site-packages\\sklearn\\linear_model\\_logistic.py:818: ConvergenceWarning: lbfgs failed to converge (status=1):\n",
      "STOP: TOTAL NO. of ITERATIONS REACHED LIMIT.\n",
      "\n",
      "Increase the number of iterations (max_iter) or scale the data as shown in:\n",
      "    https://scikit-learn.org/stable/modules/preprocessing.html\n",
      "Please also refer to the documentation for alternative solver options:\n",
      "    https://scikit-learn.org/stable/modules/linear_model.html#logistic-regression\n",
      "  extra_warning_msg=_LOGISTIC_SOLVER_CONVERGENCE_MSG,\n",
      "f:\\github_workspace\\employee_access_resource_classifier\\env\\lib\\site-packages\\sklearn\\linear_model\\_logistic.py:818: ConvergenceWarning: lbfgs failed to converge (status=1):\n",
      "STOP: TOTAL NO. of ITERATIONS REACHED LIMIT.\n",
      "\n",
      "Increase the number of iterations (max_iter) or scale the data as shown in:\n",
      "    https://scikit-learn.org/stable/modules/preprocessing.html\n",
      "Please also refer to the documentation for alternative solver options:\n",
      "    https://scikit-learn.org/stable/modules/linear_model.html#logistic-regression\n",
      "  extra_warning_msg=_LOGISTIC_SOLVER_CONVERGENCE_MSG,\n",
      "f:\\github_workspace\\employee_access_resource_classifier\\env\\lib\\site-packages\\sklearn\\linear_model\\_logistic.py:818: ConvergenceWarning: lbfgs failed to converge (status=1):\n",
      "STOP: TOTAL NO. of ITERATIONS REACHED LIMIT.\n",
      "\n",
      "Increase the number of iterations (max_iter) or scale the data as shown in:\n",
      "    https://scikit-learn.org/stable/modules/preprocessing.html\n",
      "Please also refer to the documentation for alternative solver options:\n",
      "    https://scikit-learn.org/stable/modules/linear_model.html#logistic-regression\n",
      "  extra_warning_msg=_LOGISTIC_SOLVER_CONVERGENCE_MSG,\n",
      "f:\\github_workspace\\employee_access_resource_classifier\\env\\lib\\site-packages\\sklearn\\linear_model\\_logistic.py:818: ConvergenceWarning: lbfgs failed to converge (status=1):\n",
      "STOP: TOTAL NO. of ITERATIONS REACHED LIMIT.\n",
      "\n",
      "Increase the number of iterations (max_iter) or scale the data as shown in:\n",
      "    https://scikit-learn.org/stable/modules/preprocessing.html\n",
      "Please also refer to the documentation for alternative solver options:\n",
      "    https://scikit-learn.org/stable/modules/linear_model.html#logistic-regression\n",
      "  extra_warning_msg=_LOGISTIC_SOLVER_CONVERGENCE_MSG,\n",
      "f:\\github_workspace\\employee_access_resource_classifier\\env\\lib\\site-packages\\sklearn\\linear_model\\_logistic.py:818: ConvergenceWarning: lbfgs failed to converge (status=1):\n",
      "STOP: TOTAL NO. of ITERATIONS REACHED LIMIT.\n",
      "\n",
      "Increase the number of iterations (max_iter) or scale the data as shown in:\n",
      "    https://scikit-learn.org/stable/modules/preprocessing.html\n",
      "Please also refer to the documentation for alternative solver options:\n",
      "    https://scikit-learn.org/stable/modules/linear_model.html#logistic-regression\n",
      "  extra_warning_msg=_LOGISTIC_SOLVER_CONVERGENCE_MSG,\n",
      "f:\\github_workspace\\employee_access_resource_classifier\\env\\lib\\site-packages\\sklearn\\linear_model\\_logistic.py:818: ConvergenceWarning: lbfgs failed to converge (status=1):\n",
      "STOP: TOTAL NO. of ITERATIONS REACHED LIMIT.\n",
      "\n",
      "Increase the number of iterations (max_iter) or scale the data as shown in:\n",
      "    https://scikit-learn.org/stable/modules/preprocessing.html\n",
      "Please also refer to the documentation for alternative solver options:\n",
      "    https://scikit-learn.org/stable/modules/linear_model.html#logistic-regression\n",
      "  extra_warning_msg=_LOGISTIC_SOLVER_CONVERGENCE_MSG,\n",
      "f:\\github_workspace\\employee_access_resource_classifier\\env\\lib\\site-packages\\sklearn\\linear_model\\_logistic.py:818: ConvergenceWarning: lbfgs failed to converge (status=1):\n",
      "STOP: TOTAL NO. of ITERATIONS REACHED LIMIT.\n",
      "\n",
      "Increase the number of iterations (max_iter) or scale the data as shown in:\n",
      "    https://scikit-learn.org/stable/modules/preprocessing.html\n",
      "Please also refer to the documentation for alternative solver options:\n",
      "    https://scikit-learn.org/stable/modules/linear_model.html#logistic-regression\n",
      "  extra_warning_msg=_LOGISTIC_SOLVER_CONVERGENCE_MSG,\n",
      "f:\\github_workspace\\employee_access_resource_classifier\\env\\lib\\site-packages\\sklearn\\linear_model\\_logistic.py:818: ConvergenceWarning: lbfgs failed to converge (status=1):\n",
      "STOP: TOTAL NO. of ITERATIONS REACHED LIMIT.\n",
      "\n",
      "Increase the number of iterations (max_iter) or scale the data as shown in:\n",
      "    https://scikit-learn.org/stable/modules/preprocessing.html\n",
      "Please also refer to the documentation for alternative solver options:\n",
      "    https://scikit-learn.org/stable/modules/linear_model.html#logistic-regression\n",
      "  extra_warning_msg=_LOGISTIC_SOLVER_CONVERGENCE_MSG,\n",
      "f:\\github_workspace\\employee_access_resource_classifier\\env\\lib\\site-packages\\sklearn\\linear_model\\_logistic.py:818: ConvergenceWarning: lbfgs failed to converge (status=1):\n",
      "STOP: TOTAL NO. of ITERATIONS REACHED LIMIT.\n",
      "\n",
      "Increase the number of iterations (max_iter) or scale the data as shown in:\n",
      "    https://scikit-learn.org/stable/modules/preprocessing.html\n",
      "Please also refer to the documentation for alternative solver options:\n",
      "    https://scikit-learn.org/stable/modules/linear_model.html#logistic-regression\n",
      "  extra_warning_msg=_LOGISTIC_SOLVER_CONVERGENCE_MSG,\n",
      "f:\\github_workspace\\employee_access_resource_classifier\\env\\lib\\site-packages\\sklearn\\linear_model\\_logistic.py:818: ConvergenceWarning: lbfgs failed to converge (status=1):\n",
      "STOP: TOTAL NO. of ITERATIONS REACHED LIMIT.\n",
      "\n",
      "Increase the number of iterations (max_iter) or scale the data as shown in:\n",
      "    https://scikit-learn.org/stable/modules/preprocessing.html\n",
      "Please also refer to the documentation for alternative solver options:\n",
      "    https://scikit-learn.org/stable/modules/linear_model.html#logistic-regression\n",
      "  extra_warning_msg=_LOGISTIC_SOLVER_CONVERGENCE_MSG,\n",
      "f:\\github_workspace\\employee_access_resource_classifier\\env\\lib\\site-packages\\sklearn\\linear_model\\_logistic.py:818: ConvergenceWarning: lbfgs failed to converge (status=1):\n",
      "STOP: TOTAL NO. of ITERATIONS REACHED LIMIT.\n",
      "\n",
      "Increase the number of iterations (max_iter) or scale the data as shown in:\n",
      "    https://scikit-learn.org/stable/modules/preprocessing.html\n",
      "Please also refer to the documentation for alternative solver options:\n",
      "    https://scikit-learn.org/stable/modules/linear_model.html#logistic-regression\n",
      "  extra_warning_msg=_LOGISTIC_SOLVER_CONVERGENCE_MSG,\n",
      "f:\\github_workspace\\employee_access_resource_classifier\\env\\lib\\site-packages\\sklearn\\linear_model\\_logistic.py:818: ConvergenceWarning: lbfgs failed to converge (status=1):\n",
      "STOP: TOTAL NO. of ITERATIONS REACHED LIMIT.\n",
      "\n",
      "Increase the number of iterations (max_iter) or scale the data as shown in:\n",
      "    https://scikit-learn.org/stable/modules/preprocessing.html\n",
      "Please also refer to the documentation for alternative solver options:\n",
      "    https://scikit-learn.org/stable/modules/linear_model.html#logistic-regression\n",
      "  extra_warning_msg=_LOGISTIC_SOLVER_CONVERGENCE_MSG,\n",
      "f:\\github_workspace\\employee_access_resource_classifier\\env\\lib\\site-packages\\sklearn\\linear_model\\_logistic.py:818: ConvergenceWarning: lbfgs failed to converge (status=1):\n",
      "STOP: TOTAL NO. of ITERATIONS REACHED LIMIT.\n",
      "\n",
      "Increase the number of iterations (max_iter) or scale the data as shown in:\n",
      "    https://scikit-learn.org/stable/modules/preprocessing.html\n",
      "Please also refer to the documentation for alternative solver options:\n",
      "    https://scikit-learn.org/stable/modules/linear_model.html#logistic-regression\n",
      "  extra_warning_msg=_LOGISTIC_SOLVER_CONVERGENCE_MSG,\n",
      "f:\\github_workspace\\employee_access_resource_classifier\\env\\lib\\site-packages\\sklearn\\linear_model\\_logistic.py:818: ConvergenceWarning: lbfgs failed to converge (status=1):\n",
      "STOP: TOTAL NO. of ITERATIONS REACHED LIMIT.\n",
      "\n",
      "Increase the number of iterations (max_iter) or scale the data as shown in:\n",
      "    https://scikit-learn.org/stable/modules/preprocessing.html\n",
      "Please also refer to the documentation for alternative solver options:\n",
      "    https://scikit-learn.org/stable/modules/linear_model.html#logistic-regression\n",
      "  extra_warning_msg=_LOGISTIC_SOLVER_CONVERGENCE_MSG,\n",
      "f:\\github_workspace\\employee_access_resource_classifier\\env\\lib\\site-packages\\sklearn\\linear_model\\_logistic.py:818: ConvergenceWarning: lbfgs failed to converge (status=1):\n",
      "STOP: TOTAL NO. of ITERATIONS REACHED LIMIT.\n",
      "\n",
      "Increase the number of iterations (max_iter) or scale the data as shown in:\n",
      "    https://scikit-learn.org/stable/modules/preprocessing.html\n",
      "Please also refer to the documentation for alternative solver options:\n",
      "    https://scikit-learn.org/stable/modules/linear_model.html#logistic-regression\n",
      "  extra_warning_msg=_LOGISTIC_SOLVER_CONVERGENCE_MSG,\n",
      "f:\\github_workspace\\employee_access_resource_classifier\\env\\lib\\site-packages\\sklearn\\linear_model\\_logistic.py:818: ConvergenceWarning: lbfgs failed to converge (status=1):\n",
      "STOP: TOTAL NO. of ITERATIONS REACHED LIMIT.\n",
      "\n",
      "Increase the number of iterations (max_iter) or scale the data as shown in:\n",
      "    https://scikit-learn.org/stable/modules/preprocessing.html\n",
      "Please also refer to the documentation for alternative solver options:\n",
      "    https://scikit-learn.org/stable/modules/linear_model.html#logistic-regression\n",
      "  extra_warning_msg=_LOGISTIC_SOLVER_CONVERGENCE_MSG,\n",
      "f:\\github_workspace\\employee_access_resource_classifier\\env\\lib\\site-packages\\sklearn\\linear_model\\_logistic.py:818: ConvergenceWarning: lbfgs failed to converge (status=1):\n",
      "STOP: TOTAL NO. of ITERATIONS REACHED LIMIT.\n",
      "\n",
      "Increase the number of iterations (max_iter) or scale the data as shown in:\n",
      "    https://scikit-learn.org/stable/modules/preprocessing.html\n",
      "Please also refer to the documentation for alternative solver options:\n",
      "    https://scikit-learn.org/stable/modules/linear_model.html#logistic-regression\n",
      "  extra_warning_msg=_LOGISTIC_SOLVER_CONVERGENCE_MSG,\n",
      "f:\\github_workspace\\employee_access_resource_classifier\\env\\lib\\site-packages\\sklearn\\linear_model\\_logistic.py:818: ConvergenceWarning: lbfgs failed to converge (status=1):\n",
      "STOP: TOTAL NO. of ITERATIONS REACHED LIMIT.\n",
      "\n",
      "Increase the number of iterations (max_iter) or scale the data as shown in:\n",
      "    https://scikit-learn.org/stable/modules/preprocessing.html\n",
      "Please also refer to the documentation for alternative solver options:\n",
      "    https://scikit-learn.org/stable/modules/linear_model.html#logistic-regression\n",
      "  extra_warning_msg=_LOGISTIC_SOLVER_CONVERGENCE_MSG,\n",
      "f:\\github_workspace\\employee_access_resource_classifier\\env\\lib\\site-packages\\sklearn\\linear_model\\_logistic.py:818: ConvergenceWarning: lbfgs failed to converge (status=1):\n",
      "STOP: TOTAL NO. of ITERATIONS REACHED LIMIT.\n",
      "\n",
      "Increase the number of iterations (max_iter) or scale the data as shown in:\n",
      "    https://scikit-learn.org/stable/modules/preprocessing.html\n",
      "Please also refer to the documentation for alternative solver options:\n",
      "    https://scikit-learn.org/stable/modules/linear_model.html#logistic-regression\n",
      "  extra_warning_msg=_LOGISTIC_SOLVER_CONVERGENCE_MSG,\n",
      "f:\\github_workspace\\employee_access_resource_classifier\\env\\lib\\site-packages\\sklearn\\linear_model\\_logistic.py:818: ConvergenceWarning: lbfgs failed to converge (status=1):\n",
      "STOP: TOTAL NO. of ITERATIONS REACHED LIMIT.\n",
      "\n",
      "Increase the number of iterations (max_iter) or scale the data as shown in:\n",
      "    https://scikit-learn.org/stable/modules/preprocessing.html\n",
      "Please also refer to the documentation for alternative solver options:\n",
      "    https://scikit-learn.org/stable/modules/linear_model.html#logistic-regression\n",
      "  extra_warning_msg=_LOGISTIC_SOLVER_CONVERGENCE_MSG,\n",
      "f:\\github_workspace\\employee_access_resource_classifier\\env\\lib\\site-packages\\sklearn\\linear_model\\_logistic.py:818: ConvergenceWarning: lbfgs failed to converge (status=1):\n",
      "STOP: TOTAL NO. of ITERATIONS REACHED LIMIT.\n",
      "\n",
      "Increase the number of iterations (max_iter) or scale the data as shown in:\n",
      "    https://scikit-learn.org/stable/modules/preprocessing.html\n",
      "Please also refer to the documentation for alternative solver options:\n",
      "    https://scikit-learn.org/stable/modules/linear_model.html#logistic-regression\n",
      "  extra_warning_msg=_LOGISTIC_SOLVER_CONVERGENCE_MSG,\n",
      "f:\\github_workspace\\employee_access_resource_classifier\\env\\lib\\site-packages\\sklearn\\linear_model\\_logistic.py:818: ConvergenceWarning: lbfgs failed to converge (status=1):\n",
      "STOP: TOTAL NO. of ITERATIONS REACHED LIMIT.\n",
      "\n",
      "Increase the number of iterations (max_iter) or scale the data as shown in:\n",
      "    https://scikit-learn.org/stable/modules/preprocessing.html\n",
      "Please also refer to the documentation for alternative solver options:\n",
      "    https://scikit-learn.org/stable/modules/linear_model.html#logistic-regression\n",
      "  extra_warning_msg=_LOGISTIC_SOLVER_CONVERGENCE_MSG,\n",
      "f:\\github_workspace\\employee_access_resource_classifier\\env\\lib\\site-packages\\sklearn\\linear_model\\_logistic.py:818: ConvergenceWarning: lbfgs failed to converge (status=1):\n",
      "STOP: TOTAL NO. of ITERATIONS REACHED LIMIT.\n",
      "\n",
      "Increase the number of iterations (max_iter) or scale the data as shown in:\n",
      "    https://scikit-learn.org/stable/modules/preprocessing.html\n",
      "Please also refer to the documentation for alternative solver options:\n",
      "    https://scikit-learn.org/stable/modules/linear_model.html#logistic-regression\n",
      "  extra_warning_msg=_LOGISTIC_SOLVER_CONVERGENCE_MSG,\n"
     ]
    },
    {
     "data": {
      "text/plain": [
       "LogisticRegressionCV()"
      ]
     },
     "execution_count": 10,
     "metadata": {},
     "output_type": "execute_result"
    }
   ],
   "source": [
    "logreg = LogisticRegressionCV()\n",
    "logreg.fit(X[X.columns[30:]], train['ACTION'])"
   ]
  },
  {
   "cell_type": "code",
   "execution_count": 12,
   "metadata": {},
   "outputs": [],
   "source": [
    "y_pred = logreg.predict(X[X.columns[30:]])"
   ]
  },
  {
   "cell_type": "code",
   "execution_count": 13,
   "metadata": {},
   "outputs": [
    {
     "name": "stdout",
     "output_type": "stream",
     "text": [
      "[[    2  1838]\n",
      " [   12 28539]]\n"
     ]
    }
   ],
   "source": [
    "from sklearn.metrics import confusion_matrix\n",
    "confusion_matrix = confusion_matrix(train['ACTION'], y_pred)\n",
    "print(confusion_matrix)"
   ]
  },
  {
   "cell_type": "code",
   "execution_count": 14,
   "metadata": {},
   "outputs": [
    {
     "name": "stdout",
     "output_type": "stream",
     "text": [
      "              precision    recall  f1-score   support\n",
      "\n",
      "           0       0.14      0.00      0.00      1840\n",
      "           1       0.94      1.00      0.97     28551\n",
      "\n",
      "    accuracy                           0.94     30391\n",
      "   macro avg       0.54      0.50      0.49     30391\n",
      "weighted avg       0.89      0.94      0.91     30391\n",
      "\n"
     ]
    }
   ],
   "source": [
    "from sklearn.metrics import classification_report\n",
    "print(classification_report(train['ACTION'], y_pred))"
   ]
  },
  {
   "cell_type": "code",
   "execution_count": 17,
   "metadata": {},
   "outputs": [
    {
     "data": {
      "image/png": "[encoded data removed]",
      "text/plain": [
       "<Figure size 640x480 with 1 Axes>"
      ]
     },
     "metadata": {},
     "output_type": "display_data"
    }
   ],
   "source": [
    "from sklearn.metrics import roc_auc_score\n",
    "from sklearn.metrics import roc_curve\n",
    "import matplotlib.pyplot as plt\n",
    "logit_roc_auc = roc_auc_score(train['ACTION'], y_pred)\n",
    "fpr, tpr, thresholds = roc_curve(train['ACTION'], y_pred)\n",
    "plt.figure()\n",
    "plt.plot(fpr, tpr, label='Logistic Regression (area = %0.2f)' % logit_roc_auc)\n",
    "plt.plot([0, 1], [0, 1],'r--')\n",
    "plt.xlim([0.0, 1.0])\n",
    "plt.ylim([0.0, 1.05])\n",
    "plt.xlabel('False Positive Rate')\n",
    "plt.ylabel('True Positive Rate')\n",
    "plt.title('Receiver operating characteristic')\n",
    "plt.legend(loc=\"lower right\")\n",
    "plt.savefig('Log_ROC')\n",
    "plt.show()"
   ]
  },
  {
   "cell_type": "markdown",
   "metadata": {},
   "source": [
    "# Temp #"
   ]
  },
  {
   "cell_type": "code",
   "execution_count": 23,
   "metadata": {},
   "outputs": [],
   "source": [
    "from sklearn.pipeline import Pipeline\n",
    "\n",
    "#Order of the pipeline matter as this impact the output\n",
    "feature_engg = Pipeline( steps = [\n",
    "                                ('combine_feature', CombineFeatures()),\n",
    "\n",
    "                                ('KFoldTE', KFoldTargetEncoder()),\n",
    "\n",
    "                                ('frequency_encoding', FrequencyEncoding(min_group_size = 2))])\n",
    "X = feature_engg.fit_transform(train)"
   ]
  },
  {
   "cell_type": "code",
   "execution_count": 24,
   "metadata": {},
   "outputs": [
    {
     "data": {
      "text/plain": [
       "(30391, 87)"
      ]
     },
     "execution_count": 24,
     "metadata": {},
     "output_type": "execute_result"
    }
   ],
   "source": [
    "X.shape"
   ]
  },
  {
   "cell_type": "code",
   "execution_count": 40,
   "metadata": {},
   "outputs": [],
   "source": [
    "X.reset_index(drop = True, inplace = True)"
   ]
  },
  {
   "cell_type": "code",
   "execution_count": 41,
   "metadata": {},
   "outputs": [
    {
     "data": {
      "text/plain": [
       "(30391, 164)"
      ]
     },
     "execution_count": 41,
     "metadata": {},
     "output_type": "execute_result"
    }
   ],
   "source": [
    "cnt_vector = hlpread.read_from_parquet( os.path.join(PROJECT_ROOT, \n",
    "                hlpread.read_yaml_key('data_source.data_folders'),\n",
    "                hlpread.read_yaml_key('featurize.count_vector.output.folder'),\n",
    "                hlpread.read_yaml_key('featurize.count_vector.output.filename'),\n",
    "))\n",
    "cnt_vector.reset_index(drop = True, inplace = True)\n",
    "cnt_vector.shape"
   ]
  },
  {
   "cell_type": "code",
   "execution_count": 42,
   "metadata": {},
   "outputs": [
    {
     "data": {
      "text/plain": [
       "0        2603.088153\n",
       "1          81.123265\n",
       "2           0.908876\n",
       "3        3692.989815\n",
       "4           0.028088\n",
       "            ...     \n",
       "30386    3692.989815\n",
       "30387       0.914198\n",
       "30388       3.002527\n",
       "30389      22.738838\n",
       "30390       0.794272\n",
       "Name: ROLE_FAMILY_ROLE_CODE_RESOURCE_ROLE_ROLLUP_1_svd_cv, Length: 30391, dtype: float64"
      ]
     },
     "execution_count": 42,
     "metadata": {},
     "output_type": "execute_result"
    }
   ],
   "source": [
    "cnt_vector.ROLE_FAMILY_ROLE_CODE_RESOURCE_ROLE_ROLLUP_1_svd_cv"
   ]
  },
  {
   "cell_type": "code",
   "execution_count": 43,
   "metadata": {},
   "outputs": [
    {
     "data": {
      "text/plain": [
       "0        39353\n",
       "1        17183\n",
       "2        36724\n",
       "3        36135\n",
       "4        42680\n",
       "         ...  \n",
       "30386    23497\n",
       "30387    25139\n",
       "30388    34924\n",
       "30389    80574\n",
       "30390    14354\n",
       "Name: RESOURCE, Length: 30391, dtype: object"
      ]
     },
     "execution_count": 43,
     "metadata": {},
     "output_type": "execute_result"
    }
   ],
   "source": [
    "X.RESOURCE"
   ]
  },
  {
   "cell_type": "code",
   "execution_count": 44,
   "metadata": {},
   "outputs": [
    {
     "data": {
      "text/plain": [
       "(30391, 251)"
      ]
     },
     "execution_count": 44,
     "metadata": {},
     "output_type": "execute_result"
    }
   ],
   "source": [
    "Y = pd.merge(X, cnt_vector, left_index = True, right_index = True, how = 'inner')\n",
    "Y.shape"
   ]
  },
  {
   "cell_type": "code",
   "execution_count": 32,
   "metadata": {},
   "outputs": [
    {
     "data": {
      "text/plain": [
       "ACTION                                                            0\n",
       "RESOURCE                                                          0\n",
       "MGR_ID                                                            0\n",
       "ROLE_ROLLUP_1                                                     0\n",
       "ROLE_ROLLUP_2                                                     0\n",
       "                                                               ... \n",
       "ROLE_FAMILY_ROLE_CODE_RESOURCE_ROLE_ROLLUP_1_svd_cv            2099\n",
       "ROLE_FAMILY_ROLE_CODE_RESOURCE_ROLE_FAMILY_DESC_svd_cv         2099\n",
       "ROLE_FAMILY_ROLE_CODE_ROLE_ROLLUP_1_ROLE_ROLLUP_2_svd_cv       2099\n",
       "ROLE_FAMILY_ROLE_CODE_ROLE_ROLLUP_1_ROLE_DEPTNAME_svd_cv       2099\n",
       "ROLE_FAMILY_ROLE_CODE_ROLE_ROLLUP_1_ROLE_FAMILY_DESC_svd_cv    2099\n",
       "Length: 251, dtype: int64"
      ]
     },
     "execution_count": 32,
     "metadata": {},
     "output_type": "execute_result"
    }
   ],
   "source": [
    "Y.isna().sum()"
   ]
  },
  {
   "cell_type": "code",
   "execution_count": 34,
   "metadata": {},
   "outputs": [
    {
     "data": {
      "text/plain": [
       "0        2603.088153\n",
       "1          81.123265\n",
       "2           0.908876\n",
       "3        3692.989815\n",
       "4           0.028088\n",
       "            ...     \n",
       "32764            NaN\n",
       "32765            NaN\n",
       "32766            NaN\n",
       "32767            NaN\n",
       "32768            NaN\n",
       "Name: ROLE_FAMILY_ROLE_CODE_RESOURCE_ROLE_ROLLUP_1_svd_cv, Length: 30391, dtype: float64"
      ]
     },
     "execution_count": 34,
     "metadata": {},
     "output_type": "execute_result"
    }
   ],
   "source": [
    "Y.ROLE_FAMILY_ROLE_CODE_RESOURCE_ROLE_ROLLUP_1_svd_cv"
   ]
  },
  {
   "cell_type": "code",
   "execution_count": 33,
   "metadata": {},
   "outputs": [
    {
     "data": {
      "text/plain": [
       "0       NaN\n",
       "1       NaN\n",
       "2       NaN\n",
       "3       NaN\n",
       "4       NaN\n",
       "         ..\n",
       "32764   NaN\n",
       "32765   NaN\n",
       "32766   NaN\n",
       "32767   NaN\n",
       "32768   NaN\n",
       "Name: ROLE_FAMILY_ROLE_CODE_RESOURCE_ROLE_ROLLUP_1_svd_cv, Length: 30391, dtype: float64"
      ]
     },
     "execution_count": 33,
     "metadata": {},
     "output_type": "execute_result"
    }
   ],
   "source": [
    "Y[Y.isna()].ROLE_FAMILY_ROLE_CODE_RESOURCE_ROLE_ROLLUP_1_svd_cv"
   ]
  },
  {
   "cell_type": "code",
   "execution_count": null,
   "metadata": {},
   "outputs": [],
   "source": [
    "tfidf_vector  = hlpread.read_from_parquet( os.path.join(PROJECT_ROOT, \n",
    "                hlpread.read_yaml_key('data_source.data_folders'),\n",
    "                hlpread.read_yaml_key('featurize.tfidf.output.folder'),\n",
    "                hlpread.read_yaml_key('featurize.tfidf.output.filename'),\n",
    "))\n",
    "\n",
    "tfidf_vector.shape"
   ]
  },
  {
   "cell_type": "code",
   "execution_count": null,
   "metadata": {},
   "outputs": [],
   "source": [
    "X = pd.merge(freq_encoder_X, kte_encoder_X, left_index = True, right_index = True, how = 'inner')\n",
    "X = pd.merge(tfidf_vector, X, left_index = True, right_index = True, how = 'left')\n",
    "print(X.shape)"
   ]
  },
  {
   "cell_type": "code",
   "execution_count": null,
   "metadata": {},
   "outputs": [],
   "source": [
    "Y = train['ACTION']\n",
    "\n",
    "X = pd.merge(freq_encoder_X, tfidf_vector, left_index = True, right_index = True, how = 'inner')\n",
    "#X = pd.merge(kte_encoder_X, X, left_index = True, right_index = True, how = 'inner')\n",
    "print(X.shape)\n",
    "X.isna().sum()"
   ]
  },
  {
   "cell_type": "code",
   "execution_count": null,
   "metadata": {},
   "outputs": [],
   "source": []
  },
  {
   "cell_type": "code",
   "execution_count": null,
   "metadata": {},
   "outputs": [],
   "source": [
    "from sklearn.linear_model import LogisticRegressionCV\n",
    "lr_cv = LogisticRegressionCV(Cs=7,                            \n",
    "                            max_iter = 100,\n",
    "                            class_weight = 'balance',\n",
    "                            cv = 5)\n",
    "\n",
    "lr_cv.fit(X, Y)"
   ]
  }
 ],
 "metadata": {
  "interpreter": {
   "hash": "bdc0d7d451ce7f6d5d2eccb7f4b3a7e5084394aa9c309b55e1eb76851fdd5e68"
  },
  "kernelspec": {
   "display_name": "Python 3.7.9 ('env': venv)",
   "language": "python",
   "name": "python3"
  },
  "language_info": {
   "codemirror_mode": {
    "name": "ipython",
    "version": 3
   },
   "file_extension": ".py",
   "mimetype": "text/x-python",
   "name": "python",
   "nbconvert_exporter": "python",
   "pygments_lexer": "ipython3",
   "version": "3.7.9"
  },
  "orig_nbformat": 4
 },
 "nbformat": 4,
 "nbformat_minor": 2
}
