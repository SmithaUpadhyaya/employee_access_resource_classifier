{
 "cells": [
  {
   "cell_type": "code",
   "execution_count": 1,
   "metadata": {},
   "outputs": [],
   "source": [
    "import gc\n",
    "import os\n",
    "import numpy as np \n",
    "import pandas as pd \n",
    "import utils.paths as plh\n",
    "import utils.read_utils as hlpread\n",
    "from src.models.feature_eng.TE_KFold import KFoldTargetEncoder\n",
    "from src.models.feature_eng.FreqEncoding import FrequencyEncoding\n",
    "from src.models.feature_eng.Combine_feature import CombineFeatures\n",
    "from src.models.feature_eng.KFoldFreqEncoding import KFoldFrequencyEncoding\n",
    "from src.models.feature_eng.CountVectorizerEncoding import CountVectorizerEncoding\n",
    "from src.models.feature_eng.TFIDFVectorizerEncoding import TFIDFVectorizerEncoding"
   ]
  },
  {
   "cell_type": "markdown",
   "metadata": {},
   "source": [
    "# Pipeline #"
   ]
  },
  {
   "cell_type": "code",
   "execution_count": 2,
   "metadata": {},
   "outputs": [
    {
     "name": "stdout",
     "output_type": "stream",
     "text": [
      "(30391, 10)\n",
      "Index(['ACTION', 'RESOURCE', 'MGR_ID', 'ROLE_ROLLUP_1', 'ROLE_ROLLUP_2',\n",
      "       'ROLE_DEPTNAME', 'ROLE_TITLE', 'ROLE_FAMILY_DESC', 'ROLE_FAMILY',\n",
      "       'ROLE_CODE'],\n",
      "      dtype='object')\n"
     ]
    }
   ],
   "source": [
    "PROJECT_ROOT = plh.get_project_root()\n",
    "\n",
    "train_data = os.path.join(PROJECT_ROOT, \n",
    "                          hlpread.read_yaml_key('data_source.data_folders'),\n",
    "                          hlpread.read_yaml_key('data_source.prepared.folder'),\n",
    "                          hlpread.read_yaml_key('data_source.prepared.clean_train'),\n",
    "                        )\n",
    "train = hlpread.read_from_parquet(train_data)\n",
    "\n",
    "print(train.shape)\n",
    "\n",
    "print(train.columns)\n",
    "#col_use = [x for x in train.columns if not x in ['ROLE_TITLE', 'MGR_ID']]\n",
    "#train = train[col_use]\n",
    "#targetcol = 'ACTION'\n",
    "\n",
    "#te_col = list(train.columns)\n",
    "#te_col.remove(targetcol)"
   ]
  },
  {
   "cell_type": "code",
   "execution_count": 3,
   "metadata": {},
   "outputs": [],
   "source": [
    "from sklearn.pipeline import Pipeline\n",
    "\n",
    "feature_engg = Pipeline( steps = [\n",
    "                                ('combine_feature', CombineFeatures()),\n",
    "                                #('tfidf_vectorizer_encoding', TFIDFVectorizerEncoding()),\n",
    "                                ('KFoldTE', KFoldTargetEncoder(n_fold = 5)),\n",
    "                                ])\n",
    "\n",
    "#X = feature_engg.fit_transform(train) \n"
   ]
  },
  {
   "cell_type": "code",
   "execution_count": null,
   "metadata": {},
   "outputs": [],
   "source": [
    "from sklearn.pipeline import Pipeline\n",
    "\n",
    "#Order of the pipeline matter as this impact the output\n",
    "feature_engg = Pipeline( steps = [\n",
    "                                ('combine_feature', CombineFeatures()),\n",
    "\n",
    "                                ('KFoldTE', KFoldTargetEncoder()),\n",
    "\n",
    "                                ('frequency_encoding', FrequencyEncoding(min_group_size = 2)),\n",
    "\n",
    "                                #('tfidf_vectorizer_encoding', TFIDFVectorizerEncoding()),\n",
    "\n",
    "                                ('count_vectorizer_encoding', CountVectorizerEncoding()),\n",
    "                                ]\n",
    "                              ,verbose =  True\n",
    "                        ) \n",
    "\n",
    "X = feature_engg.fit_transform(train) "
   ]
  },
  {
   "cell_type": "code",
   "execution_count": null,
   "metadata": {},
   "outputs": [],
   "source": [
    "X.shape"
   ]
  },
  {
   "cell_type": "code",
   "execution_count": null,
   "metadata": {},
   "outputs": [],
   "source": [
    "X.isna().sum()"
   ]
  },
  {
   "cell_type": "code",
   "execution_count": null,
   "metadata": {},
   "outputs": [],
   "source": [
    "from sklearn.linear_model import LogisticRegressionCV\n",
    "from sklearn import metrics"
   ]
  },
  {
   "cell_type": "code",
   "execution_count": null,
   "metadata": {},
   "outputs": [],
   "source": [
    "X.columns[30:]"
   ]
  },
  {
   "cell_type": "code",
   "execution_count": null,
   "metadata": {},
   "outputs": [],
   "source": [
    "X[X.columns[30:]].isna().sum()"
   ]
  },
  {
   "cell_type": "code",
   "execution_count": null,
   "metadata": {},
   "outputs": [],
   "source": [
    "logreg = LogisticRegressionCV()\n",
    "logreg.fit(X[X.columns[30:]], train['ACTION'])"
   ]
  },
  {
   "cell_type": "code",
   "execution_count": null,
   "metadata": {},
   "outputs": [],
   "source": [
    "y_pred = logreg.predict(X[X.columns[30:]])"
   ]
  },
  {
   "cell_type": "code",
   "execution_count": null,
   "metadata": {},
   "outputs": [],
   "source": [
    "from sklearn.metrics import confusion_matrix\n",
    "confusion_matrix = confusion_matrix(train['ACTION'], y_pred)\n",
    "print(confusion_matrix)"
   ]
  },
  {
   "cell_type": "code",
   "execution_count": null,
   "metadata": {},
   "outputs": [],
   "source": [
    "from sklearn.metrics import classification_report\n",
    "print(classification_report(train['ACTION'], y_pred))"
   ]
  },
  {
   "cell_type": "code",
   "execution_count": null,
   "metadata": {},
   "outputs": [],
   "source": [
    "from sklearn.metrics import roc_auc_score\n",
    "from sklearn.metrics import roc_curve\n",
    "import matplotlib.pyplot as plt\n",
    "logit_roc_auc = roc_auc_score(train['ACTION'], y_pred)\n",
    "fpr, tpr, thresholds = roc_curve(train['ACTION'], y_pred)\n",
    "plt.figure()\n",
    "plt.plot(fpr, tpr, label='Logistic Regression (area = %0.2f)' % logit_roc_auc)\n",
    "plt.plot([0, 1], [0, 1],'r--')\n",
    "plt.xlim([0.0, 1.0])\n",
    "plt.ylim([0.0, 1.05])\n",
    "plt.xlabel('False Positive Rate')\n",
    "plt.ylabel('True Positive Rate')\n",
    "plt.title('Receiver operating characteristic')\n",
    "plt.legend(loc=\"lower right\")\n",
    "plt.savefig('Log_ROC')\n",
    "plt.show()"
   ]
  },
  {
   "cell_type": "markdown",
   "metadata": {},
   "source": [
    "# Temp #"
   ]
  },
  {
   "cell_type": "code",
   "execution_count": null,
   "metadata": {},
   "outputs": [],
   "source": [
    "from sklearn.pipeline import Pipeline\n",
    "\n",
    "#Order of the pipeline matter as this impact the output\n",
    "feature_engg = Pipeline( steps = [\n",
    "                                ('combine_feature', CombineFeatures()),\n",
    "\n",
    "                                ('KFoldTE', KFoldTargetEncoder()),\n",
    "\n",
    "                                ('frequency_encoding', FrequencyEncoding(min_group_size = 2))])\n",
    "X = feature_engg.fit_transform(train)"
   ]
  },
  {
   "cell_type": "code",
   "execution_count": null,
   "metadata": {},
   "outputs": [],
   "source": [
    "X.shape"
   ]
  },
  {
   "cell_type": "code",
   "execution_count": null,
   "metadata": {},
   "outputs": [],
   "source": [
    "X.reset_index(drop = True, inplace = True)"
   ]
  },
  {
   "cell_type": "code",
   "execution_count": null,
   "metadata": {},
   "outputs": [],
   "source": [
    "cnt_vector = hlpread.read_from_parquet( os.path.join(PROJECT_ROOT, \n",
    "                hlpread.read_yaml_key('data_source.data_folders'),\n",
    "                hlpread.read_yaml_key('featurize.count_vector.output.folder'),\n",
    "                hlpread.read_yaml_key('featurize.count_vector.output.filename'),\n",
    "))\n",
    "cnt_vector.reset_index(drop = True, inplace = True)\n",
    "cnt_vector.shape"
   ]
  },
  {
   "cell_type": "code",
   "execution_count": null,
   "metadata": {},
   "outputs": [],
   "source": [
    "cnt_vector.ROLE_FAMILY_ROLE_CODE_RESOURCE_ROLE_ROLLUP_1_svd_cv"
   ]
  },
  {
   "cell_type": "code",
   "execution_count": null,
   "metadata": {},
   "outputs": [],
   "source": [
    "X.RESOURCE"
   ]
  },
  {
   "cell_type": "code",
   "execution_count": null,
   "metadata": {},
   "outputs": [],
   "source": [
    "Y = pd.merge(X, cnt_vector, left_index = True, right_index = True, how = 'inner')\n",
    "Y.shape"
   ]
  },
  {
   "cell_type": "code",
   "execution_count": null,
   "metadata": {},
   "outputs": [],
   "source": [
    "Y.isna().sum()"
   ]
  },
  {
   "cell_type": "code",
   "execution_count": null,
   "metadata": {},
   "outputs": [],
   "source": [
    "Y.ROLE_FAMILY_ROLE_CODE_RESOURCE_ROLE_ROLLUP_1_svd_cv"
   ]
  },
  {
   "cell_type": "code",
   "execution_count": null,
   "metadata": {},
   "outputs": [],
   "source": [
    "Y[Y.isna()].ROLE_FAMILY_ROLE_CODE_RESOURCE_ROLE_ROLLUP_1_svd_cv"
   ]
  },
  {
   "cell_type": "code",
   "execution_count": null,
   "metadata": {},
   "outputs": [],
   "source": [
    "tfidf_vector  = hlpread.read_from_parquet( os.path.join(PROJECT_ROOT, \n",
    "                hlpread.read_yaml_key('data_source.data_folders'),\n",
    "                hlpread.read_yaml_key('featurize.tfidf.output.folder'),\n",
    "                hlpread.read_yaml_key('featurize.tfidf.output.filename'),\n",
    "))\n",
    "\n",
    "tfidf_vector.shape"
   ]
  },
  {
   "cell_type": "code",
   "execution_count": null,
   "metadata": {},
   "outputs": [],
   "source": [
    "X = pd.merge(freq_encoder_X, kte_encoder_X, left_index = True, right_index = True, how = 'inner')\n",
    "X = pd.merge(tfidf_vector, X, left_index = True, right_index = True, how = 'left')\n",
    "print(X.shape)"
   ]
  },
  {
   "cell_type": "code",
   "execution_count": null,
   "metadata": {},
   "outputs": [],
   "source": [
    "Y = train['ACTION']\n",
    "\n",
    "X = pd.merge(freq_encoder_X, tfidf_vector, left_index = True, right_index = True, how = 'inner')\n",
    "#X = pd.merge(kte_encoder_X, X, left_index = True, right_index = True, how = 'inner')\n",
    "print(X.shape)\n",
    "X.isna().sum()"
   ]
  },
  {
   "cell_type": "code",
   "execution_count": null,
   "metadata": {},
   "outputs": [],
   "source": []
  },
  {
   "cell_type": "code",
   "execution_count": null,
   "metadata": {},
   "outputs": [],
   "source": [
    "from sklearn.linear_model import LogisticRegressionCV\n",
    "lr_cv = LogisticRegressionCV(Cs=7,                            \n",
    "                            max_iter = 100,\n",
    "                            class_weight = 'balance',\n",
    "                            cv = 5)\n",
    "\n",
    "lr_cv.fit(X, Y)"
   ]
  }
 ],
 "metadata": {
  "interpreter": {
   "hash": "bdc0d7d451ce7f6d5d2eccb7f4b3a7e5084394aa9c309b55e1eb76851fdd5e68"
  },
  "kernelspec": {
   "display_name": "Python 3.7.9 ('env': venv)",
   "language": "python",
   "name": "python3"
  },
  "language_info": {
   "codemirror_mode": {
    "name": "ipython",
    "version": 3
   },
   "file_extension": ".py",
   "mimetype": "text/x-python",
   "name": "python",
   "nbconvert_exporter": "python",
   "pygments_lexer": "ipython3",
   "version": "3.9.8"
  },
  "orig_nbformat": 4
 },
 "nbformat": 4,
 "nbformat_minor": 2
}
