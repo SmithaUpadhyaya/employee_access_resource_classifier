{
 "cells": [
  {
   "cell_type": "code",
   "execution_count": 1,
   "metadata": {},
   "outputs": [],
   "source": [
    "import gc\n",
    "import os\n",
    "import numpy as np \n",
    "import pandas as pd \n",
    "import utils.paths as plh\n",
    "import utils.read_utils as hlpread\n",
    "from sklearn.pipeline import Pipeline\n",
    "from sklearn.preprocessing import LabelEncoder\n",
    "from src.models.feature_eng.TE_KFold import KFoldTargetEncoder\n",
    "from src.models.feature_eng.FreqEncoding import FrequencyEncoding\n",
    "from src.models.feature_eng.Combine_feature import CombineFeatures\n",
    "from src.models.feature_eng.KFoldFreqEncoding import KFoldFrequencyEncoding\n",
    "from src.models.feature_eng.CountVectorizerEncoding import CountVectorizerEncoding\n",
    "from src.models.feature_eng.TFIDFVectorizerEncoding import TFIDFVectorizerEncoding"
   ]
  },
  {
   "cell_type": "code",
   "execution_count": 2,
   "metadata": {},
   "outputs": [
    {
     "name": "stdout",
     "output_type": "stream",
     "text": [
      "(30391, 10)\n",
      "Index(['ACTION', 'RESOURCE', 'MGR_ID', 'ROLE_ROLLUP_1', 'ROLE_ROLLUP_2',\n",
      "       'ROLE_DEPTNAME', 'ROLE_TITLE', 'ROLE_FAMILY_DESC', 'ROLE_FAMILY',\n",
      "       'ROLE_CODE'],\n",
      "      dtype='object')\n"
     ]
    }
   ],
   "source": [
    "PROJECT_ROOT = plh.get_project_root()\n",
    "\n",
    "train_data = os.path.join(PROJECT_ROOT, \n",
    "                          hlpread.read_yaml_key('data_source.data_folders'),\n",
    "                          hlpread.read_yaml_key('data_source.prepared.folder'),\n",
    "                          hlpread.read_yaml_key('data_source.prepared.clean_train'),\n",
    "                        )\n",
    "train = hlpread.read_from_parquet(train_data)\n",
    "\n",
    "print(train.shape)\n",
    "\n",
    "print(train.columns)\n",
    "#col_use = [x for x in train.columns if not x in ['ROLE_TITLE', 'MGR_ID']]\n",
    "#train = train[col_use]\n",
    "#targetcol = 'ACTION'\n",
    "\n",
    "#te_col = list(train.columns)\n",
    "#te_col.remove(targetcol)"
   ]
  },
  {
   "cell_type": "code",
   "execution_count": 6,
   "metadata": {},
   "outputs": [
    {
     "name": "stdout",
     "output_type": "stream",
     "text": [
      "[Pipeline] ... (step 1 of 3) Processing combine_feature, total=   0.1s\n",
      "[Pipeline]  (step 2 of 3) Processing tfidf_vectorizer_encoding, total=  12.9s\n",
      "[Pipeline]  (step 3 of 3) Processing frequency_encoding, total=   0.3s\n"
     ]
    },
    {
     "data": {
      "text/plain": [
       "(30391, 1649)"
      ]
     },
     "execution_count": 6,
     "metadata": {},
     "output_type": "execute_result"
    }
   ],
   "source": [
    "#Order of the pipeline matter as this impact the output\n",
    "feature_engg = Pipeline( steps = [\n",
    "                                ('combine_feature', CombineFeatures()),  \n",
    "\n",
    "                                #('label_encoder', LabelEncoder()),                              \n",
    "\n",
    "                                ('tfidf_vectorizer_encoding', TFIDFVectorizerEncoding()),\n",
    "\n",
    "                                #('count_vectorizer_encoding', CountVectorizerEncoding()),\n",
    "\n",
    "                                ('frequency_encoding', FrequencyEncoding()),\n",
    "\n",
    "                                #('KFoldTE', KFoldTargetEncoder()),\n",
    "\n",
    "                                ]\n",
    "                              ,verbose =  True\n",
    "                        )                        \n",
    "\n",
    "\n",
    "X = feature_engg.fit_transform(train) \n",
    "\n",
    "X.shape"
   ]
  },
  {
   "cell_type": "code",
   "execution_count": 8,
   "metadata": {},
   "outputs": [
    {
     "data": {
      "text/html": [
       "<div>\n",
       "<style scoped>\n",
       "    .dataframe tbody tr th:only-of-type {\n",
       "        vertical-align: middle;\n",
       "    }\n",
       "\n",
       "    .dataframe tbody tr th {\n",
       "        vertical-align: top;\n",
       "    }\n",
       "\n",
       "    .dataframe thead th {\n",
       "        text-align: right;\n",
       "    }\n",
       "</style>\n",
       "<table border=\"1\" class=\"dataframe\">\n",
       "  <thead>\n",
       "    <tr style=\"text-align: right;\">\n",
       "      <th></th>\n",
       "      <th>ACTION</th>\n",
       "      <th>MGR_ID</th>\n",
       "      <th>RESOURCE_svd_ROLE_ROLLUP_1_tf_0</th>\n",
       "      <th>RESOURCE_svd_ROLE_ROLLUP_1_tf_1</th>\n",
       "      <th>RESOURCE_svd_ROLE_ROLLUP_1_tf_2</th>\n",
       "      <th>RESOURCE_svd_ROLE_ROLLUP_1_tf_3</th>\n",
       "      <th>RESOURCE_svd_ROLE_ROLLUP_1_tf_4</th>\n",
       "      <th>RESOURCE_svd_ROLE_ROLLUP_1_tf_5</th>\n",
       "      <th>RESOURCE_svd_ROLE_ROLLUP_1_tf_6</th>\n",
       "      <th>RESOURCE_svd_ROLE_ROLLUP_1_tf_7</th>\n",
       "      <th>...</th>\n",
       "      <th>RESOURCE_svd_ROLE_DEPTNAME_ROLE_CODE_tf_183</th>\n",
       "      <th>RESOURCE_svd_ROLE_DEPTNAME_ROLE_CODE_tf_184</th>\n",
       "      <th>RESOURCE_svd_ROLE_DEPTNAME_ROLE_CODE_tf_185</th>\n",
       "      <th>ROLE_DEPTNAME_FreqEnc</th>\n",
       "      <th>ROLE_ROLLUP_1_ROLE_DEPTNAME_FreqEnc</th>\n",
       "      <th>ROLE_ROLLUP_2_ROLE_DEPTNAME_FreqEnc</th>\n",
       "      <th>ROLE_ROLLUP_2_ROLE_CODE_FreqEnc</th>\n",
       "      <th>ROLE_DEPTNAME_ROLE_FAMILY_DESC_FreqEnc</th>\n",
       "      <th>ROLE_DEPTNAME_ROLE_FAMILY_FreqEnc</th>\n",
       "      <th>ROLE_DEPTNAME_ROLE_CODE_FreqEnc</th>\n",
       "    </tr>\n",
       "  </thead>\n",
       "  <tbody>\n",
       "    <tr>\n",
       "      <th>0</th>\n",
       "      <td>1</td>\n",
       "      <td>85475</td>\n",
       "      <td>0.999737</td>\n",
       "      <td>-0.010067</td>\n",
       "      <td>-0.016670</td>\n",
       "      <td>-0.006801</td>\n",
       "      <td>-0.004719</td>\n",
       "      <td>-0.004172</td>\n",
       "      <td>-0.002957</td>\n",
       "      <td>-0.003054</td>\n",
       "      <td>...</td>\n",
       "      <td>0.006385</td>\n",
       "      <td>0.024498</td>\n",
       "      <td>0.024256</td>\n",
       "      <td>1.845098</td>\n",
       "      <td>1.806180</td>\n",
       "      <td>1.806180</td>\n",
       "      <td>2.607455</td>\n",
       "      <td>1.724276</td>\n",
       "      <td>1.778151</td>\n",
       "      <td>1.301030</td>\n",
       "    </tr>\n",
       "    <tr>\n",
       "      <th>1</th>\n",
       "      <td>1</td>\n",
       "      <td>85475</td>\n",
       "      <td>0.999737</td>\n",
       "      <td>-0.010067</td>\n",
       "      <td>-0.016670</td>\n",
       "      <td>-0.006801</td>\n",
       "      <td>-0.004719</td>\n",
       "      <td>-0.004172</td>\n",
       "      <td>-0.002957</td>\n",
       "      <td>-0.003054</td>\n",
       "      <td>...</td>\n",
       "      <td>0.006385</td>\n",
       "      <td>0.024498</td>\n",
       "      <td>0.024256</td>\n",
       "      <td>2.113943</td>\n",
       "      <td>2.096910</td>\n",
       "      <td>2.096910</td>\n",
       "      <td>2.555094</td>\n",
       "      <td>1.778151</td>\n",
       "      <td>1.929419</td>\n",
       "      <td>1.556303</td>\n",
       "    </tr>\n",
       "    <tr>\n",
       "      <th>2</th>\n",
       "      <td>1</td>\n",
       "      <td>85475</td>\n",
       "      <td>0.999737</td>\n",
       "      <td>-0.010067</td>\n",
       "      <td>-0.016670</td>\n",
       "      <td>-0.006801</td>\n",
       "      <td>-0.004719</td>\n",
       "      <td>-0.004172</td>\n",
       "      <td>-0.002957</td>\n",
       "      <td>-0.003054</td>\n",
       "      <td>...</td>\n",
       "      <td>0.006385</td>\n",
       "      <td>0.024498</td>\n",
       "      <td>0.024256</td>\n",
       "      <td>2.113943</td>\n",
       "      <td>2.096910</td>\n",
       "      <td>2.096910</td>\n",
       "      <td>2.607455</td>\n",
       "      <td>1.778151</td>\n",
       "      <td>1.929419</td>\n",
       "      <td>1.301030</td>\n",
       "    </tr>\n",
       "    <tr>\n",
       "      <th>3</th>\n",
       "      <td>1</td>\n",
       "      <td>1540</td>\n",
       "      <td>0.952597</td>\n",
       "      <td>-0.008010</td>\n",
       "      <td>-0.006126</td>\n",
       "      <td>0.003050</td>\n",
       "      <td>0.147385</td>\n",
       "      <td>-0.045211</td>\n",
       "      <td>0.004295</td>\n",
       "      <td>0.010439</td>\n",
       "      <td>...</td>\n",
       "      <td>-0.012236</td>\n",
       "      <td>0.007490</td>\n",
       "      <td>-0.002990</td>\n",
       "      <td>2.190332</td>\n",
       "      <td>2.082785</td>\n",
       "      <td>2.075547</td>\n",
       "      <td>1.278754</td>\n",
       "      <td>0.698970</td>\n",
       "      <td>1.579784</td>\n",
       "      <td>0.698970</td>\n",
       "    </tr>\n",
       "    <tr>\n",
       "      <th>4</th>\n",
       "      <td>1</td>\n",
       "      <td>794</td>\n",
       "      <td>0.952597</td>\n",
       "      <td>-0.008010</td>\n",
       "      <td>-0.006126</td>\n",
       "      <td>0.003050</td>\n",
       "      <td>0.147385</td>\n",
       "      <td>-0.045211</td>\n",
       "      <td>0.004295</td>\n",
       "      <td>0.010439</td>\n",
       "      <td>...</td>\n",
       "      <td>-0.012236</td>\n",
       "      <td>0.007490</td>\n",
       "      <td>-0.002990</td>\n",
       "      <td>2.739572</td>\n",
       "      <td>1.732394</td>\n",
       "      <td>1.322219</td>\n",
       "      <td>1.653213</td>\n",
       "      <td>1.000000</td>\n",
       "      <td>2.699838</td>\n",
       "      <td>2.252853</td>\n",
       "    </tr>\n",
       "  </tbody>\n",
       "</table>\n",
       "<p>5 rows × 1626 columns</p>\n",
       "</div>"
      ],
      "text/plain": [
       "   ACTION  MGR_ID  RESOURCE_svd_ROLE_ROLLUP_1_tf_0  \\\n",
       "0       1   85475                         0.999737   \n",
       "1       1   85475                         0.999737   \n",
       "2       1   85475                         0.999737   \n",
       "3       1    1540                         0.952597   \n",
       "4       1     794                         0.952597   \n",
       "\n",
       "   RESOURCE_svd_ROLE_ROLLUP_1_tf_1  RESOURCE_svd_ROLE_ROLLUP_1_tf_2  \\\n",
       "0                        -0.010067                        -0.016670   \n",
       "1                        -0.010067                        -0.016670   \n",
       "2                        -0.010067                        -0.016670   \n",
       "3                        -0.008010                        -0.006126   \n",
       "4                        -0.008010                        -0.006126   \n",
       "\n",
       "   RESOURCE_svd_ROLE_ROLLUP_1_tf_3  RESOURCE_svd_ROLE_ROLLUP_1_tf_4  \\\n",
       "0                        -0.006801                        -0.004719   \n",
       "1                        -0.006801                        -0.004719   \n",
       "2                        -0.006801                        -0.004719   \n",
       "3                         0.003050                         0.147385   \n",
       "4                         0.003050                         0.147385   \n",
       "\n",
       "   RESOURCE_svd_ROLE_ROLLUP_1_tf_5  RESOURCE_svd_ROLE_ROLLUP_1_tf_6  \\\n",
       "0                        -0.004172                        -0.002957   \n",
       "1                        -0.004172                        -0.002957   \n",
       "2                        -0.004172                        -0.002957   \n",
       "3                        -0.045211                         0.004295   \n",
       "4                        -0.045211                         0.004295   \n",
       "\n",
       "   RESOURCE_svd_ROLE_ROLLUP_1_tf_7  ...  \\\n",
       "0                        -0.003054  ...   \n",
       "1                        -0.003054  ...   \n",
       "2                        -0.003054  ...   \n",
       "3                         0.010439  ...   \n",
       "4                         0.010439  ...   \n",
       "\n",
       "   RESOURCE_svd_ROLE_DEPTNAME_ROLE_CODE_tf_183  \\\n",
       "0                                     0.006385   \n",
       "1                                     0.006385   \n",
       "2                                     0.006385   \n",
       "3                                    -0.012236   \n",
       "4                                    -0.012236   \n",
       "\n",
       "   RESOURCE_svd_ROLE_DEPTNAME_ROLE_CODE_tf_184  \\\n",
       "0                                     0.024498   \n",
       "1                                     0.024498   \n",
       "2                                     0.024498   \n",
       "3                                     0.007490   \n",
       "4                                     0.007490   \n",
       "\n",
       "   RESOURCE_svd_ROLE_DEPTNAME_ROLE_CODE_tf_185  ROLE_DEPTNAME_FreqEnc  \\\n",
       "0                                     0.024256               1.845098   \n",
       "1                                     0.024256               2.113943   \n",
       "2                                     0.024256               2.113943   \n",
       "3                                    -0.002990               2.190332   \n",
       "4                                    -0.002990               2.739572   \n",
       "\n",
       "   ROLE_ROLLUP_1_ROLE_DEPTNAME_FreqEnc  ROLE_ROLLUP_2_ROLE_DEPTNAME_FreqEnc  \\\n",
       "0                             1.806180                             1.806180   \n",
       "1                             2.096910                             2.096910   \n",
       "2                             2.096910                             2.096910   \n",
       "3                             2.082785                             2.075547   \n",
       "4                             1.732394                             1.322219   \n",
       "\n",
       "   ROLE_ROLLUP_2_ROLE_CODE_FreqEnc  ROLE_DEPTNAME_ROLE_FAMILY_DESC_FreqEnc  \\\n",
       "0                         2.607455                                1.724276   \n",
       "1                         2.555094                                1.778151   \n",
       "2                         2.607455                                1.778151   \n",
       "3                         1.278754                                0.698970   \n",
       "4                         1.653213                                1.000000   \n",
       "\n",
       "   ROLE_DEPTNAME_ROLE_FAMILY_FreqEnc  ROLE_DEPTNAME_ROLE_CODE_FreqEnc  \n",
       "0                           1.778151                         1.301030  \n",
       "1                           1.929419                         1.556303  \n",
       "2                           1.929419                         1.301030  \n",
       "3                           1.579784                         0.698970  \n",
       "4                           2.699838                         2.252853  \n",
       "\n",
       "[5 rows x 1626 columns]"
      ]
     },
     "execution_count": 8,
     "metadata": {},
     "output_type": "execute_result"
    }
   ],
   "source": [
    "feature_columns = X.select_dtypes(exclude = ['object']).columns\n",
    "X[feature_columns].head()"
   ]
  },
  {
   "cell_type": "code",
   "execution_count": null,
   "metadata": {},
   "outputs": [],
   "source": [
    "from sklearn.feature_selection import chi2\n",
    "from sklearn.feature_selection import SelectKBest\n",
    "\n",
    "chi2_feature = SelectKBest(chi2, k = 29)\n",
    "best_feature = chi2_feature.fit_transform(X_2, X.ACTION)\n"
   ]
  },
  {
   "cell_type": "code",
   "execution_count": null,
   "metadata": {},
   "outputs": [],
   "source": [
    "chi2_feature.scores_"
   ]
  },
  {
   "cell_type": "code",
   "execution_count": null,
   "metadata": {},
   "outputs": [],
   "source": [
    "chi2_feature.scores_.argsort()"
   ]
  },
  {
   "cell_type": "code",
   "execution_count": null,
   "metadata": {},
   "outputs": [],
   "source": [
    "chi2_feature.feature_names_in_"
   ]
  },
  {
   "cell_type": "code",
   "execution_count": null,
   "metadata": {},
   "outputs": [],
   "source": [
    "chi2_feature.feature_names_in_[chi2_feature.scores_.argsort()]"
   ]
  },
  {
   "cell_type": "code",
   "execution_count": null,
   "metadata": {},
   "outputs": [],
   "source": [
    "best_feature"
   ]
  },
  {
   "cell_type": "markdown",
   "metadata": {},
   "source": [
    "## Eval model ##"
   ]
  },
  {
   "cell_type": "code",
   "execution_count": 3,
   "metadata": {},
   "outputs": [],
   "source": [
    "from src.models.predict_model import employee_access_resource\n",
    "\n",
    "model_obj = employee_access_resource(os.path.join(PROJECT_ROOT, hlpread.read_yaml_key('trained_model.model_path')),\n",
    "                                     os.path.join(PROJECT_ROOT, hlpread.read_yaml_key('trained_model.feature_eng')))\n"
   ]
  },
  {
   "cell_type": "code",
   "execution_count": 4,
   "metadata": {},
   "outputs": [
    {
     "data": {
      "text/plain": [
       "<AxesSubplot:>"
      ]
     },
     "execution_count": 4,
     "metadata": {},
     "output_type": "execute_result"
    },
    {
     "data": {
      "image/png": "[encoded data removed]",
      "text/plain": [
       "<Figure size 640x480 with 1 Axes>"
      ]
     },
     "metadata": {},
     "output_type": "display_data"
    }
   ],
   "source": [
    "feat_importances = pd.Series(model_obj.model.feature_importances_, index = model_obj.model.feature_names_in_)\n",
    "feat_importances.nlargest(20).plot(kind='barh')"
   ]
  },
  {
   "cell_type": "code",
   "execution_count": 5,
   "metadata": {},
   "outputs": [],
   "source": [
    "#train.drop(['ROLE_TITLE', 'MGR_ID'], axis = 1, inplace = True)\n",
    "Y_predictions_by_class = model_obj.predict(train).astype(float) #Return 2d numpy array which is the probaility for each class label\n",
    "Y = train['ACTION'].astype(float)"
   ]
  },
  {
   "cell_type": "code",
   "execution_count": 6,
   "metadata": {},
   "outputs": [
    {
     "data": {
      "text/plain": [
       "array([[0.0830934 , 0.9169066 ],\n",
       "       [0.03457385, 0.96542615],\n",
       "       [0.09668934, 0.90331066],\n",
       "       ...,\n",
       "       [0.04697609, 0.95302391],\n",
       "       [0.12375289, 0.87624711],\n",
       "       [0.07106459, 0.92893541]])"
      ]
     },
     "execution_count": 6,
     "metadata": {},
     "output_type": "execute_result"
    }
   ],
   "source": [
    "Y_predictions_by_class"
   ]
  },
  {
   "cell_type": "code",
   "execution_count": 8,
   "metadata": {},
   "outputs": [],
   "source": [
    "\n",
    "from sklearn.metrics import roc_curve\n",
    "import matplotlib.pyplot as plt\n",
    "\n",
    "fpr, tpr, thresholds = roc_curve(Y, Y_predictions_by_class[:,1])\n",
    "roc_auc_curve_df = pd.DataFrame()    \n",
    "roc_auc_curve_df['false_positive_rates'] = fpr\n",
    "roc_auc_curve_df['true_positive_rates'] = tpr\n",
    "roc_auc_curve_df['thresholds'] = thresholds\n",
    "roc_auc_curve_df.sort_values(by = 'true_positive_rates', ascending = False, inplace = True)"
   ]
  },
  {
   "cell_type": "code",
   "execution_count": 9,
   "metadata": {},
   "outputs": [
    {
     "data": {
      "text/plain": [
       "0.765507556653007"
      ]
     },
     "execution_count": 9,
     "metadata": {},
     "output_type": "execute_result"
    }
   ],
   "source": [
    "from sklearn.metrics import roc_auc_score\n",
    "auc_curve = roc_auc_score(Y, Y_predictions_by_class[:,1])\n",
    "auc_curve"
   ]
  },
  {
   "cell_type": "code",
   "execution_count": 10,
   "metadata": {},
   "outputs": [
    {
     "data": {
      "image/png": "[encoded data removed]",
      "text/plain": [
       "<Figure size 750x750 with 1 Axes>"
      ]
     },
     "metadata": {},
     "output_type": "display_data"
    }
   ],
   "source": [
    "fig, ax = plt.subplots(figsize = (7.5, 7.5))\n",
    "ax.plot(roc_auc_curve_df['false_positive_rates'], roc_auc_curve_df['true_positive_rates'],  color = 'green', label = 'ROC Curve') #, marker = 'o'\n",
    "\n",
    "ax.tick_params(axis = 'both', labelcolor = 'green')\n",
    "ax.set_xlabel('False positive rate')\n",
    "ax.set_ylabel('True positive rate')\n",
    "label_str = str.format('ROC-AUC: {0}',  round(auc_curve, 3))\n",
    "#ax.text(0.5, 0, label_str, fontsize = 6)"
   ]
  },
  {
   "cell_type": "code",
   "execution_count": 18,
   "metadata": {},
   "outputs": [
    {
     "data": {
      "text/html": [
       "<div>\n",
       "<style scoped>\n",
       "    .dataframe tbody tr th:only-of-type {\n",
       "        vertical-align: middle;\n",
       "    }\n",
       "\n",
       "    .dataframe tbody tr th {\n",
       "        vertical-align: top;\n",
       "    }\n",
       "\n",
       "    .dataframe thead th {\n",
       "        text-align: right;\n",
       "    }\n",
       "</style>\n",
       "<table border=\"1\" class=\"dataframe\">\n",
       "  <thead>\n",
       "    <tr style=\"text-align: right;\">\n",
       "      <th></th>\n",
       "      <th>false_positive_rates</th>\n",
       "      <th>true_positive_rates</th>\n",
       "      <th>thresholds</th>\n",
       "    </tr>\n",
       "  </thead>\n",
       "  <tbody>\n",
       "    <tr>\n",
       "      <th>3470</th>\n",
       "      <td>0.421196</td>\n",
       "      <td>0.794683</td>\n",
       "      <td>0.920003</td>\n",
       "    </tr>\n",
       "    <tr>\n",
       "      <th>3469</th>\n",
       "      <td>0.421196</td>\n",
       "      <td>0.794613</td>\n",
       "      <td>0.920079</td>\n",
       "    </tr>\n",
       "    <tr>\n",
       "      <th>3468</th>\n",
       "      <td>0.421196</td>\n",
       "      <td>0.794158</td>\n",
       "      <td>0.920099</td>\n",
       "    </tr>\n",
       "    <tr>\n",
       "      <th>3467</th>\n",
       "      <td>0.420652</td>\n",
       "      <td>0.793983</td>\n",
       "      <td>0.920109</td>\n",
       "    </tr>\n",
       "    <tr>\n",
       "      <th>3466</th>\n",
       "      <td>0.420652</td>\n",
       "      <td>0.793913</td>\n",
       "      <td>0.920117</td>\n",
       "    </tr>\n",
       "    <tr>\n",
       "      <th>...</th>\n",
       "      <td>...</td>\n",
       "      <td>...</td>\n",
       "      <td>...</td>\n",
       "    </tr>\n",
       "    <tr>\n",
       "      <th>4</th>\n",
       "      <td>0.000000</td>\n",
       "      <td>0.000595</td>\n",
       "      <td>0.969659</td>\n",
       "    </tr>\n",
       "    <tr>\n",
       "      <th>3</th>\n",
       "      <td>0.000000</td>\n",
       "      <td>0.000455</td>\n",
       "      <td>0.969783</td>\n",
       "    </tr>\n",
       "    <tr>\n",
       "      <th>2</th>\n",
       "      <td>0.000000</td>\n",
       "      <td>0.000350</td>\n",
       "      <td>0.969866</td>\n",
       "    </tr>\n",
       "    <tr>\n",
       "      <th>1</th>\n",
       "      <td>0.000000</td>\n",
       "      <td>0.000210</td>\n",
       "      <td>0.974337</td>\n",
       "    </tr>\n",
       "    <tr>\n",
       "      <th>0</th>\n",
       "      <td>0.000000</td>\n",
       "      <td>0.000000</td>\n",
       "      <td>1.974337</td>\n",
       "    </tr>\n",
       "  </tbody>\n",
       "</table>\n",
       "<p>3471 rows × 3 columns</p>\n",
       "</div>"
      ],
      "text/plain": [
       "      false_positive_rates  true_positive_rates  thresholds\n",
       "3470              0.421196             0.794683    0.920003\n",
       "3469              0.421196             0.794613    0.920079\n",
       "3468              0.421196             0.794158    0.920099\n",
       "3467              0.420652             0.793983    0.920109\n",
       "3466              0.420652             0.793913    0.920117\n",
       "...                    ...                  ...         ...\n",
       "4                 0.000000             0.000595    0.969659\n",
       "3                 0.000000             0.000455    0.969783\n",
       "2                 0.000000             0.000350    0.969866\n",
       "1                 0.000000             0.000210    0.974337\n",
       "0                 0.000000             0.000000    1.974337\n",
       "\n",
       "[3471 rows x 3 columns]"
      ]
     },
     "execution_count": 18,
     "metadata": {},
     "output_type": "execute_result"
    }
   ],
   "source": [
    "#roc_auc_curve_df[4000:]\n",
    "roc_auc_curve_df[roc_auc_curve_df.thresholds>=0.92]"
   ]
  },
  {
   "cell_type": "code",
   "execution_count": 27,
   "metadata": {},
   "outputs": [
    {
     "name": "stdout",
     "output_type": "stream",
     "text": [
      "Best Threshold=0.929189, G-Mean=0.696\n"
     ]
    }
   ],
   "source": [
    "# calculate the g-mean for each threshold\n",
    "gmeans = np.sqrt(tpr * (1-fpr))\n",
    "\n",
    "# locate the index of the largest g-mean\n",
    "ix = np.argmax(gmeans)\n",
    "print('Best Threshold=%f, G-Mean=%.3f' % (thresholds[ix], gmeans[ix]))"
   ]
  },
  {
   "cell_type": "code",
   "execution_count": 25,
   "metadata": {},
   "outputs": [
    {
     "data": {
      "text/plain": [
       "array([0, 1, 0, ..., 1, 0, 1])"
      ]
     },
     "execution_count": 25,
     "metadata": {},
     "output_type": "execute_result"
    }
   ],
   "source": [
    "#Y_pred = Y_predictions_by_class.argmax(-1)  \n",
    "#1.0 if Y_predictions_by_class[:,1] > 0.9 else 0.0\n",
    "threshold = 0.92\n",
    "Y = np.array(Y).astype(int)\n",
    "Y_pred = (Y_predictions_by_class[:,1] > threshold).astype(int)\n",
    "Y_pred"
   ]
  },
  {
   "cell_type": "code",
   "execution_count": 26,
   "metadata": {},
   "outputs": [
    {
     "data": {
      "image/png": "[encoded data removed]",
      "text/plain": [
       "<Figure size 300x300 with 1 Axes>"
      ]
     },
     "metadata": {},
     "output_type": "display_data"
    }
   ],
   "source": [
    "from sklearn.metrics import confusion_matrix\n",
    "conf_matrix = confusion_matrix(Y, Y_pred)\n",
    "\n",
    "#print(conf_matrix)\n",
    "\n",
    "fig, ax = plt.subplots(figsize=(3, 3))\n",
    "ax.matshow(conf_matrix, cmap = plt.cm.Blues, alpha=0.3)\n",
    "\n",
    "for i in range(conf_matrix.shape[0]):\n",
    "\n",
    "    for j in range(conf_matrix.shape[1]):\n",
    "\n",
    "        ax.text(x = j, y = i,s = conf_matrix[i, j], va = 'center', ha = 'center', size = 'xx-large')\n",
    "\n",
    "\n",
    "plt.ylabel('Actuals', fontsize=18)\n",
    "plt.xlabel('Predictions', fontsize=18)\n",
    "plt.title(f'Confusion Matrix (threshold: {threshold})', fontsize = 18)\n",
    "plt.show()"
   ]
  },
  {
   "cell_type": "code",
   "execution_count": null,
   "metadata": {},
   "outputs": [],
   "source": []
  }
 ],
 "metadata": {
  "interpreter": {
   "hash": "bdc0d7d451ce7f6d5d2eccb7f4b3a7e5084394aa9c309b55e1eb76851fdd5e68"
  },
  "kernelspec": {
   "display_name": "Python 3.7.9 ('env': venv)",
   "language": "python",
   "name": "python3"
  },
  "language_info": {
   "codemirror_mode": {
    "name": "ipython",
    "version": 3
   },
   "file_extension": ".py",
   "mimetype": "text/x-python",
   "name": "python",
   "nbconvert_exporter": "python",
   "pygments_lexer": "ipython3",
   "version": "3.9.8"
  },
  "orig_nbformat": 4
 },
 "nbformat": 4,
 "nbformat_minor": 2
}
